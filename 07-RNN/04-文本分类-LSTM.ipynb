{
 "cells": [
  {
   "cell_type": "markdown",
   "metadata": {},
   "source": [
    "#### RNN（Recurrent Neural Network）是一类用于处理序列数据的神经网络\n",
    "#### 多输入单输出(文本分类), 单输入多输出(图像说明),  多输入多输出（输入和输出个数不同）（机器翻译）"
   ]
  },
  {
   "cell_type": "markdown",
   "metadata": {},
   "source": [
    "#### 循环神经网络的隐藏层的值s不仅仅取决于当前这次的输入x，还取决于上一次隐藏层的值s。权重矩阵 W就是隐藏层上一次的值作为这一次的输入的权重"
   ]
  },
  {
   "cell_type": "code",
   "execution_count": 1,
   "metadata": {},
   "outputs": [],
   "source": [
    "import tensorflow as tf\n",
    "from tensorflow import keras\n",
    "import numpy as np\n",
    "import sklearn \n",
    "import matplotlib.pyplot as plt\n",
    "from sklearn.preprocessing import StandardScaler\n",
    "import os\n",
    "import pandas as pd\n",
    "from sklearn.preprocessing import StandardScaler\n",
    "from sklearn.datasets import fetch_california_housing\n",
    "from sklearn.model_selection import train_test_split"
   ]
  },
  {
   "cell_type": "code",
   "execution_count": 2,
   "metadata": {},
   "outputs": [],
   "source": [
    "imdb = keras.datasets.imdb\n",
    "vocab_size = 10000\n",
    "index_from = 3\n",
    "\n",
    "# Keras会预处理这些文字，开始字符是1，每个字符都被+3了\n",
    "# num_words：词频最高的前num_words个词\n",
    "# index_from：实际使用的词语的索引起始值\n",
    "(train_data, train_labels), (test_data, test_labels) = imdb.load_data(\n",
    "    num_words = vocab_size, index_from = index_from)"
   ]
  },
  {
   "cell_type": "code",
   "execution_count": 3,
   "metadata": {},
   "outputs": [
    {
     "name": "stdout",
     "output_type": "stream",
     "text": [
      "[1, 14, 22, 16, 43, 530, 973, 1622, 1385, 65, 458, 4468, 66, 3941, 4, 173, 36, 256, 5, 25, 100, 43, 838, 112, 50, 670, 2, 9, 35, 480, 284, 5, 150, 4, 172, 112, 167, 2, 336, 385, 39, 4, 172, 4536, 1111, 17, 546, 38, 13, 447, 4, 192, 50, 16, 6, 147, 2025, 19, 14, 22, 4, 1920, 4613, 469, 4, 22, 71, 87, 12, 16, 43, 530, 38, 76, 15, 13, 1247, 4, 22, 17, 515, 17, 12, 16, 626, 18, 2, 5, 62, 386, 12, 8, 316, 8, 106, 5, 4, 2223, 5244, 16, 480, 66, 3785, 33, 4, 130, 12, 16, 38, 619, 5, 25, 124, 51, 36, 135, 48, 25, 1415, 33, 6, 22, 12, 215, 28, 77, 52, 5, 14, 407, 16, 82, 2, 8, 4, 107, 117, 5952, 15, 256, 4, 2, 7, 3766, 5, 723, 36, 71, 43, 530, 476, 26, 400, 317, 46, 7, 4, 2, 1029, 13, 104, 88, 4, 381, 15, 297, 98, 32, 2071, 56, 26, 141, 6, 194, 7486, 18, 4, 226, 22, 21, 134, 476, 26, 480, 5, 144, 30, 5535, 18, 51, 36, 28, 224, 92, 25, 104, 4, 226, 65, 16, 38, 1334, 88, 12, 16, 283, 5, 16, 4472, 113, 103, 32, 15, 16, 5345, 19, 178, 32] 1\n",
      "(25000,) (25000,)\n",
      "218 189\n"
     ]
    }
   ],
   "source": [
    "print(train_data[0], train_labels[0])\n",
    "print(train_data.shape, train_labels.shape)\n",
    "print(len(train_data[0]), len(train_data[1]))"
   ]
  },
  {
   "cell_type": "code",
   "execution_count": 4,
   "metadata": {},
   "outputs": [
    {
     "name": "stdout",
     "output_type": "stream",
     "text": [
      "88584\n"
     ]
    }
   ],
   "source": [
    "# 词库\n",
    "word_index = imdb.get_word_index()\n",
    "print(len(word_index))"
   ]
  },
  {
   "cell_type": "code",
   "execution_count": 5,
   "metadata": {},
   "outputs": [
    {
     "data": {
      "text/plain": [
       "[('fawn', 34704),\n",
       " ('tsukino', 52009),\n",
       " ('nunnery', 52010),\n",
       " ('sonja', 16819),\n",
       " ('vani', 63954)]"
      ]
     },
     "execution_count": 5,
     "metadata": {},
     "output_type": "execute_result"
    }
   ],
   "source": [
    "# 词库每个值加3\n",
    "word_index = {key:(value + 3) for key, value in word_index.items()}\n",
    "list(word_index.items())[:5]"
   ]
  },
  {
   "cell_type": "code",
   "execution_count": 6,
   "metadata": {},
   "outputs": [],
   "source": [
    "# 设置词库的前4个值\n",
    "# 不够的位数，补0\n",
    "word_index[\"<PAD>\"] = 0\n",
    "word_index[\"<START>\"] = 1\n",
    "# 识别不了的，用UNK\n",
    "word_index[\"<UNK>\"] = 2\n",
    "word_index[\"<END>\"] = 3\n",
    "\n",
    "# 词库的key和value交换位置\n",
    "reverse_word_index = {value:key for key, value in word_index.items()}\n",
    "\n",
    "# 在词库中，取得对应的单词\n",
    "def decode(data):\n",
    "    return \" \".join([reverse_word_index.get(index, \"<UNK>\") for index in data])"
   ]
  },
  {
   "cell_type": "code",
   "execution_count": 7,
   "metadata": {},
   "outputs": [
    {
     "data": {
      "text/plain": [
       "\"<START> this film was just brilliant casting location scenery story direction everyone's really suited the part they played and you could just imagine being there robert <UNK> is an amazing actor and now the same being director <UNK> father came from the same scottish island as myself so i loved the fact there was a real connection with this film the witty remarks throughout the film were great it was just brilliant so much that i bought the film as soon as it was released for <UNK> and would recommend it to everyone to watch and the fly fishing was amazing really cried at the end it was so sad and you know what they say if you cry at a film it must have been good and this definitely was also <UNK> to the two little boy's that played the <UNK> of norman and paul they were just brilliant children are often left out of the <UNK> list i think because the stars that play them all grown up are such a big profile for the whole film but these children are amazing and should be praised for what they have done don't you think the whole story was so lovely because it was true and was someone's life after all that was shared with us all\""
      ]
     },
     "execution_count": 7,
     "metadata": {},
     "output_type": "execute_result"
    }
   ],
   "source": [
    "# 查看对应的内容\n",
    "decode(train_data[0])"
   ]
  },
  {
   "cell_type": "code",
   "execution_count": 8,
   "metadata": {},
   "outputs": [],
   "source": [
    "# 涉资最大长度\n",
    "maxlen=500\n",
    "\n",
    "# 补齐长度\n",
    "train_data = keras.preprocessing.sequence.pad_sequences(\n",
    "    train_data,\n",
    "    maxlen=maxlen,\n",
    "    dtype='int32',\n",
    "    padding='post',\n",
    "    truncating='pre',\n",
    "    value=0.0,)\n",
    "\n",
    "test_data = keras.preprocessing.sequence.pad_sequences(\n",
    "    test_data,\n",
    "    maxlen=maxlen,\n",
    "    dtype='int32',\n",
    "    padding='post',\n",
    "    truncating='pre',\n",
    "    value=0.0,)"
   ]
  },
  {
   "cell_type": "markdown",
   "metadata": {},
   "source": [
    "### LSTM"
   ]
  },
  {
   "cell_type": "code",
   "execution_count": 9,
   "metadata": {},
   "outputs": [
    {
     "name": "stdout",
     "output_type": "stream",
     "text": [
      "Model: \"sequential\"\n",
      "_________________________________________________________________\n",
      "Layer (type)                 Output Shape              Param #   \n",
      "=================================================================\n",
      "embedding (Embedding)        (None, 500, 16)           160000    \n",
      "_________________________________________________________________\n",
      "lstm (LSTM)                  (None, 500, 64)           20736     \n",
      "_________________________________________________________________\n",
      "global_average_pooling1d (Gl (None, 64)                0         \n",
      "_________________________________________________________________\n",
      "dense (Dense)                (None, 64)                4160      \n",
      "_________________________________________________________________\n",
      "dense_1 (Dense)              (None, 1)                 65        \n",
      "=================================================================\n",
      "Total params: 184,961\n",
      "Trainable params: 184,961\n",
      "Non-trainable params: 0\n",
      "_________________________________________________________________\n"
     ]
    }
   ],
   "source": [
    "embedding_dim = 16\n",
    "\n",
    "simple_rnn_model = keras.models.Sequential([\n",
    "    keras.layers.Embedding(input_dim = vocab_size, output_dim = embedding_dim, input_length =maxlen),\n",
    "    \n",
    "    # units: 正整数，输出空间的维度。\n",
    "    # return_sequences: 布尔值。是返回输出序列中的最后一个输出，还是全部序列。\n",
    "    keras.layers.LSTM(units=64, return_sequences=True),\n",
    "    keras.layers.GlobalAveragePooling1D(),\n",
    "    keras.layers.Dense(64, activation='relu'),\n",
    "    keras.layers.Dense(1, activation='sigmoid')  \n",
    "])\n",
    "\n",
    "simple_rnn_model.summary()"
   ]
  },
  {
   "cell_type": "code",
   "execution_count": 10,
   "metadata": {},
   "outputs": [],
   "source": [
    "simple_rnn_model.compile(optimizer=\"adam\", loss=\"binary_crossentropy\", metrics=[\"accuracy\"])"
   ]
  },
  {
   "cell_type": "code",
   "execution_count": 11,
   "metadata": {},
   "outputs": [
    {
     "name": "stdout",
     "output_type": "stream",
     "text": [
      "Epoch 1/20\n",
      "137/137 [==============================] - 70s 511ms/step - loss: 0.6487 - accuracy: 0.6195 - val_loss: 0.6068 - val_accuracy: 0.7023\n",
      "Epoch 2/20\n",
      "137/137 [==============================] - 83s 604ms/step - loss: 0.6230 - accuracy: 0.6766 - val_loss: 0.6200 - val_accuracy: 0.6811\n",
      "Epoch 3/20\n",
      "137/137 [==============================] - 87s 632ms/step - loss: 0.6779 - accuracy: 0.5417 - val_loss: 0.6880 - val_accuracy: 0.5269\n",
      "Epoch 4/20\n",
      "137/137 [==============================] - 84s 611ms/step - loss: 0.6325 - accuracy: 0.6293 - val_loss: 0.5088 - val_accuracy: 0.7971\n",
      "Epoch 5/20\n",
      "137/137 [==============================] - 84s 616ms/step - loss: 0.5935 - accuracy: 0.7179 - val_loss: 0.6423 - val_accuracy: 0.7613\n",
      "Epoch 6/20\n",
      "137/137 [==============================] - 83s 608ms/step - loss: 0.5457 - accuracy: 0.7506 - val_loss: 0.6748 - val_accuracy: 0.5015\n",
      "Epoch 7/20\n",
      "137/137 [==============================] - 84s 613ms/step - loss: 0.6523 - accuracy: 0.7890 - val_loss: 0.6357 - val_accuracy: 0.8165\n",
      "Epoch 8/20\n",
      "137/137 [==============================] - 89s 646ms/step - loss: 0.5175 - accuracy: 0.8335 - val_loss: 0.4155 - val_accuracy: 0.8071\n",
      "Epoch 9/20\n",
      "137/137 [==============================] - 90s 655ms/step - loss: 0.2694 - accuracy: 0.8970 - val_loss: 0.3001 - val_accuracy: 0.8819\n",
      "Epoch 10/20\n",
      "137/137 [==============================] - 86s 626ms/step - loss: 0.2118 - accuracy: 0.9224 - val_loss: 0.3263 - val_accuracy: 0.8828\n",
      "Epoch 11/20\n",
      "137/137 [==============================] - 271s 2s/step - loss: 0.1610 - accuracy: 0.9454 - val_loss: 0.3571 - val_accuracy: 0.8727\n",
      "Epoch 12/20\n",
      "137/137 [==============================] - 289s 2s/step - loss: 0.1317 - accuracy: 0.9575 - val_loss: 0.3193 - val_accuracy: 0.8823\n",
      "Epoch 13/20\n",
      "137/137 [==============================] - 288s 2s/step - loss: 0.1044 - accuracy: 0.9694 - val_loss: 0.3908 - val_accuracy: 0.8777\n",
      "Epoch 14/20\n",
      "137/137 [==============================] - 283s 2s/step - loss: 0.0881 - accuracy: 0.9735 - val_loss: 0.3904 - val_accuracy: 0.8781\n",
      "Epoch 15/20\n",
      "137/137 [==============================] - 283s 2s/step - loss: 0.0828 - accuracy: 0.9783 - val_loss: 0.4637 - val_accuracy: 0.8735\n",
      "Epoch 16/20\n",
      "137/137 [==============================] - 274s 2s/step - loss: 0.0760 - accuracy: 0.9786 - val_loss: 0.4665 - val_accuracy: 0.8600\n",
      "Epoch 17/20\n",
      "137/137 [==============================] - 278s 2s/step - loss: 0.0554 - accuracy: 0.9865 - val_loss: 0.4470 - val_accuracy: 0.8733\n",
      "Epoch 18/20\n",
      "137/137 [==============================] - 274s 2s/step - loss: 0.0545 - accuracy: 0.9873 - val_loss: 0.3552 - val_accuracy: 0.8701\n",
      "Epoch 19/20\n",
      "137/137 [==============================] - 205s 1s/step - loss: 0.0576 - accuracy: 0.9848 - val_loss: 0.4578 - val_accuracy: 0.8677\n",
      "Epoch 20/20\n",
      "137/137 [==============================] - 138s 1s/step - loss: 0.0418 - accuracy: 0.9895 - val_loss: 0.5309 - val_accuracy: 0.8692\n"
     ]
    }
   ],
   "source": [
    "callbacks = [keras.callbacks.EarlyStopping(patience=5, min_delta=1e-3)]\n",
    "history = simple_rnn_model.fit(train_data, train_labels, epochs=20, validation_split=0.3, batch_size=128)\n",
    "# 25000 * 0.7 / 128 = 137"
   ]
  },
  {
   "cell_type": "code",
   "execution_count": 12,
   "metadata": {},
   "outputs": [],
   "source": [
    "def plot_learning_curves(history, label, epochs, min_value, max_value):\n",
    "    data = {}\n",
    "    data[label] = history.history[label]\n",
    "    data['val_'+label] = history.history['val_'+label]\n",
    "    pd.DataFrame(data).plot(figsize=(8, 5))\n",
    "    plt.grid(True)\n",
    "    plt.axis([0, epochs, min_value, max_value])\n",
    "    plt.show()"
   ]
  },
  {
   "cell_type": "code",
   "execution_count": 13,
   "metadata": {},
   "outputs": [
    {
     "data": {
      "image/png": "[encoded data removed]",
      "text/plain": [
       "<Figure size 576x360 with 1 Axes>"
      ]
     },
     "metadata": {
      "needs_background": "light"
     },
     "output_type": "display_data"
    },
    {
     "data": {
      "image/png": "[encoded data removed]",
      "text/plain": [
       "<Figure size 576x360 with 1 Axes>"
      ]
     },
     "metadata": {
      "needs_background": "light"
     },
     "output_type": "display_data"
    }
   ],
   "source": [
    "plot_learning_curves(history, 'accuracy', 20, 0, 1.5)\n",
    "plot_learning_curves(history, 'loss', 20, 0, 1.5)"
   ]
  },
  {
   "cell_type": "code",
   "execution_count": 14,
   "metadata": {},
   "outputs": [
    {
     "name": "stdout",
     "output_type": "stream",
     "text": [
      "196/196 [==============================] - 45s 231ms/step - loss: 0.6183 - accuracy: 0.8434\n"
     ]
    },
    {
     "data": {
      "text/plain": [
       "[0.618274450302124, 0.8434000015258789]"
      ]
     },
     "execution_count": 14,
     "metadata": {},
     "output_type": "execute_result"
    }
   ],
   "source": [
    "simple_rnn_model.evaluate(test_data, test_labels, batch_size=128)"
   ]
  },
  {
   "cell_type": "markdown",
   "metadata": {},
   "source": [
    "### Bidirection LSTM(双向RNN)"
   ]
  },
  {
   "cell_type": "code",
   "execution_count": 15,
   "metadata": {},
   "outputs": [
    {
     "name": "stdout",
     "output_type": "stream",
     "text": [
      "Model: \"sequential\"\n",
      "_________________________________________________________________\n",
      "Layer (type)                 Output Shape              Param #   \n",
      "=================================================================\n",
      "embedding (Embedding)        (None, 500, 16)           160000    \n",
      "_________________________________________________________________\n",
      "lstm (LSTM)                  (None, 500, 64)           20736     \n",
      "_________________________________________________________________\n",
      "global_average_pooling1d (Gl (None, 64)                0         \n",
      "_________________________________________________________________\n",
      "dense (Dense)                (None, 64)                4160      \n",
      "_________________________________________________________________\n",
      "dense_1 (Dense)              (None, 1)                 65        \n",
      "=================================================================\n",
      "Total params: 184,961\n",
      "Trainable params: 184,961\n",
      "Non-trainable params: 0\n",
      "_________________________________________________________________\n"
     ]
    }
   ],
   "source": [
    "bidirection_simple_rnn_model = keras.models.Sequential([\n",
    "    keras.layers.Embedding(input_dim = vocab_size, output_dim = embedding_dim, input_length =maxlen),\n",
    "    \n",
    "    # units: 正整数，输出空间的维度。\n",
    "    # return_sequences: 布尔值。是返回输出序列中的最后一个输出，还是全部序列。\n",
    "    keras.layers.Bidirectional(\n",
    "        keras.layers.LSTM(units=64, return_sequences=True)),\n",
    "    keras.layers.GlobalAveragePooling1D(),\n",
    "    keras.layers.Dense(64, activation='relu'),\n",
    "    keras.layers.Dense(1, activation='sigmoid')  \n",
    "])\n",
    "\n",
    "simple_rnn_model.summary()"
   ]
  },
  {
   "cell_type": "code",
   "execution_count": 16,
   "metadata": {},
   "outputs": [],
   "source": [
    "bidirection_simple_rnn_model.compile(optimizer=\"adam\", loss=\"binary_crossentropy\", metrics=[\"accuracy\"])"
   ]
  },
  {
   "cell_type": "code",
   "execution_count": 17,
   "metadata": {},
   "outputs": [
    {
     "name": "stdout",
     "output_type": "stream",
     "text": [
      "Epoch 1/20\n",
      "137/137 [==============================] - 409s 3s/step - loss: 0.6355 - accuracy: 0.6462 - val_loss: 0.6820 - val_accuracy: 0.5931\n",
      "Epoch 2/20\n",
      "137/137 [==============================] - 457s 3s/step - loss: 0.5898 - accuracy: 0.6934 - val_loss: 0.5828 - val_accuracy: 0.7004\n",
      "Epoch 3/20\n",
      "137/137 [==============================] - 471s 3s/step - loss: 0.4963 - accuracy: 0.7833 - val_loss: 0.4895 - val_accuracy: 0.7820\n",
      "Epoch 4/20\n",
      "137/137 [==============================] - 715s 5s/step - loss: 0.4392 - accuracy: 0.8098 - val_loss: 0.5516 - val_accuracy: 0.6885\n",
      "Epoch 5/20\n",
      "137/137 [==============================] - 832s 6s/step - loss: 0.4044 - accuracy: 0.8403 - val_loss: 0.4248 - val_accuracy: 0.8336\n",
      "Epoch 6/20\n",
      "137/137 [==============================] - 497s 4s/step - loss: 0.5191 - accuracy: 0.7226 - val_loss: 0.6881 - val_accuracy: 0.5104\n",
      "Epoch 7/20\n",
      "137/137 [==============================] - 311s 2s/step - loss: 0.6744 - accuracy: 0.5490 - val_loss: 0.6756 - val_accuracy: 0.5128\n",
      "Epoch 8/20\n",
      "137/137 [==============================] - 305s 2s/step - loss: 0.6670 - accuracy: 0.5801 - val_loss: 0.6512 - val_accuracy: 0.6604\n",
      "Epoch 9/20\n",
      "137/137 [==============================] - 322s 2s/step - loss: 0.4279 - accuracy: 0.8313 - val_loss: 0.4212 - val_accuracy: 0.8461\n",
      "Epoch 10/20\n",
      "137/137 [==============================] - 322s 2s/step - loss: 0.4799 - accuracy: 0.7876 - val_loss: 0.7578 - val_accuracy: 0.7143\n",
      "Epoch 11/20\n",
      "137/137 [==============================] - 307s 2s/step - loss: 0.4467 - accuracy: 0.8114 - val_loss: 0.4307 - val_accuracy: 0.8357\n",
      "Epoch 12/20\n",
      "137/137 [==============================] - 310s 2s/step - loss: 0.4048 - accuracy: 0.8429 - val_loss: 0.4464 - val_accuracy: 0.8303\n",
      "Epoch 13/20\n",
      "137/137 [==============================] - 311s 2s/step - loss: 0.4139 - accuracy: 0.8431 - val_loss: 0.4660 - val_accuracy: 0.8104\n",
      "Epoch 14/20\n",
      "137/137 [==============================] - 3597s 26s/step - loss: 0.4230 - accuracy: 0.8320 - val_loss: 0.6255 - val_accuracy: 0.6224\n",
      "Epoch 15/20\n",
      "137/137 [==============================] - 310s 2s/step - loss: 0.6667 - accuracy: 0.6054 - val_loss: 0.6190 - val_accuracy: 0.7979\n",
      "Epoch 16/20\n",
      "137/137 [==============================] - 313s 2s/step - loss: 0.6513 - accuracy: 0.6259 - val_loss: 0.5273 - val_accuracy: 0.7735\n",
      "Epoch 17/20\n",
      "137/137 [==============================] - 317s 2s/step - loss: 0.6256 - accuracy: 0.6874 - val_loss: 0.6581 - val_accuracy: 0.7864\n",
      "Epoch 18/20\n",
      "137/137 [==============================] - 315s 2s/step - loss: 0.5647 - accuracy: 0.7316 - val_loss: 0.4924 - val_accuracy: 0.7995\n",
      "Epoch 19/20\n",
      "137/137 [==============================] - 328s 2s/step - loss: 0.6297 - accuracy: 0.6397 - val_loss: 0.6514 - val_accuracy: 0.8051\n",
      "Epoch 20/20\n",
      "137/137 [==============================] - 327s 2s/step - loss: 0.5905 - accuracy: 0.7295 - val_loss: 0.5520 - val_accuracy: 0.6489\n"
     ]
    }
   ],
   "source": [
    "bidirection_history = bidirection_simple_rnn_model.fit(\n",
    "    train_data, train_labels, epochs=10, validation_split=0.3, batch_size=128)"
   ]
  },
  {
   "cell_type": "code",
   "execution_count": 18,
   "metadata": {},
   "outputs": [
    {
     "data": {
      "image/png": "[encoded data removed]",
      "text/plain": [
       "<Figure size 576x360 with 1 Axes>"
      ]
     },
     "metadata": {
      "needs_background": "light"
     },
     "output_type": "display_data"
    },
    {
     "data": {
      "image/png": "[encoded data removed]",
      "text/plain": [
       "<Figure size 576x360 with 1 Axes>"
      ]
     },
     "metadata": {
      "needs_background": "light"
     },
     "output_type": "display_data"
    }
   ],
   "source": [
    "plot_learning_curves(bidirection_history, 'accuracy', 20, 0, 1.5)\n",
    "plot_learning_curves(bidirection_history, 'loss', 20, 0, 1.5)"
   ]
  },
  {
   "cell_type": "code",
   "execution_count": 19,
   "metadata": {},
   "outputs": [
    {
     "name": "stdout",
     "output_type": "stream",
     "text": [
      "196/196 [==============================] - 44s 225ms/step - loss: 0.5655 - accuracy: 0.6417\n"
     ]
    },
    {
     "data": {
      "text/plain": [
       "[0.5655348300933838, 0.6417199969291687]"
      ]
     },
     "execution_count": 19,
     "metadata": {},
     "output_type": "execute_result"
    }
   ],
   "source": [
    "bidirection_simple_rnn_model.evaluate(test_data, test_labels, batch_size=128)"
   ]
  },
  {
   "cell_type": "code",
   "execution_count": null,
   "metadata": {},
   "outputs": [],
   "source": []
  }
 ],
 "metadata": {
  "kernelspec": {
   "display_name": "Python 3",
   "language": "python",
   "name": "python3"
  },
  "language_info": {
   "codemirror_mode": {
    "name": "ipython",
    "version": 3
   },
   "file_extension": ".py",
   "mimetype": "text/x-python",
   "name": "python",
   "nbconvert_exporter": "python",
   "pygments_lexer": "ipython3",
   "version": "3.8.3"
  }
 },
 "nbformat": 4,
 "nbformat_minor": 4
}
