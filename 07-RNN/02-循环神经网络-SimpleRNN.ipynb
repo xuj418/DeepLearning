{
 "cells": [
  {
   "cell_type": "markdown",
   "metadata": {},
   "source": [
    "#### RNN（Recurrent Neural Network）是一类用于处理序列数据的神经网络\n",
    "#### 多输入单输出(文本分类), 单输入多输出(图像说明),  多输入多输出（输入和输出个数不同）（机器翻译）"
   ]
  },
  {
   "cell_type": "markdown",
   "metadata": {},
   "source": [
    "#### 循环神经网络的隐藏层的值s不仅仅取决于当前这次的输入x，还取决于上一次隐藏层的值s。权重矩阵 W就是隐藏层上一次的值作为这一次的输入的权重"
   ]
  },
  {
   "cell_type": "code",
   "execution_count": 1,
   "metadata": {},
   "outputs": [],
   "source": [
    "import tensorflow as tf\n",
    "from tensorflow import keras\n",
    "import numpy as np\n",
    "import sklearn \n",
    "import matplotlib.pyplot as plt\n",
    "from sklearn.preprocessing import StandardScaler\n",
    "import os\n",
    "import pandas as pd\n",
    "from sklearn.preprocessing import StandardScaler\n",
    "from sklearn.datasets import fetch_california_housing\n",
    "from sklearn.model_selection import train_test_split"
   ]
  },
  {
   "cell_type": "code",
   "execution_count": 2,
   "metadata": {},
   "outputs": [],
   "source": [
    "imdb = keras.datasets.imdb\n",
    "vocab_size = 10000\n",
    "index_from = 3\n",
    "\n",
    "# Keras会预处理这些文字，开始字符是1，每个字符都被+3了\n",
    "# num_words：词频最高的前num_words个词\n",
    "# index_from：实际使用的词语的索引起始值\n",
    "(train_data, train_labels), (test_data, test_labels) = imdb.load_data(\n",
    "    num_words = vocab_size, index_from = index_from)"
   ]
  },
  {
   "cell_type": "code",
   "execution_count": 3,
   "metadata": {},
   "outputs": [
    {
     "name": "stdout",
     "output_type": "stream",
     "text": [
      "[1, 14, 22, 16, 43, 530, 973, 1622, 1385, 65, 458, 4468, 66, 3941, 4, 173, 36, 256, 5, 25, 100, 43, 838, 112, 50, 670, 2, 9, 35, 480, 284, 5, 150, 4, 172, 112, 167, 2, 336, 385, 39, 4, 172, 4536, 1111, 17, 546, 38, 13, 447, 4, 192, 50, 16, 6, 147, 2025, 19, 14, 22, 4, 1920, 4613, 469, 4, 22, 71, 87, 12, 16, 43, 530, 38, 76, 15, 13, 1247, 4, 22, 17, 515, 17, 12, 16, 626, 18, 2, 5, 62, 386, 12, 8, 316, 8, 106, 5, 4, 2223, 5244, 16, 480, 66, 3785, 33, 4, 130, 12, 16, 38, 619, 5, 25, 124, 51, 36, 135, 48, 25, 1415, 33, 6, 22, 12, 215, 28, 77, 52, 5, 14, 407, 16, 82, 2, 8, 4, 107, 117, 5952, 15, 256, 4, 2, 7, 3766, 5, 723, 36, 71, 43, 530, 476, 26, 400, 317, 46, 7, 4, 2, 1029, 13, 104, 88, 4, 381, 15, 297, 98, 32, 2071, 56, 26, 141, 6, 194, 7486, 18, 4, 226, 22, 21, 134, 476, 26, 480, 5, 144, 30, 5535, 18, 51, 36, 28, 224, 92, 25, 104, 4, 226, 65, 16, 38, 1334, 88, 12, 16, 283, 5, 16, 4472, 113, 103, 32, 15, 16, 5345, 19, 178, 32] 1\n",
      "(25000,) (25000,)\n",
      "218 189\n"
     ]
    }
   ],
   "source": [
    "print(train_data[0], train_labels[0])\n",
    "print(train_data.shape, train_labels.shape)\n",
    "print(len(train_data[0]), len(train_data[1]))"
   ]
  },
  {
   "cell_type": "code",
   "execution_count": 4,
   "metadata": {},
   "outputs": [
    {
     "name": "stdout",
     "output_type": "stream",
     "text": [
      "88584\n"
     ]
    }
   ],
   "source": [
    "# 词库\n",
    "word_index = imdb.get_word_index()\n",
    "print(len(word_index))"
   ]
  },
  {
   "cell_type": "code",
   "execution_count": 5,
   "metadata": {},
   "outputs": [
    {
     "data": {
      "text/plain": [
       "[('fawn', 34704),\n",
       " ('tsukino', 52009),\n",
       " ('nunnery', 52010),\n",
       " ('sonja', 16819),\n",
       " ('vani', 63954)]"
      ]
     },
     "execution_count": 5,
     "metadata": {},
     "output_type": "execute_result"
    }
   ],
   "source": [
    "# 词库每个值加3\n",
    "word_index = {key:(value + 3) for key, value in word_index.items()}\n",
    "list(word_index.items())[:5]"
   ]
  },
  {
   "cell_type": "code",
   "execution_count": 6,
   "metadata": {},
   "outputs": [],
   "source": [
    "# 设置词库的前4个值\n",
    "# 不够的位数，补0\n",
    "word_index[\"<PAD>\"] = 0\n",
    "word_index[\"<START>\"] = 1\n",
    "# 识别不了的，用UNK\n",
    "word_index[\"<UNK>\"] = 2\n",
    "word_index[\"<END>\"] = 3\n",
    "\n",
    "# 词库的key和value交换位置\n",
    "reverse_word_index = {value:key for key, value in word_index.items()}\n",
    "\n",
    "# 在词库中，取得对应的单词\n",
    "def decode(data):\n",
    "    return \" \".join([reverse_word_index.get(index, \"<UNK>\") for index in data])"
   ]
  },
  {
   "cell_type": "code",
   "execution_count": 7,
   "metadata": {},
   "outputs": [
    {
     "data": {
      "text/plain": [
       "\"<START> this film was just brilliant casting location scenery story direction everyone's really suited the part they played and you could just imagine being there robert <UNK> is an amazing actor and now the same being director <UNK> father came from the same scottish island as myself so i loved the fact there was a real connection with this film the witty remarks throughout the film were great it was just brilliant so much that i bought the film as soon as it was released for <UNK> and would recommend it to everyone to watch and the fly fishing was amazing really cried at the end it was so sad and you know what they say if you cry at a film it must have been good and this definitely was also <UNK> to the two little boy's that played the <UNK> of norman and paul they were just brilliant children are often left out of the <UNK> list i think because the stars that play them all grown up are such a big profile for the whole film but these children are amazing and should be praised for what they have done don't you think the whole story was so lovely because it was true and was someone's life after all that was shared with us all\""
      ]
     },
     "execution_count": 7,
     "metadata": {},
     "output_type": "execute_result"
    }
   ],
   "source": [
    "# 查看对应的内容\n",
    "decode(train_data[0])"
   ]
  },
  {
   "cell_type": "code",
   "execution_count": 8,
   "metadata": {},
   "outputs": [],
   "source": [
    "# 涉资最大长度\n",
    "maxlen=500\n",
    "\n",
    "# 补齐长度\n",
    "train_data = keras.preprocessing.sequence.pad_sequences(\n",
    "    train_data,\n",
    "    maxlen=maxlen,\n",
    "    dtype='int32',\n",
    "    padding='post',\n",
    "    truncating='pre',\n",
    "    value=0.0,)\n",
    "\n",
    "test_data = keras.preprocessing.sequence.pad_sequences(\n",
    "    test_data,\n",
    "    maxlen=maxlen,\n",
    "    dtype='int32',\n",
    "    padding='post',\n",
    "    truncating='pre',\n",
    "    value=0.0,)"
   ]
  },
  {
   "cell_type": "markdown",
   "metadata": {},
   "source": [
    "### SimpleRNN"
   ]
  },
  {
   "cell_type": "code",
   "execution_count": 9,
   "metadata": {},
   "outputs": [
    {
     "name": "stdout",
     "output_type": "stream",
     "text": [
      "Model: \"sequential\"\n",
      "_________________________________________________________________\n",
      "Layer (type)                 Output Shape              Param #   \n",
      "=================================================================\n",
      "embedding (Embedding)        (None, 500, 16)           160000    \n",
      "_________________________________________________________________\n",
      "simple_rnn (SimpleRNN)       (None, 500, 64)           5184      \n",
      "_________________________________________________________________\n",
      "global_average_pooling1d (Gl (None, 64)                0         \n",
      "_________________________________________________________________\n",
      "dense (Dense)                (None, 64)                4160      \n",
      "_________________________________________________________________\n",
      "dense_1 (Dense)              (None, 1)                 65        \n",
      "=================================================================\n",
      "Total params: 169,409\n",
      "Trainable params: 169,409\n",
      "Non-trainable params: 0\n",
      "_________________________________________________________________\n"
     ]
    }
   ],
   "source": [
    "embedding_dim = 16\n",
    "\n",
    "simple_rnn_model = keras.models.Sequential([\n",
    "    keras.layers.Embedding(input_dim = vocab_size, output_dim = embedding_dim, input_length =maxlen),\n",
    "    \n",
    "    # units: 正整数，输出空间的维度。\n",
    "    # return_sequences: 布尔值。是返回输出序列中的最后一个输出，还是全部序列。\n",
    "    keras.layers.SimpleRNN(units=64, return_sequences=True),\n",
    "    keras.layers.GlobalAveragePooling1D(),\n",
    "    keras.layers.Dense(64, activation='relu'),\n",
    "    keras.layers.Dense(1, activation='sigmoid')  \n",
    "])\n",
    "\n",
    "simple_rnn_model.summary()"
   ]
  },
  {
   "cell_type": "code",
   "execution_count": 10,
   "metadata": {},
   "outputs": [],
   "source": [
    "simple_rnn_model.compile(optimizer=\"adam\", loss=\"binary_crossentropy\", metrics=[\"accuracy\"])"
   ]
  },
  {
   "cell_type": "code",
   "execution_count": 11,
   "metadata": {},
   "outputs": [
    {
     "name": "stdout",
     "output_type": "stream",
     "text": [
      "Epoch 1/20\n",
      "137/137 [==============================] - 17s 125ms/step - loss: 0.6916 - accuracy: 0.5213 - val_loss: 0.6977 - val_accuracy: 0.4933\n",
      "Epoch 2/20\n",
      "137/137 [==============================] - 19s 138ms/step - loss: 0.6770 - accuracy: 0.5695 - val_loss: 0.6754 - val_accuracy: 0.5668\n",
      "Epoch 3/20\n",
      "137/137 [==============================] - 19s 136ms/step - loss: 0.6843 - accuracy: 0.5641 - val_loss: 0.6796 - val_accuracy: 0.5992\n",
      "Epoch 4/20\n",
      "137/137 [==============================] - 19s 135ms/step - loss: 0.5993 - accuracy: 0.7491 - val_loss: 0.4392 - val_accuracy: 0.8361\n",
      "Epoch 5/20\n",
      "137/137 [==============================] - 19s 136ms/step - loss: 0.5428 - accuracy: 0.7309 - val_loss: 0.5650 - val_accuracy: 0.7255\n",
      "Epoch 6/20\n",
      "137/137 [==============================] - 19s 136ms/step - loss: 0.4641 - accuracy: 0.8283 - val_loss: 0.3937 - val_accuracy: 0.8623\n",
      "Epoch 7/20\n",
      "137/137 [==============================] - 19s 141ms/step - loss: 0.3014 - accuracy: 0.9006 - val_loss: 0.3051 - val_accuracy: 0.8823\n",
      "Epoch 8/20\n",
      "137/137 [==============================] - 19s 137ms/step - loss: 0.2259 - accuracy: 0.9167 - val_loss: 0.2850 - val_accuracy: 0.8871\n",
      "Epoch 9/20\n",
      "137/137 [==============================] - 19s 139ms/step - loss: 0.1869 - accuracy: 0.9314 - val_loss: 0.2826 - val_accuracy: 0.8891\n",
      "Epoch 10/20\n",
      "137/137 [==============================] - 19s 138ms/step - loss: 0.1585 - accuracy: 0.9429 - val_loss: 0.2904 - val_accuracy: 0.8925\n",
      "Epoch 11/20\n",
      "137/137 [==============================] - 19s 138ms/step - loss: 0.1344 - accuracy: 0.9523 - val_loss: 0.3098 - val_accuracy: 0.8893\n",
      "Epoch 12/20\n",
      "137/137 [==============================] - 19s 139ms/step - loss: 0.1144 - accuracy: 0.9609 - val_loss: 0.3597 - val_accuracy: 0.8832\n",
      "Epoch 13/20\n",
      "137/137 [==============================] - 19s 137ms/step - loss: 0.0964 - accuracy: 0.9687 - val_loss: 0.3736 - val_accuracy: 0.8876\n",
      "Epoch 14/20\n",
      "137/137 [==============================] - 19s 139ms/step - loss: 0.0843 - accuracy: 0.9725 - val_loss: 0.3823 - val_accuracy: 0.8815\n",
      "Epoch 15/20\n",
      "137/137 [==============================] - 21s 153ms/step - loss: 0.0698 - accuracy: 0.9783 - val_loss: 0.4379 - val_accuracy: 0.8809\n",
      "Epoch 16/20\n",
      "137/137 [==============================] - 21s 156ms/step - loss: 0.0575 - accuracy: 0.9846 - val_loss: 0.4851 - val_accuracy: 0.8793\n",
      "Epoch 17/20\n",
      "137/137 [==============================] - 20s 146ms/step - loss: 0.0487 - accuracy: 0.9866 - val_loss: 0.5010 - val_accuracy: 0.8788\n",
      "Epoch 18/20\n",
      "137/137 [==============================] - 20s 146ms/step - loss: 0.0395 - accuracy: 0.9896 - val_loss: 0.5626 - val_accuracy: 0.8760\n",
      "Epoch 19/20\n",
      "137/137 [==============================] - 20s 146ms/step - loss: 0.0350 - accuracy: 0.9913 - val_loss: 0.5778 - val_accuracy: 0.8765\n",
      "Epoch 20/20\n",
      "137/137 [==============================] - 21s 150ms/step - loss: 0.0297 - accuracy: 0.9912 - val_loss: 0.6598 - val_accuracy: 0.8723\n"
     ]
    }
   ],
   "source": [
    "callbacks = [keras.callbacks.EarlyStopping(patience=5, min_delta=1e-3)]\n",
    "history = simple_rnn_model.fit(train_data, train_labels, epochs=20, validation_split=0.3, batch_size=128)\n",
    "# 25000 * 0.7 / 128 = 137"
   ]
  },
  {
   "cell_type": "code",
   "execution_count": 12,
   "metadata": {},
   "outputs": [],
   "source": [
    "def plot_learning_curves(history, label, epochs, min_value, max_value):\n",
    "    data = {}\n",
    "    data[label] = history.history[label]\n",
    "    data['val_'+label] = history.history['val_'+label]\n",
    "    pd.DataFrame(data).plot(figsize=(8, 5))\n",
    "    plt.grid(True)\n",
    "    plt.axis([0, epochs, min_value, max_value])\n",
    "    plt.show()"
   ]
  },
  {
   "cell_type": "code",
   "execution_count": 13,
   "metadata": {},
   "outputs": [
    {
     "data": {
      "image/png": "[encoded data removed]",
      "text/plain": [
       "<Figure size 576x360 with 1 Axes>"
      ]
     },
     "metadata": {
      "needs_background": "light"
     },
     "output_type": "display_data"
    },
    {
     "data": {
      "image/png": "[encoded data removed]",
      "text/plain": [
       "<Figure size 576x360 with 1 Axes>"
      ]
     },
     "metadata": {
      "needs_background": "light"
     },
     "output_type": "display_data"
    }
   ],
   "source": [
    "plot_learning_curves(history, 'accuracy', 20, 0, 1.5)\n",
    "plot_learning_curves(history, 'loss', 20, 0, 1.5)"
   ]
  },
  {
   "cell_type": "code",
   "execution_count": 14,
   "metadata": {},
   "outputs": [
    {
     "name": "stdout",
     "output_type": "stream",
     "text": [
      "196/196 [==============================] - 10s 50ms/step - loss: 0.7206 - accuracy: 0.8566\n"
     ]
    },
    {
     "data": {
      "text/plain": [
       "[0.7205753922462463, 0.8566399812698364]"
      ]
     },
     "execution_count": 14,
     "metadata": {},
     "output_type": "execute_result"
    }
   ],
   "source": [
    "simple_rnn_model.evaluate(test_data, test_labels, batch_size=128)"
   ]
  },
  {
   "cell_type": "markdown",
   "metadata": {},
   "source": [
    "### Bidirection SimpleRNN(双向RNN)"
   ]
  },
  {
   "cell_type": "code",
   "execution_count": 15,
   "metadata": {},
   "outputs": [
    {
     "name": "stdout",
     "output_type": "stream",
     "text": [
      "Model: \"sequential\"\n",
      "_________________________________________________________________\n",
      "Layer (type)                 Output Shape              Param #   \n",
      "=================================================================\n",
      "embedding (Embedding)        (None, 500, 16)           160000    \n",
      "_________________________________________________________________\n",
      "simple_rnn (SimpleRNN)       (None, 500, 64)           5184      \n",
      "_________________________________________________________________\n",
      "global_average_pooling1d (Gl (None, 64)                0         \n",
      "_________________________________________________________________\n",
      "dense (Dense)                (None, 64)                4160      \n",
      "_________________________________________________________________\n",
      "dense_1 (Dense)              (None, 1)                 65        \n",
      "=================================================================\n",
      "Total params: 169,409\n",
      "Trainable params: 169,409\n",
      "Non-trainable params: 0\n",
      "_________________________________________________________________\n"
     ]
    }
   ],
   "source": [
    "bidirection_simple_rnn_model = keras.models.Sequential([\n",
    "    keras.layers.Embedding(input_dim = vocab_size, output_dim = embedding_dim, input_length =maxlen),\n",
    "    \n",
    "    # units: 正整数，输出空间的维度。\n",
    "    # return_sequences: 布尔值。是返回输出序列中的最后一个输出，还是全部序列。\n",
    "    keras.layers.Bidirectional(\n",
    "        keras.layers.SimpleRNN(units=64, return_sequences=True)),\n",
    "    keras.layers.GlobalAveragePooling1D(),\n",
    "    keras.layers.Dense(64, activation='relu'),\n",
    "    keras.layers.Dense(1, activation='sigmoid')  \n",
    "])\n",
    "\n",
    "simple_rnn_model.summary()"
   ]
  },
  {
   "cell_type": "code",
   "execution_count": 16,
   "metadata": {},
   "outputs": [],
   "source": [
    "bidirection_simple_rnn_model.compile(optimizer=\"adam\", loss=\"binary_crossentropy\", metrics=[\"accuracy\"])"
   ]
  },
  {
   "cell_type": "code",
   "execution_count": 17,
   "metadata": {},
   "outputs": [
    {
     "name": "stdout",
     "output_type": "stream",
     "text": [
      "Epoch 1/20\n",
      "137/137 [==============================] - 37s 272ms/step - loss: 0.6716 - accuracy: 0.5819 - val_loss: 0.6242 - val_accuracy: 0.6055\n",
      "Epoch 2/20\n",
      "137/137 [==============================] - 35s 258ms/step - loss: 0.5148 - accuracy: 0.7677 - val_loss: 0.3630 - val_accuracy: 0.8588\n",
      "Epoch 3/20\n",
      "137/137 [==============================] - 34s 249ms/step - loss: 0.3406 - accuracy: 0.8622 - val_loss: 0.3109 - val_accuracy: 0.8736\n",
      "Epoch 4/20\n",
      "137/137 [==============================] - 36s 265ms/step - loss: 0.2102 - accuracy: 0.9197 - val_loss: 0.3012 - val_accuracy: 0.8836\n",
      "Epoch 5/20\n",
      "137/137 [==============================] - 36s 264ms/step - loss: 0.1573 - accuracy: 0.9447 - val_loss: 0.3072 - val_accuracy: 0.8836\n",
      "Epoch 6/20\n",
      "137/137 [==============================] - 34s 249ms/step - loss: 0.1463 - accuracy: 0.9565 - val_loss: 0.3002 - val_accuracy: 0.8785\n",
      "Epoch 7/20\n",
      "137/137 [==============================] - 35s 256ms/step - loss: 0.1175 - accuracy: 0.9606 - val_loss: 0.4076 - val_accuracy: 0.8781\n",
      "Epoch 8/20\n",
      "137/137 [==============================] - 35s 256ms/step - loss: 0.0820 - accuracy: 0.9759 - val_loss: 0.4180 - val_accuracy: 0.8781\n",
      "Epoch 9/20\n",
      "137/137 [==============================] - 34s 252ms/step - loss: 0.0683 - accuracy: 0.9782 - val_loss: 0.4811 - val_accuracy: 0.8756\n",
      "Epoch 10/20\n",
      "137/137 [==============================] - 35s 259ms/step - loss: 0.0499 - accuracy: 0.9855 - val_loss: 0.5821 - val_accuracy: 0.8699\n",
      "Epoch 11/20\n",
      "137/137 [==============================] - 34s 248ms/step - loss: 0.0804 - accuracy: 0.9723 - val_loss: 0.6142 - val_accuracy: 0.8659\n",
      "Epoch 12/20\n",
      "137/137 [==============================] - 34s 245ms/step - loss: 0.0478 - accuracy: 0.9861 - val_loss: 0.6802 - val_accuracy: 0.8692\n",
      "Epoch 13/20\n",
      "137/137 [==============================] - 33s 242ms/step - loss: 0.0363 - accuracy: 0.9894 - val_loss: 0.7127 - val_accuracy: 0.8677\n",
      "Epoch 14/20\n",
      "137/137 [==============================] - 33s 244ms/step - loss: 0.0285 - accuracy: 0.9924 - val_loss: 0.9234 - val_accuracy: 0.8631\n",
      "Epoch 15/20\n",
      "137/137 [==============================] - 33s 241ms/step - loss: 0.0198 - accuracy: 0.9950 - val_loss: 0.8717 - val_accuracy: 0.8644\n",
      "Epoch 16/20\n",
      "137/137 [==============================] - 33s 243ms/step - loss: 0.0173 - accuracy: 0.9955 - val_loss: 0.7183 - val_accuracy: 0.8672\n",
      "Epoch 17/20\n",
      "137/137 [==============================] - 34s 249ms/step - loss: 0.0136 - accuracy: 0.9969 - val_loss: 0.8953 - val_accuracy: 0.8635\n",
      "Epoch 18/20\n",
      "137/137 [==============================] - 35s 254ms/step - loss: 0.0107 - accuracy: 0.9975 - val_loss: 1.1602 - val_accuracy: 0.8587\n",
      "Epoch 19/20\n",
      "137/137 [==============================] - 34s 251ms/step - loss: 0.1796 - accuracy: 0.9253 - val_loss: 0.4739 - val_accuracy: 0.7801\n",
      "Epoch 20/20\n",
      "137/137 [==============================] - 35s 255ms/step - loss: 0.1795 - accuracy: 0.9565 - val_loss: 0.3465 - val_accuracy: 0.8785\n"
     ]
    }
   ],
   "source": [
    "bidirection_history = bidirection_simple_rnn_model.fit(\n",
    "    train_data, train_labels, epochs=20, validation_split=0.3, batch_size=128)"
   ]
  },
  {
   "cell_type": "code",
   "execution_count": 18,
   "metadata": {},
   "outputs": [
    {
     "data": {
      "image/png": "[encoded data removed]",
      "text/plain": [
       "<Figure size 576x360 with 1 Axes>"
      ]
     },
     "metadata": {
      "needs_background": "light"
     },
     "output_type": "display_data"
    },
    {
     "data": {
      "image/png": "[encoded data removed]",
      "text/plain": [
       "<Figure size 576x360 with 1 Axes>"
      ]
     },
     "metadata": {
      "needs_background": "light"
     },
     "output_type": "display_data"
    }
   ],
   "source": [
    "plot_learning_curves(bidirection_history, 'accuracy', 20, 0, 1.5)\n",
    "plot_learning_curves(bidirection_history, 'loss', 20, 0, 1.5)"
   ]
  },
  {
   "cell_type": "code",
   "execution_count": 19,
   "metadata": {},
   "outputs": [
    {
     "name": "stdout",
     "output_type": "stream",
     "text": [
      "196/196 [==============================] - 17s 86ms/step - loss: 0.3924 - accuracy: 0.85872s - loss: 0.3 - ETA: 1s - loss: - ETA: 0s - loss: 0.3931 - accura\n"
     ]
    },
    {
     "data": {
      "text/plain": [
       "[0.3924371004104614, 0.8587200045585632]"
      ]
     },
     "execution_count": 19,
     "metadata": {},
     "output_type": "execute_result"
    }
   ],
   "source": [
    "bidirection_simple_rnn_model.evaluate(test_data, test_labels, batch_size=128)"
   ]
  },
  {
   "cell_type": "code",
   "execution_count": null,
   "metadata": {},
   "outputs": [],
   "source": []
  }
 ],
 "metadata": {
  "kernelspec": {
   "display_name": "Python 3",
   "language": "python",
   "name": "python3"
  },
  "language_info": {
   "codemirror_mode": {
    "name": "ipython",
    "version": 3
   },
   "file_extension": ".py",
   "mimetype": "text/x-python",
   "name": "python",
   "nbconvert_exporter": "python",
   "pygments_lexer": "ipython3",
   "version": "3.8.3"
  }
 },
 "nbformat": 4,
 "nbformat_minor": 4
}
