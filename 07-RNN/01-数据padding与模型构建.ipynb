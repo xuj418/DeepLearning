{
 "cells": [
  {
   "cell_type": "markdown",
   "metadata": {},
   "source": [
    "#### word embedding，就是找到一个映射或者函数，生成在一个新的空间上的表达\n",
    "#### 是一种将源数据映射到另外一个空间"
   ]
  },
  {
   "cell_type": "code",
   "execution_count": 1,
   "metadata": {},
   "outputs": [],
   "source": [
    "import tensorflow as tf\n",
    "from tensorflow import keras\n",
    "import numpy as np\n",
    "import sklearn \n",
    "import matplotlib.pyplot as plt\n",
    "from sklearn.preprocessing import StandardScaler\n",
    "import os\n",
    "import pandas as pd\n",
    "from sklearn.preprocessing import StandardScaler\n",
    "from sklearn.datasets import fetch_california_housing\n",
    "from sklearn.model_selection import train_test_split"
   ]
  },
  {
   "cell_type": "code",
   "execution_count": 2,
   "metadata": {},
   "outputs": [],
   "source": [
    "imdb = keras.datasets.imdb\n",
    "vocab_size = 10000\n",
    "index_from = 3\n",
    "\n",
    "# Keras会预处理这些文字，开始字符是1，每个字符都被+3了\n",
    "# num_words：词频最高的前num_words个词\n",
    "# index_from：实际使用的词语的索引起始值\n",
    "(train_data, train_labels), (test_data, test_labels) = imdb.load_data(\n",
    "    num_words = vocab_size, index_from = index_from)"
   ]
  },
  {
   "cell_type": "code",
   "execution_count": 3,
   "metadata": {},
   "outputs": [
    {
     "name": "stdout",
     "output_type": "stream",
     "text": [
      "[1, 14, 22, 16, 43, 530, 973, 1622, 1385, 65, 458, 4468, 66, 3941, 4, 173, 36, 256, 5, 25, 100, 43, 838, 112, 50, 670, 2, 9, 35, 480, 284, 5, 150, 4, 172, 112, 167, 2, 336, 385, 39, 4, 172, 4536, 1111, 17, 546, 38, 13, 447, 4, 192, 50, 16, 6, 147, 2025, 19, 14, 22, 4, 1920, 4613, 469, 4, 22, 71, 87, 12, 16, 43, 530, 38, 76, 15, 13, 1247, 4, 22, 17, 515, 17, 12, 16, 626, 18, 2, 5, 62, 386, 12, 8, 316, 8, 106, 5, 4, 2223, 5244, 16, 480, 66, 3785, 33, 4, 130, 12, 16, 38, 619, 5, 25, 124, 51, 36, 135, 48, 25, 1415, 33, 6, 22, 12, 215, 28, 77, 52, 5, 14, 407, 16, 82, 2, 8, 4, 107, 117, 5952, 15, 256, 4, 2, 7, 3766, 5, 723, 36, 71, 43, 530, 476, 26, 400, 317, 46, 7, 4, 2, 1029, 13, 104, 88, 4, 381, 15, 297, 98, 32, 2071, 56, 26, 141, 6, 194, 7486, 18, 4, 226, 22, 21, 134, 476, 26, 480, 5, 144, 30, 5535, 18, 51, 36, 28, 224, 92, 25, 104, 4, 226, 65, 16, 38, 1334, 88, 12, 16, 283, 5, 16, 4472, 113, 103, 32, 15, 16, 5345, 19, 178, 32] 1\n",
      "(25000,) (25000,)\n",
      "218 189\n"
     ]
    }
   ],
   "source": [
    "print(train_data[0], train_labels[0])\n",
    "print(train_data.shape, train_labels.shape)\n",
    "print(len(train_data[0]), len(train_data[1]))"
   ]
  },
  {
   "cell_type": "code",
   "execution_count": 4,
   "metadata": {},
   "outputs": [
    {
     "name": "stdout",
     "output_type": "stream",
     "text": [
      "88584\n"
     ]
    }
   ],
   "source": [
    "# 词库\n",
    "word_index = imdb.get_word_index()\n",
    "print(len(word_index))"
   ]
  },
  {
   "cell_type": "code",
   "execution_count": 5,
   "metadata": {},
   "outputs": [
    {
     "data": {
      "text/plain": [
       "[('fawn', 34704),\n",
       " ('tsukino', 52009),\n",
       " ('nunnery', 52010),\n",
       " ('sonja', 16819),\n",
       " ('vani', 63954)]"
      ]
     },
     "execution_count": 5,
     "metadata": {},
     "output_type": "execute_result"
    }
   ],
   "source": [
    "# 词库每个值加3\n",
    "word_index = {key:(value + 3) for key, value in word_index.items()}\n",
    "list(word_index.items())[:5]"
   ]
  },
  {
   "cell_type": "code",
   "execution_count": 6,
   "metadata": {},
   "outputs": [],
   "source": [
    "# 设置词库的前4个值\n",
    "# 不够的位数，补0\n",
    "word_index[\"<PAD>\"] = 0\n",
    "word_index[\"<START>\"] = 1\n",
    "# 识别不了的，用UNK\n",
    "word_index[\"<UNK>\"] = 2\n",
    "word_index[\"<END>\"] = 3\n",
    "\n",
    "# 词库的key和value交换位置\n",
    "reverse_word_index = {value:key for key, value in word_index.items()}\n",
    "\n",
    "# 在词库中，取得对应的单词\n",
    "def decode(data):\n",
    "    return \" \".join([reverse_word_index.get(index, \"<UNK>\") for index in data])"
   ]
  },
  {
   "cell_type": "code",
   "execution_count": 7,
   "metadata": {},
   "outputs": [
    {
     "data": {
      "text/plain": [
       "\"<START> this film was just brilliant casting location scenery story direction everyone's really suited the part they played and you could just imagine being there robert <UNK> is an amazing actor and now the same being director <UNK> father came from the same scottish island as myself so i loved the fact there was a real connection with this film the witty remarks throughout the film were great it was just brilliant so much that i bought the film as soon as it was released for <UNK> and would recommend it to everyone to watch and the fly fishing was amazing really cried at the end it was so sad and you know what they say if you cry at a film it must have been good and this definitely was also <UNK> to the two little boy's that played the <UNK> of norman and paul they were just brilliant children are often left out of the <UNK> list i think because the stars that play them all grown up are such a big profile for the whole film but these children are amazing and should be praised for what they have done don't you think the whole story was so lovely because it was true and was someone's life after all that was shared with us all\""
      ]
     },
     "execution_count": 7,
     "metadata": {},
     "output_type": "execute_result"
    }
   ],
   "source": [
    "# 查看对应的内容\n",
    "decode(train_data[0])"
   ]
  },
  {
   "cell_type": "code",
   "execution_count": 8,
   "metadata": {},
   "outputs": [],
   "source": [
    "# 涉资最大长度\n",
    "maxlen=500\n",
    "\n",
    "# 补齐长度\n",
    "train_data = keras.preprocessing.sequence.pad_sequences(\n",
    "    train_data,\n",
    "    maxlen=maxlen,\n",
    "    dtype='int32',\n",
    "    padding='post',\n",
    "    truncating='pre',\n",
    "    value=0.0,)\n",
    "\n",
    "test_data = keras.preprocessing.sequence.pad_sequences(\n",
    "    test_data,\n",
    "    maxlen=maxlen,\n",
    "    dtype='int32',\n",
    "    padding='post',\n",
    "    truncating='pre',\n",
    "    value=0.0,)"
   ]
  },
  {
   "cell_type": "code",
   "execution_count": 9,
   "metadata": {},
   "outputs": [
    {
     "data": {
      "text/plain": [
       "array([   1,   14,   22,   16,   43,  530,  973, 1622, 1385,   65,  458,\n",
       "       4468,   66, 3941,    4,  173,   36,  256,    5,   25,  100,   43,\n",
       "        838,  112,   50,  670,    2,    9,   35,  480,  284,    5,  150,\n",
       "          4,  172,  112,  167,    2,  336,  385,   39,    4,  172, 4536,\n",
       "       1111,   17,  546,   38,   13,  447,    4,  192,   50,   16,    6,\n",
       "        147, 2025,   19,   14,   22,    4, 1920, 4613,  469,    4,   22,\n",
       "         71,   87,   12,   16,   43,  530,   38,   76,   15,   13, 1247,\n",
       "          4,   22,   17,  515,   17,   12,   16,  626,   18,    2,    5,\n",
       "         62,  386,   12,    8,  316,    8,  106,    5,    4, 2223, 5244,\n",
       "         16,  480,   66, 3785,   33,    4,  130,   12,   16,   38,  619,\n",
       "          5,   25,  124,   51,   36,  135,   48,   25, 1415,   33,    6,\n",
       "         22,   12,  215,   28,   77,   52,    5,   14,  407,   16,   82,\n",
       "          2,    8,    4,  107,  117, 5952,   15,  256,    4,    2,    7,\n",
       "       3766,    5,  723,   36,   71,   43,  530,  476,   26,  400,  317,\n",
       "         46,    7,    4,    2, 1029,   13,  104,   88,    4,  381,   15,\n",
       "        297,   98,   32, 2071,   56,   26,  141,    6,  194, 7486,   18,\n",
       "          4,  226,   22,   21,  134,  476,   26,  480,    5,  144,   30,\n",
       "       5535,   18,   51,   36,   28,  224,   92,   25,  104,    4,  226,\n",
       "         65,   16,   38, 1334,   88,   12,   16,  283,    5,   16, 4472,\n",
       "        113,  103,   32,   15,   16, 5345,   19,  178,   32,    0,    0,\n",
       "          0,    0,    0,    0,    0,    0,    0,    0,    0,    0,    0,\n",
       "          0,    0,    0,    0,    0,    0,    0,    0,    0,    0,    0,\n",
       "          0,    0,    0,    0,    0,    0,    0,    0,    0,    0,    0,\n",
       "          0,    0,    0,    0,    0,    0,    0,    0,    0,    0,    0,\n",
       "          0,    0,    0,    0,    0,    0,    0,    0,    0,    0,    0,\n",
       "          0,    0,    0,    0,    0,    0,    0,    0,    0,    0,    0,\n",
       "          0,    0,    0,    0,    0,    0,    0,    0,    0,    0,    0,\n",
       "          0,    0,    0,    0,    0,    0,    0,    0,    0,    0,    0,\n",
       "          0,    0,    0,    0,    0,    0,    0,    0,    0,    0,    0,\n",
       "          0,    0,    0,    0,    0,    0,    0,    0,    0,    0,    0,\n",
       "          0,    0,    0,    0,    0,    0,    0,    0,    0,    0,    0,\n",
       "          0,    0,    0,    0,    0,    0,    0,    0,    0,    0,    0,\n",
       "          0,    0,    0,    0,    0,    0,    0,    0,    0,    0,    0,\n",
       "          0,    0,    0,    0,    0,    0,    0,    0,    0,    0,    0,\n",
       "          0,    0,    0,    0,    0,    0,    0,    0,    0,    0,    0,\n",
       "          0,    0,    0,    0,    0,    0,    0,    0,    0,    0,    0,\n",
       "          0,    0,    0,    0,    0,    0,    0,    0,    0,    0,    0,\n",
       "          0,    0,    0,    0,    0,    0,    0,    0,    0,    0,    0,\n",
       "          0,    0,    0,    0,    0,    0,    0,    0,    0,    0,    0,\n",
       "          0,    0,    0,    0,    0,    0,    0,    0,    0,    0,    0,\n",
       "          0,    0,    0,    0,    0,    0,    0,    0,    0,    0,    0,\n",
       "          0,    0,    0,    0,    0,    0,    0,    0,    0,    0,    0,\n",
       "          0,    0,    0,    0,    0,    0,    0,    0,    0,    0,    0,\n",
       "          0,    0,    0,    0,    0,    0,    0,    0,    0,    0,    0,\n",
       "          0,    0,    0,    0,    0,    0,    0,    0,    0,    0,    0,\n",
       "          0,    0,    0,    0,    0])"
      ]
     },
     "execution_count": 9,
     "metadata": {},
     "output_type": "execute_result"
    }
   ],
   "source": [
    "train_data[0]"
   ]
  },
  {
   "cell_type": "code",
   "execution_count": 10,
   "metadata": {},
   "outputs": [
    {
     "name": "stdout",
     "output_type": "stream",
     "text": [
      "Model: \"sequential\"\n",
      "_________________________________________________________________\n",
      "Layer (type)                 Output Shape              Param #   \n",
      "=================================================================\n",
      "embedding (Embedding)        (None, 500, 16)           160000    \n",
      "_________________________________________________________________\n",
      "global_average_pooling1d (Gl (None, 16)                0         \n",
      "_________________________________________________________________\n",
      "dense (Dense)                (None, 64)                1088      \n",
      "_________________________________________________________________\n",
      "dense_1 (Dense)              (None, 1)                 65        \n",
      "=================================================================\n",
      "Total params: 161,153\n",
      "Trainable params: 161,153\n",
      "Non-trainable params: 0\n",
      "_________________________________________________________________\n"
     ]
    }
   ],
   "source": [
    "embedding_dim = 16\n",
    "\n",
    "# 嵌入层被定义为网络的第一个隐藏层。\n",
    "# input_dim：这是文本数据中词汇的取值可能数\n",
    "# output_dim：这是嵌入单词的向量空间的大小，它为每个单词定义了这个层的输出向量的大小。\n",
    "# input_length：这是输入序列的长度，就像您为Keras模型的任何输入层所定义的一样，也就是一次输入带有的词汇个数。\n",
    "model = keras.models.Sequential([\n",
    "    keras.layers.Embedding(input_dim = vocab_size, output_dim = embedding_dim, input_length =maxlen),\n",
    "    \n",
    "    # 池化层\n",
    "    # 输入得数据格式为：(batch_size, maxlen, output_dim) => 输出得数据格式为：(batch_size, output_dim)\n",
    "    # 取消了maxlen\n",
    "    keras.layers.GlobalAveragePooling1D(),\n",
    "    keras.layers.Dense(64, activation='relu'),\n",
    "    keras.layers.Dense(1, activation='sigmoid')\n",
    "])\n",
    "\n",
    "model.summary()\n",
    "\n",
    "# Embedding: maxlen * output_dim (500 * 16)\n",
    "#            batch_size * maxlen * output_dim  (128 * 500 * 16)\n",
    "# GlobalAveragePooling1D: batch_size * output_dim (128 * 16)\n",
    "\n",
    "# input_dim * output_dim = 16 * 10000 = 160000\n",
    "# 64 * output_dim + 64 = 1088\n",
    "# 64 * 1 + 1 = 65"
   ]
  },
  {
   "cell_type": "code",
   "execution_count": 11,
   "metadata": {},
   "outputs": [],
   "source": [
    "model.compile(optimizer=\"adam\", loss=\"binary_crossentropy\", metrics=[\"accuracy\"])"
   ]
  },
  {
   "cell_type": "code",
   "execution_count": 12,
   "metadata": {},
   "outputs": [
    {
     "data": {
      "text/plain": [
       "(25000, 500)"
      ]
     },
     "execution_count": 12,
     "metadata": {},
     "output_type": "execute_result"
    }
   ],
   "source": [
    "train_data.shape"
   ]
  },
  {
   "cell_type": "code",
   "execution_count": 13,
   "metadata": {},
   "outputs": [
    {
     "name": "stdout",
     "output_type": "stream",
     "text": [
      "Epoch 1/20\n",
      "137/137 [==============================] - 1s 9ms/step - loss: 0.6863 - accuracy: 0.5981 - val_loss: 0.6642 - val_accuracy: 0.6507\n",
      "Epoch 2/20\n",
      "137/137 [==============================] - 1s 8ms/step - loss: 0.5747 - accuracy: 0.7846 - val_loss: 0.4756 - val_accuracy: 0.8308\n",
      "Epoch 3/20\n",
      "137/137 [==============================] - 1s 9ms/step - loss: 0.3889 - accuracy: 0.8679 - val_loss: 0.3658 - val_accuracy: 0.8523\n",
      "Epoch 4/20\n",
      "137/137 [==============================] - 1s 8ms/step - loss: 0.2967 - accuracy: 0.8930 - val_loss: 0.3104 - val_accuracy: 0.8819\n",
      "Epoch 5/20\n",
      "137/137 [==============================] - 1s 8ms/step - loss: 0.2485 - accuracy: 0.9106 - val_loss: 0.2989 - val_accuracy: 0.8808\n",
      "Epoch 6/20\n",
      "137/137 [==============================] - 1s 8ms/step - loss: 0.2190 - accuracy: 0.9216 - val_loss: 0.2857 - val_accuracy: 0.8895\n",
      "Epoch 7/20\n",
      "137/137 [==============================] - 1s 8ms/step - loss: 0.1939 - accuracy: 0.9317 - val_loss: 0.2786 - val_accuracy: 0.8928\n",
      "Epoch 8/20\n",
      "137/137 [==============================] - 1s 8ms/step - loss: 0.1746 - accuracy: 0.9389 - val_loss: 0.2772 - val_accuracy: 0.8953\n",
      "Epoch 9/20\n",
      "137/137 [==============================] - 1s 8ms/step - loss: 0.1583 - accuracy: 0.9471 - val_loss: 0.2800 - val_accuracy: 0.8941\n",
      "Epoch 10/20\n",
      "137/137 [==============================] - 1s 8ms/step - loss: 0.1434 - accuracy: 0.9533 - val_loss: 0.2829 - val_accuracy: 0.8964\n",
      "Epoch 11/20\n",
      "137/137 [==============================] - 1s 8ms/step - loss: 0.1315 - accuracy: 0.9576 - val_loss: 0.2996 - val_accuracy: 0.8871\n",
      "Epoch 12/20\n",
      "137/137 [==============================] - 1s 8ms/step - loss: 0.1197 - accuracy: 0.9614 - val_loss: 0.2988 - val_accuracy: 0.8913\n",
      "Epoch 13/20\n",
      "137/137 [==============================] - 1s 8ms/step - loss: 0.1101 - accuracy: 0.9638 - val_loss: 0.3137 - val_accuracy: 0.8887\n",
      "Epoch 14/20\n",
      "137/137 [==============================] - 1s 8ms/step - loss: 0.0998 - accuracy: 0.9682 - val_loss: 0.3171 - val_accuracy: 0.8915\n",
      "Epoch 15/20\n",
      "137/137 [==============================] - 1s 8ms/step - loss: 0.0905 - accuracy: 0.9722 - val_loss: 0.3269 - val_accuracy: 0.8897\n",
      "Epoch 16/20\n",
      "137/137 [==============================] - 1s 8ms/step - loss: 0.0824 - accuracy: 0.9761 - val_loss: 0.3394 - val_accuracy: 0.8871\n",
      "Epoch 17/20\n",
      "137/137 [==============================] - 1s 8ms/step - loss: 0.0748 - accuracy: 0.9790 - val_loss: 0.3547 - val_accuracy: 0.8883\n",
      "Epoch 18/20\n",
      "137/137 [==============================] - 1s 8ms/step - loss: 0.0691 - accuracy: 0.9806 - val_loss: 0.3672 - val_accuracy: 0.8840\n",
      "Epoch 19/20\n",
      "137/137 [==============================] - 1s 8ms/step - loss: 0.0624 - accuracy: 0.9835 - val_loss: 0.3806 - val_accuracy: 0.8851\n",
      "Epoch 20/20\n",
      "137/137 [==============================] - 1s 8ms/step - loss: 0.0569 - accuracy: 0.9853 - val_loss: 0.3949 - val_accuracy: 0.8845\n"
     ]
    }
   ],
   "source": [
    "callbacks = [keras.callbacks.EarlyStopping(patience=5, min_delta=1e-3)]\n",
    "history = model.fit(train_data, train_labels, epochs=20, validation_split=0.3, batch_size=128)\n",
    "# 25000 * 0.8 / 128 = 156.25"
   ]
  },
  {
   "cell_type": "code",
   "execution_count": 14,
   "metadata": {},
   "outputs": [
    {
     "data": {
      "image/png": "[encoded data removed]",
      "text/plain": [
       "<Figure size 576x360 with 1 Axes>"
      ]
     },
     "metadata": {
      "needs_background": "light"
     },
     "output_type": "display_data"
    },
    {
     "data": {
      "image/png": "[encoded data removed]",
      "text/plain": [
       "<Figure size 576x360 with 1 Axes>"
      ]
     },
     "metadata": {
      "needs_background": "light"
     },
     "output_type": "display_data"
    }
   ],
   "source": [
    "def plot_learning_curves(history, label, epochs, min_value, max_value):\n",
    "    data = {}\n",
    "    data[label] = history.history[label]\n",
    "    data['val_'+label] = history.history['val_'+label]\n",
    "    pd.DataFrame(data).plot(figsize=(8, 5))\n",
    "    plt.grid(True)\n",
    "    plt.axis([0, epochs, min_value, max_value])\n",
    "    plt.show()\n",
    "    \n",
    "plot_learning_curves(history, 'accuracy', 20, 0, 1.5)\n",
    "plot_learning_curves(history, 'loss', 20, 0, 1.5)"
   ]
  },
  {
   "cell_type": "code",
   "execution_count": 15,
   "metadata": {},
   "outputs": [
    {
     "name": "stdout",
     "output_type": "stream",
     "text": [
      "196/196 [==============================] - 0s 2ms/step - loss: 0.4283 - accuracy: 0.8706\n"
     ]
    },
    {
     "data": {
      "text/plain": [
       "[0.4283047914505005, 0.870639979839325]"
      ]
     },
     "execution_count": 15,
     "metadata": {},
     "output_type": "execute_result"
    }
   ],
   "source": [
    "model.evaluate(test_data, test_labels, batch_size=128)"
   ]
  }
 ],
 "metadata": {
  "kernelspec": {
   "display_name": "Python 3",
   "language": "python",
   "name": "python3"
  },
  "language_info": {
   "codemirror_mode": {
    "name": "ipython",
    "version": 3
   },
   "file_extension": ".py",
   "mimetype": "text/x-python",
   "name": "python",
   "nbconvert_exporter": "python",
   "pygments_lexer": "ipython3",
   "version": "3.8.3"
  }
 },
 "nbformat": 4,
 "nbformat_minor": 4
}
