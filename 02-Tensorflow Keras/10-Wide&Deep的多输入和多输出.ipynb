{
 "cells": [
  {
   "cell_type": "code",
   "execution_count": 1,
   "metadata": {},
   "outputs": [],
   "source": [
    "import tensorflow as tf\n",
    "from tensorflow import keras\n",
    "import numpy as np\n",
    "import sklearn\n",
    "import matplotlib.pyplot as plt\n",
    "from sklearn.preprocessing import StandardScaler\n",
    "import os\n",
    "import pandas as pd\n",
    "from sklearn.preprocessing import StandardScaler\n",
    "from sklearn.datasets import fetch_california_housing\n",
    "from sklearn.model_selection import train_test_split"
   ]
  },
  {
   "cell_type": "code",
   "execution_count": 2,
   "metadata": {},
   "outputs": [],
   "source": [
    "housing = fetch_california_housing()"
   ]
  },
  {
   "cell_type": "code",
   "execution_count": 3,
   "metadata": {},
   "outputs": [],
   "source": [
    "X, y = housing.data, housing.target\n",
    "X_train_all, X_test, y_train_all, y_test = train_test_split(X, y, random_state=7)\n",
    "X_train, X_valid, y_train, y_valid = train_test_split(X_train_all, y_train_all, random_state=11)"
   ]
  },
  {
   "cell_type": "code",
   "execution_count": 4,
   "metadata": {},
   "outputs": [],
   "source": [
    "stand_scale = StandardScaler()\n",
    "\n",
    "x_train_scale = stand_scale.fit_transform(X_train)\n",
    "x_valid_scale = stand_scale.transform(X_valid)\n",
    "x_test_scale = stand_scale.transform(X_test)"
   ]
  },
  {
   "cell_type": "code",
   "execution_count": 5,
   "metadata": {},
   "outputs": [
    {
     "name": "stdout",
     "output_type": "stream",
     "text": [
      "(11610, 8) (11610,)\n",
      "(3870, 8) (5160,)\n",
      "(5160, 8) (3870,)\n"
     ]
    }
   ],
   "source": [
    "print(x_train_scale.shape, y_train.shape)\n",
    "print(x_valid_scale.shape, y_test.shape)\n",
    "print(x_test_scale.shape, y_valid.shape)"
   ]
  },
  {
   "cell_type": "code",
   "execution_count": 6,
   "metadata": {},
   "outputs": [],
   "source": [
    "input_wide = keras.layers.Input(shape=(5))\n",
    "input_deep = keras.layers.Input(shape=(6))\n",
    "\n",
    "hidden1 = keras.layers.Dense(30, activation=\"relu\")(input_deep)\n",
    "hidden2 = keras.layers.Dense(30, activation=\"relu\")(hidden1)\n",
    "\n",
    "concat = keras.layers.concatenate([input_wide, hidden2])\n",
    "output1 = keras.layers.Dense(1)(concat)\n",
    "output2 = keras.layers.Dense(1)(hidden2)\n",
    "\n",
    "model = keras.models.Model(inputs=[input_wide, input_deep],\n",
    "                   outputs=[output1, output2])\n",
    "callbacks = [keras.callbacks.EarlyStopping(min_delta=1e-2, patience=5)]"
   ]
  },
  {
   "cell_type": "code",
   "execution_count": 7,
   "metadata": {},
   "outputs": [],
   "source": [
    "model.compile(optimizer= keras.optimizers.SGD(0.001), loss=\"mse\")"
   ]
  },
  {
   "cell_type": "code",
   "execution_count": 8,
   "metadata": {},
   "outputs": [
    {
     "name": "stdout",
     "output_type": "stream",
     "text": [
      "Model: \"functional_1\"\n",
      "__________________________________________________________________________________________________\n",
      "Layer (type)                    Output Shape         Param #     Connected to                     \n",
      "==================================================================================================\n",
      "input_2 (InputLayer)            [(None, 6)]          0                                            \n",
      "__________________________________________________________________________________________________\n",
      "dense (Dense)                   (None, 30)           210         input_2[0][0]                    \n",
      "__________________________________________________________________________________________________\n",
      "input_1 (InputLayer)            [(None, 5)]          0                                            \n",
      "__________________________________________________________________________________________________\n",
      "dense_1 (Dense)                 (None, 30)           930         dense[0][0]                      \n",
      "__________________________________________________________________________________________________\n",
      "concatenate (Concatenate)       (None, 35)           0           input_1[0][0]                    \n",
      "                                                                 dense_1[0][0]                    \n",
      "__________________________________________________________________________________________________\n",
      "dense_2 (Dense)                 (None, 1)            36          concatenate[0][0]                \n",
      "__________________________________________________________________________________________________\n",
      "dense_3 (Dense)                 (None, 1)            31          dense_1[0][0]                    \n",
      "==================================================================================================\n",
      "Total params: 1,207\n",
      "Trainable params: 1,207\n",
      "Non-trainable params: 0\n",
      "__________________________________________________________________________________________________\n"
     ]
    }
   ],
   "source": [
    "model.summary()"
   ]
  },
  {
   "cell_type": "code",
   "execution_count": 9,
   "metadata": {},
   "outputs": [],
   "source": [
    "x_train_scale_wide = x_train_scale[:, :5]\n",
    "x_train_scale_deep = x_train_scale[:, 2:]\n",
    "x_valid_scale_wide = x_valid_scale[:, :5]\n",
    "x_valid_scale_deep = x_valid_scale[:, 2:]\n",
    "x_test_scale_wide = x_test_scale[:, :5]\n",
    "x_test_scale_deep = x_test_scale[:, 2:]"
   ]
  },
  {
   "cell_type": "code",
   "execution_count": 10,
   "metadata": {},
   "outputs": [
    {
     "name": "stdout",
     "output_type": "stream",
     "text": [
      "Epoch 1/100\n",
      "363/363 [==============================] - 1s 4ms/step - loss: 4.0530 - dense_2_loss: 1.8361 - dense_3_loss: 2.2169 - val_loss: 2.4733 - val_dense_2_loss: 1.0021 - val_dense_3_loss: 1.4712\n",
      "Epoch 2/100\n",
      "363/363 [==============================] - 1s 3ms/step - loss: 2.0636 - dense_2_loss: 0.8212 - dense_3_loss: 1.2424 - val_loss: 2.0113 - val_dense_2_loss: 0.7770 - val_dense_3_loss: 1.2342\n",
      "Epoch 3/100\n",
      "363/363 [==============================] - 1s 3ms/step - loss: 1.7803 - dense_2_loss: 0.6856 - dense_3_loss: 1.0947 - val_loss: 1.7965 - val_dense_2_loss: 0.6983 - val_dense_3_loss: 1.0982\n",
      "Epoch 4/100\n",
      "363/363 [==============================] - 1s 3ms/step - loss: 1.5900 - dense_2_loss: 0.6198 - dense_3_loss: 0.9702 - val_loss: 1.6122 - val_dense_2_loss: 0.6398 - val_dense_3_loss: 0.9724\n",
      "Epoch 5/100\n",
      "363/363 [==============================] - 1s 3ms/step - loss: 1.4470 - dense_2_loss: 0.5795 - dense_3_loss: 0.8675 - val_loss: 1.4856 - val_dense_2_loss: 0.6060 - val_dense_3_loss: 0.8797\n",
      "Epoch 6/100\n",
      "363/363 [==============================] - 1s 3ms/step - loss: 1.3443 - dense_2_loss: 0.5520 - dense_3_loss: 0.7923 - val_loss: 1.3941 - val_dense_2_loss: 0.5806 - val_dense_3_loss: 0.8135\n",
      "Epoch 7/100\n",
      "363/363 [==============================] - 1s 3ms/step - loss: 1.2748 - dense_2_loss: 0.5336 - dense_3_loss: 0.7412 - val_loss: 1.3329 - val_dense_2_loss: 0.5605 - val_dense_3_loss: 0.7725\n",
      "Epoch 8/100\n",
      "363/363 [==============================] - 1s 3ms/step - loss: 1.2312 - dense_2_loss: 0.5205 - dense_3_loss: 0.7107 - val_loss: 1.2942 - val_dense_2_loss: 0.5480 - val_dense_3_loss: 0.7462\n",
      "Epoch 9/100\n",
      "363/363 [==============================] - 1s 3ms/step - loss: 1.1956 - dense_2_loss: 0.5061 - dense_3_loss: 0.6895 - val_loss: 1.2462 - val_dense_2_loss: 0.5288 - val_dense_3_loss: 0.7174\n",
      "Epoch 10/100\n",
      "363/363 [==============================] - 1s 2ms/step - loss: 1.1691 - dense_2_loss: 0.4973 - dense_3_loss: 0.6719 - val_loss: 1.2277 - val_dense_2_loss: 0.5218 - val_dense_3_loss: 0.7059\n",
      "Epoch 11/100\n",
      "363/363 [==============================] - 1s 4ms/step - loss: 1.1487 - dense_2_loss: 0.4860 - dense_3_loss: 0.6627 - val_loss: 1.2050 - val_dense_2_loss: 0.5096 - val_dense_3_loss: 0.6954\n",
      "Epoch 12/100\n",
      "363/363 [==============================] - 1s 3ms/step - loss: 1.1222 - dense_2_loss: 0.4767 - dense_3_loss: 0.6455 - val_loss: 1.1901 - val_dense_2_loss: 0.5031 - val_dense_3_loss: 0.6870\n",
      "Epoch 13/100\n",
      "363/363 [==============================] - 1s 3ms/step - loss: 1.1087 - dense_2_loss: 0.4692 - dense_3_loss: 0.6395 - val_loss: 1.1647 - val_dense_2_loss: 0.4929 - val_dense_3_loss: 0.6718\n",
      "Epoch 14/100\n",
      "363/363 [==============================] - 1s 3ms/step - loss: 1.0924 - dense_2_loss: 0.4638 - dense_3_loss: 0.6286 - val_loss: 1.1511 - val_dense_2_loss: 0.4864 - val_dense_3_loss: 0.6646\n",
      "Epoch 15/100\n",
      "363/363 [==============================] - 1s 3ms/step - loss: 1.0813 - dense_2_loss: 0.4592 - dense_3_loss: 0.6221 - val_loss: 1.1291 - val_dense_2_loss: 0.4812 - val_dense_3_loss: 0.6479\n",
      "Epoch 16/100\n",
      "363/363 [==============================] - 1s 3ms/step - loss: 1.0677 - dense_2_loss: 0.4529 - dense_3_loss: 0.6149 - val_loss: 1.1202 - val_dense_2_loss: 0.4744 - val_dense_3_loss: 0.6457\n",
      "Epoch 17/100\n",
      "363/363 [==============================] - 1s 4ms/step - loss: 1.0558 - dense_2_loss: 0.4482 - dense_3_loss: 0.6076 - val_loss: 1.1103 - val_dense_2_loss: 0.4707 - val_dense_3_loss: 0.6396\n",
      "Epoch 18/100\n",
      "363/363 [==============================] - 2s 4ms/step - loss: 1.0476 - dense_2_loss: 0.4442 - dense_3_loss: 0.6034 - val_loss: 1.0964 - val_dense_2_loss: 0.4685 - val_dense_3_loss: 0.6279\n",
      "Epoch 19/100\n",
      "363/363 [==============================] - 1s 3ms/step - loss: 1.0403 - dense_2_loss: 0.4404 - dense_3_loss: 0.5999 - val_loss: 1.1047 - val_dense_2_loss: 0.4708 - val_dense_3_loss: 0.6339\n",
      "Epoch 20/100\n",
      "363/363 [==============================] - 1s 4ms/step - loss: 1.0300 - dense_2_loss: 0.4369 - dense_3_loss: 0.5931 - val_loss: 1.1072 - val_dense_2_loss: 0.4572 - val_dense_3_loss: 0.6500\n",
      "Epoch 21/100\n",
      "363/363 [==============================] - 1s 3ms/step - loss: 1.0190 - dense_2_loss: 0.4302 - dense_3_loss: 0.5888 - val_loss: 1.0628 - val_dense_2_loss: 0.4496 - val_dense_3_loss: 0.6132\n",
      "Epoch 22/100\n",
      "363/363 [==============================] - 1s 3ms/step - loss: 1.0008 - dense_2_loss: 0.4251 - dense_3_loss: 0.5757 - val_loss: 1.0931 - val_dense_2_loss: 0.4482 - val_dense_3_loss: 0.6449\n",
      "Epoch 23/100\n",
      "363/363 [==============================] - 1s 3ms/step - loss: 0.9905 - dense_2_loss: 0.4214 - dense_3_loss: 0.5691 - val_loss: 1.0492 - val_dense_2_loss: 0.4404 - val_dense_3_loss: 0.6089\n",
      "Epoch 24/100\n",
      "363/363 [==============================] - 1s 4ms/step - loss: 0.9804 - dense_2_loss: 0.4184 - dense_3_loss: 0.5619 - val_loss: 1.0336 - val_dense_2_loss: 0.4386 - val_dense_3_loss: 0.5950\n",
      "Epoch 25/100\n",
      "363/363 [==============================] - 1s 3ms/step - loss: 0.9758 - dense_2_loss: 0.4153 - dense_3_loss: 0.5604 - val_loss: 1.0243 - val_dense_2_loss: 0.4357 - val_dense_3_loss: 0.5887\n",
      "Epoch 26/100\n",
      "363/363 [==============================] - 1s 3ms/step - loss: 0.9639 - dense_2_loss: 0.4113 - dense_3_loss: 0.5526 - val_loss: 1.0146 - val_dense_2_loss: 0.4299 - val_dense_3_loss: 0.5847\n",
      "Epoch 27/100\n",
      "363/363 [==============================] - 1s 3ms/step - loss: 0.9549 - dense_2_loss: 0.4078 - dense_3_loss: 0.5471 - val_loss: 1.0043 - val_dense_2_loss: 0.4299 - val_dense_3_loss: 0.5745\n",
      "Epoch 28/100\n",
      "363/363 [==============================] - 1s 3ms/step - loss: 0.9473 - dense_2_loss: 0.4049 - dense_3_loss: 0.5424 - val_loss: 0.9959 - val_dense_2_loss: 0.4235 - val_dense_3_loss: 0.5724\n",
      "Epoch 29/100\n",
      "363/363 [==============================] - 1s 3ms/step - loss: 0.9395 - dense_2_loss: 0.4026 - dense_3_loss: 0.5369 - val_loss: 0.9933 - val_dense_2_loss: 0.4289 - val_dense_3_loss: 0.5644\n",
      "Epoch 30/100\n",
      "363/363 [==============================] - 1s 3ms/step - loss: 0.9326 - dense_2_loss: 0.4006 - dense_3_loss: 0.5320 - val_loss: 0.9929 - val_dense_2_loss: 0.4228 - val_dense_3_loss: 0.5701\n",
      "Epoch 31/100\n",
      "363/363 [==============================] - 1s 3ms/step - loss: 0.9240 - dense_2_loss: 0.3976 - dense_3_loss: 0.5264 - val_loss: 0.9726 - val_dense_2_loss: 0.4161 - val_dense_3_loss: 0.5564\n",
      "Epoch 32/100\n",
      "363/363 [==============================] - 1s 3ms/step - loss: 0.9214 - dense_2_loss: 0.3960 - dense_3_loss: 0.5254 - val_loss: 0.9732 - val_dense_2_loss: 0.4133 - val_dense_3_loss: 0.5598\n",
      "Epoch 33/100\n",
      "363/363 [==============================] - 1s 3ms/step - loss: 0.9165 - dense_2_loss: 0.3938 - dense_3_loss: 0.5227 - val_loss: 1.0387 - val_dense_2_loss: 0.4151 - val_dense_3_loss: 0.6235\n",
      "Epoch 34/100\n",
      "363/363 [==============================] - 1s 3ms/step - loss: 0.9055 - dense_2_loss: 0.3912 - dense_3_loss: 0.5144 - val_loss: 0.9516 - val_dense_2_loss: 0.4167 - val_dense_3_loss: 0.5349\n",
      "Epoch 35/100\n",
      "363/363 [==============================] - 1s 3ms/step - loss: 0.9008 - dense_2_loss: 0.3894 - dense_3_loss: 0.5114 - val_loss: 0.9394 - val_dense_2_loss: 0.4062 - val_dense_3_loss: 0.5332\n",
      "Epoch 36/100\n",
      "363/363 [==============================] - 1s 3ms/step - loss: 0.8923 - dense_2_loss: 0.3874 - dense_3_loss: 0.5049 - val_loss: 0.9380 - val_dense_2_loss: 0.4035 - val_dense_3_loss: 0.5345\n",
      "Epoch 37/100\n",
      "363/363 [==============================] - 1s 3ms/step - loss: 0.8853 - dense_2_loss: 0.3844 - dense_3_loss: 0.5009 - val_loss: 1.0086 - val_dense_2_loss: 0.4038 - val_dense_3_loss: 0.6048\n",
      "Epoch 38/100\n",
      "363/363 [==============================] - 1s 3ms/step - loss: 0.8815 - dense_2_loss: 0.3833 - dense_3_loss: 0.4982 - val_loss: 0.9260 - val_dense_2_loss: 0.4034 - val_dense_3_loss: 0.5226\n",
      "Epoch 39/100\n",
      "363/363 [==============================] - 1s 3ms/step - loss: 0.8758 - dense_2_loss: 0.3819 - dense_3_loss: 0.4939 - val_loss: 0.9195 - val_dense_2_loss: 0.3965 - val_dense_3_loss: 0.5230\n",
      "Epoch 40/100\n",
      "363/363 [==============================] - 1s 3ms/step - loss: 0.8706 - dense_2_loss: 0.3810 - dense_3_loss: 0.4896 - val_loss: 0.9218 - val_dense_2_loss: 0.3965 - val_dense_3_loss: 0.5253\n",
      "Epoch 41/100\n"
     ]
    },
    {
     "name": "stdout",
     "output_type": "stream",
     "text": [
      "363/363 [==============================] - 1s 4ms/step - loss: 0.8674 - dense_2_loss: 0.3791 - dense_3_loss: 0.4883 - val_loss: 0.9185 - val_dense_2_loss: 0.3943 - val_dense_3_loss: 0.5242\n",
      "Epoch 42/100\n",
      "363/363 [==============================] - 1s 3ms/step - loss: 0.8623 - dense_2_loss: 0.3776 - dense_3_loss: 0.4847 - val_loss: 0.9005 - val_dense_2_loss: 0.3940 - val_dense_3_loss: 0.5065\n",
      "Epoch 43/100\n",
      "363/363 [==============================] - 1s 3ms/step - loss: 0.8570 - dense_2_loss: 0.3757 - dense_3_loss: 0.4813 - val_loss: 0.8973 - val_dense_2_loss: 0.3925 - val_dense_3_loss: 0.5048\n",
      "Epoch 44/100\n",
      "363/363 [==============================] - 1s 3ms/step - loss: 0.8496 - dense_2_loss: 0.3736 - dense_3_loss: 0.4760 - val_loss: 0.8971 - val_dense_2_loss: 0.3888 - val_dense_3_loss: 0.5083\n",
      "Epoch 45/100\n",
      "363/363 [==============================] - 1s 2ms/step - loss: 0.8460 - dense_2_loss: 0.3725 - dense_3_loss: 0.4735 - val_loss: 0.8947 - val_dense_2_loss: 0.3965 - val_dense_3_loss: 0.4982\n",
      "Epoch 46/100\n",
      "363/363 [==============================] - 1s 3ms/step - loss: 0.8414 - dense_2_loss: 0.3715 - dense_3_loss: 0.4699 - val_loss: 0.8796 - val_dense_2_loss: 0.3920 - val_dense_3_loss: 0.4876\n",
      "Epoch 47/100\n",
      "363/363 [==============================] - 1s 4ms/step - loss: 0.8462 - dense_2_loss: 0.3754 - dense_3_loss: 0.4707 - val_loss: 0.8775 - val_dense_2_loss: 0.3903 - val_dense_3_loss: 0.4872\n",
      "Epoch 48/100\n",
      "363/363 [==============================] - 1s 2ms/step - loss: 0.8356 - dense_2_loss: 0.3705 - dense_3_loss: 0.4652 - val_loss: 0.8793 - val_dense_2_loss: 0.3917 - val_dense_3_loss: 0.4876\n",
      "Epoch 49/100\n",
      "363/363 [==============================] - 1s 4ms/step - loss: 0.8269 - dense_2_loss: 0.3676 - dense_3_loss: 0.4593 - val_loss: 0.8699 - val_dense_2_loss: 0.3911 - val_dense_3_loss: 0.4788\n",
      "Epoch 50/100\n",
      "363/363 [==============================] - 1s 3ms/step - loss: 0.8222 - dense_2_loss: 0.3661 - dense_3_loss: 0.4561 - val_loss: 0.8657 - val_dense_2_loss: 0.3920 - val_dense_3_loss: 0.4737\n",
      "Epoch 51/100\n",
      "363/363 [==============================] - 1s 3ms/step - loss: 0.8169 - dense_2_loss: 0.3639 - dense_3_loss: 0.4531 - val_loss: 0.8571 - val_dense_2_loss: 0.3871 - val_dense_3_loss: 0.4699\n",
      "Epoch 52/100\n",
      "363/363 [==============================] - 1s 2ms/step - loss: 0.8161 - dense_2_loss: 0.3638 - dense_3_loss: 0.4522 - val_loss: 0.8499 - val_dense_2_loss: 0.3813 - val_dense_3_loss: 0.4685\n",
      "Epoch 53/100\n",
      "363/363 [==============================] - 1s 2ms/step - loss: 0.8129 - dense_2_loss: 0.3630 - dense_3_loss: 0.4499 - val_loss: 0.8499 - val_dense_2_loss: 0.3854 - val_dense_3_loss: 0.4646\n",
      "Epoch 54/100\n",
      "363/363 [==============================] - 1s 3ms/step - loss: 0.8070 - dense_2_loss: 0.3604 - dense_3_loss: 0.4466 - val_loss: 0.8518 - val_dense_2_loss: 0.3857 - val_dense_3_loss: 0.4660\n",
      "Epoch 55/100\n",
      "363/363 [==============================] - 1s 4ms/step - loss: 0.8047 - dense_2_loss: 0.3600 - dense_3_loss: 0.4447 - val_loss: 0.8467 - val_dense_2_loss: 0.3844 - val_dense_3_loss: 0.4623\n",
      "Epoch 56/100\n",
      "363/363 [==============================] - 1s 3ms/step - loss: 0.8030 - dense_2_loss: 0.3597 - dense_3_loss: 0.4433 - val_loss: 0.8506 - val_dense_2_loss: 0.3900 - val_dense_3_loss: 0.4607\n",
      "Epoch 57/100\n",
      "363/363 [==============================] - 2s 4ms/step - loss: 0.7997 - dense_2_loss: 0.3583 - dense_3_loss: 0.4414 - val_loss: 0.8453 - val_dense_2_loss: 0.3876 - val_dense_3_loss: 0.4577\n"
     ]
    }
   ],
   "source": [
    "history = model.fit([x_train_scale_wide, x_train_scale_deep], [y_train, y_train], \n",
    "                    validation_data=([x_valid_scale_wide, x_valid_scale_deep], [y_valid, y_valid]), \n",
    "                    epochs=100, \n",
    "                    callbacks=callbacks)"
   ]
  },
  {
   "cell_type": "code",
   "execution_count": 11,
   "metadata": {},
   "outputs": [
    {
     "data": {
      "image/png": "[encoded data removed]",
      "text/plain": [
       "<Figure size 432x288 with 1 Axes>"
      ]
     },
     "metadata": {
      "needs_background": "light"
     },
     "output_type": "display_data"
    }
   ],
   "source": [
    "def plt_learning_curve(history):\n",
    "    pd.DataFrame(history).plot(figsize=(6,4))\n",
    "    plt.grid(True)\n",
    "    plt.ylim(0, 1)\n",
    "    plt.show()\n",
    "    \n",
    "plt_learning_curve(history.history)"
   ]
  },
  {
   "cell_type": "code",
   "execution_count": 12,
   "metadata": {},
   "outputs": [
    {
     "name": "stdout",
     "output_type": "stream",
     "text": [
      "162/162 [==============================] - 0s 2ms/step - loss: 0.8131 - dense_2_loss: 0.3699 - dense_3_loss: 0.4433\n"
     ]
    },
    {
     "data": {
      "text/plain": [
       "[0.8131380677223206, 0.3698509633541107, 0.44328683614730835]"
      ]
     },
     "execution_count": 12,
     "metadata": {},
     "output_type": "execute_result"
    }
   ],
   "source": [
    "model.evaluate([x_test_scale_wide, x_test_scale_deep], [y_test, y_test])"
   ]
  },
  {
   "cell_type": "code",
   "execution_count": null,
   "metadata": {},
   "outputs": [],
   "source": []
  }
 ],
 "metadata": {
  "kernelspec": {
   "display_name": "Python 3",
   "language": "python",
   "name": "python3"
  },
  "language_info": {
   "codemirror_mode": {
    "name": "ipython",
    "version": 3
   },
   "file_extension": ".py",
   "mimetype": "text/x-python",
   "name": "python",
   "nbconvert_exporter": "python",
   "pygments_lexer": "ipython3",
   "version": "3.8.3"
  }
 },
 "nbformat": 4,
 "nbformat_minor": 4
}
