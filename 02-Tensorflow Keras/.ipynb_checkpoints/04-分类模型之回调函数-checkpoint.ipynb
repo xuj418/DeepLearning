{
 "cells": [
  {
   "cell_type": "code",
   "execution_count": 1,
   "metadata": {},
   "outputs": [],
   "source": [
    "import tensorflow as tf\n",
    "from tensorflow import keras\n",
    "import numpy as np\n",
    "import sklearn\n",
    "import matplotlib.pyplot as plt\n",
    "from sklearn.preprocessing import StandardScaler\n",
    "import os\n",
    "import pandas as pd\n",
    "from sklearn.preprocessing import StandardScaler"
   ]
  },
  {
   "cell_type": "code",
   "execution_count": 2,
   "metadata": {},
   "outputs": [],
   "source": [
    "fashion_mnist = keras.datasets.fashion_mnist\n",
    "\n",
    "(x_train, y_train), (x_test, y_test) = fashion_mnist.load_data()\n",
    "x_valid, x_train = x_train[:5000], x_train[5000:]\n",
    "y_valid, y_train = y_train[:5000], y_train[5000:]"
   ]
  },
  {
   "cell_type": "code",
   "execution_count": 3,
   "metadata": {},
   "outputs": [],
   "source": [
    "stand_scale = StandardScaler()\n",
    "\n",
    "x_train_trans = stand_scale.fit_transform(x_train.reshape(-1, 1)).reshape(-1, 28, 28)\n",
    "x_valid_trans = stand_scale.transform(x_valid.reshape(-1, 1)).reshape(-1, 28, 28)\n",
    "x_test_trans = stand_scale.transform(x_test.reshape(-1, 1)).reshape(-1, 28, 28)"
   ]
  },
  {
   "cell_type": "code",
   "execution_count": 4,
   "metadata": {},
   "outputs": [],
   "source": [
    "model = keras.models.Sequential([\n",
    "    keras.layers.Flatten(input_shape=[28, 28]),\n",
    "    keras.layers.Dense(300, activation=\"relu\"),\n",
    "    keras.layers.Dense(100, activation=\"relu\"),\n",
    "    keras.layers.Dense(10, activation=\"softmax\")\n",
    "])"
   ]
  },
  {
   "cell_type": "code",
   "execution_count": 5,
   "metadata": {},
   "outputs": [],
   "source": [
    "model.compile(optimizer=keras.optimizers.SGD(0.001), \n",
    "              loss='sparse_categorical_crossentropy', \n",
    "              metrics = [\"accuracy\"])"
   ]
  },
  {
   "cell_type": "code",
   "execution_count": 6,
   "metadata": {},
   "outputs": [],
   "source": [
    "# TensorBoard, ModelCheckpoint, EarlyStopping\n",
    "\n",
    "logdir = \"./callbacks\"\n",
    "if not os.path.exists(logdir):\n",
    "    os.mkdir(logdir)\n",
    "output_model_file = os.path.join(logdir, \"fashin_minist_model.h5\")\n",
    "\n",
    "callbacks = [\n",
    "    tf.keras.callbacks.TensorBoard(logdir),\n",
    "    tf.keras.callbacks.ModelCheckpoint(output_model_file, save_best_only = True),\n",
    "    #min_delta:与上一次的阈值比较，小于就stop；patience:连续几次发生的情况下\n",
    "    tf.keras.callbacks.EarlyStopping(min_delta=1e-3, patience=2)  \n",
    "]"
   ]
  },
  {
   "cell_type": "code",
   "execution_count": 7,
   "metadata": {},
   "outputs": [
    {
     "name": "stdout",
     "output_type": "stream",
     "text": [
      "Train on 55000 samples, validate on 5000 samples\n",
      "Epoch 1/5\n",
      "55000/55000 [==============================] - 8s 148us/sample - loss: 0.9037 - accuracy: 0.7074 - val_loss: 0.6135 - val_accuracy: 0.7912\n",
      "Epoch 2/5\n",
      "55000/55000 [==============================] - 7s 135us/sample - loss: 0.5800 - accuracy: 0.7974 - val_loss: 0.5234 - val_accuracy: 0.8212\n",
      "Epoch 3/5\n",
      "55000/55000 [==============================] - 8s 150us/sample - loss: 0.5150 - accuracy: 0.8182 - val_loss: 0.4815 - val_accuracy: 0.8360\n",
      "Epoch 4/5\n",
      "55000/55000 [==============================] - 7s 136us/sample - loss: 0.4789 - accuracy: 0.8310 - val_loss: 0.4553 - val_accuracy: 0.8470\n",
      "Epoch 5/5\n",
      "55000/55000 [==============================] - 6s 110us/sample - loss: 0.4548 - accuracy: 0.8387 - val_loss: 0.4362 - val_accuracy: 0.8524\n"
     ]
    }
   ],
   "source": [
    "history = model.fit(x_train_trans, y_train, epochs=5, \n",
    "          validation_data=(x_valid_trans, y_valid), callbacks=callbacks)"
   ]
  },
  {
   "cell_type": "code",
   "execution_count": 12,
   "metadata": {},
   "outputs": [
    {
     "data": {
      "image/png": "[encoded data removed]",
      "text/plain": [
       "<Figure size 720x576 with 1 Axes>"
      ]
     },
     "metadata": {
      "needs_background": "light"
     },
     "output_type": "display_data"
    }
   ],
   "source": [
    "def plt_learning_curve(history):\n",
    "    pd.DataFrame(history).plot(figsize=(10,8))\n",
    "    plt.grid(True)\n",
    "    plt.ylim(0, 1)\n",
    "    plt.show()\n",
    "    \n",
    "plt_learning_curve(history.history)"
   ]
  },
  {
   "cell_type": "code",
   "execution_count": 9,
   "metadata": {},
   "outputs": [
    {
     "name": "stdout",
     "output_type": "stream",
     "text": [
      "10000/10000 [==============================] - 1s 57us/sample - loss: 0.4767 - accuracy: 0.8270\n"
     ]
    },
    {
     "data": {
      "text/plain": [
       "[0.4767039520740509, 0.827]"
      ]
     },
     "execution_count": 9,
     "metadata": {},
     "output_type": "execute_result"
    }
   ],
   "source": [
    "model.evaluate(x_test_trans, y_test)"
   ]
  },
  {
   "cell_type": "code",
   "execution_count": 10,
   "metadata": {},
   "outputs": [],
   "source": [
    "# Tensorbord打开命令\n",
    "# python /Users/xujian/.local/lib/python3.7/site-packages/tensorboard/main.py --logdir=callbacks"
   ]
  },
  {
   "cell_type": "code",
   "execution_count": null,
   "metadata": {},
   "outputs": [],
   "source": []
  }
 ],
 "metadata": {
  "kernelspec": {
   "display_name": "Python 3",
   "language": "python",
   "name": "python3"
  },
  "language_info": {
   "codemirror_mode": {
    "name": "ipython",
    "version": 3
   },
   "file_extension": ".py",
   "mimetype": "text/x-python",
   "name": "python",
   "nbconvert_exporter": "python",
   "pygments_lexer": "ipython3",
   "version": "3.7.7"
  }
 },
 "nbformat": 4,
 "nbformat_minor": 4
}
