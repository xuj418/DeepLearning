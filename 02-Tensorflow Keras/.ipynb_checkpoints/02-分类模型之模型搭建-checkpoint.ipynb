{
 "cells": [
  {
   "cell_type": "code",
   "execution_count": 1,
   "metadata": {},
   "outputs": [],
   "source": [
    "import tensorflow as tf\n",
    "from tensorflow import keras\n",
    "import numpy as np\n",
    "import sklearn\n",
    "import matplotlib.pyplot as plt\n",
    "from sklearn.preprocessing import StandardScaler\n",
    "import os\n",
    "import pandas as pd"
   ]
  },
  {
   "cell_type": "code",
   "execution_count": 2,
   "metadata": {},
   "outputs": [],
   "source": [
    "fashion_mnist = keras.datasets.fashion_mnist\n",
    "(x_train, y_train), (x_test, y_test) = fashion_mnist.load_data()\n",
    "x_valid, x_train = x_train[:5000], x_train[5000:]\n",
    "y_valid, y_train = y_train[:5000], y_train[5000:]"
   ]
  },
  {
   "cell_type": "code",
   "execution_count": 3,
   "metadata": {},
   "outputs": [
    {
     "name": "stdout",
     "output_type": "stream",
     "text": [
      "(55000, 28, 28) (55000,)\n",
      "(5000, 28, 28) (5000,)\n",
      "(10000, 28, 28) (10000,)\n"
     ]
    }
   ],
   "source": [
    "print(x_train.shape, y_train.shape)\n",
    "print(x_valid.shape, y_valid.shape)\n",
    "print(x_test.shape, y_test.shape)"
   ]
  },
  {
   "cell_type": "code",
   "execution_count": 4,
   "metadata": {},
   "outputs": [],
   "source": [
    "# relu: y = max(0, x)\n",
    "# softmax: x = [x0, x1, x2], y = [e^x0/sum, e^x1/sum, e^x2/sum], sum=e^x0 + e^x1 + e^x2\n",
    " \n",
    "model = keras.models.Sequential()\n",
    "model.add(keras.layers.Flatten(input_shape=[28, 28]))\n",
    "model.add(keras.layers.Dense(300, activation=\"relu\"))\n",
    "model.add(keras.layers.Dense(100, activation=\"relu\"))\n",
    "model.add(keras.layers.Dense(10, activation=\"softmax\"))"
   ]
  },
  {
   "cell_type": "code",
   "execution_count": 5,
   "metadata": {},
   "outputs": [
    {
     "name": "stdout",
     "output_type": "stream",
     "text": [
      "Model: \"sequential\"\n",
      "_________________________________________________________________\n",
      "Layer (type)                 Output Shape              Param #   \n",
      "=================================================================\n",
      "flatten (Flatten)            (None, 784)               0         \n",
      "_________________________________________________________________\n",
      "dense (Dense)                (None, 300)               235500    \n",
      "_________________________________________________________________\n",
      "dense_1 (Dense)              (None, 100)               30100     \n",
      "_________________________________________________________________\n",
      "dense_2 (Dense)              (None, 10)                1010      \n",
      "=================================================================\n",
      "Total params: 266,610\n",
      "Trainable params: 266,610\n",
      "Non-trainable params: 0\n",
      "_________________________________________________________________\n"
     ]
    }
   ],
   "source": [
    "# (None, 784) * w + b => (None, 300), w=(784, 300), b=(300, ) 784*300+300=235500\n",
    "\n",
    "model.summary()"
   ]
  },
  {
   "cell_type": "code",
   "execution_count": 6,
   "metadata": {},
   "outputs": [],
   "source": [
    "# sparse_categorical_crossentropy, y:index -> one-hot -> 向量\n",
    "\n",
    "model.compile(optimizer=keras.optimizers.SGD(0.001), \n",
    "              loss='sparse_categorical_crossentropy', \n",
    "              metrics=['accuracy'])"
   ]
  },
  {
   "cell_type": "code",
   "execution_count": 7,
   "metadata": {},
   "outputs": [
    {
     "name": "stdout",
     "output_type": "stream",
     "text": [
      "Train on 55000 samples, validate on 5000 samples\n",
      "Epoch 1/10\n",
      "55000/55000 [==============================] - 5s 99us/sample - loss: 2.5178 - accuracy: 0.7329 - val_loss: 0.6941 - val_accuracy: 0.7430\n",
      "Epoch 2/10\n",
      "55000/55000 [==============================] - 5s 91us/sample - loss: 0.5527 - accuracy: 0.7997 - val_loss: 0.5542 - val_accuracy: 0.8042\n",
      "Epoch 3/10\n",
      "55000/55000 [==============================] - 5s 91us/sample - loss: 0.4966 - accuracy: 0.8189 - val_loss: 0.5073 - val_accuracy: 0.8214\n",
      "Epoch 4/10\n",
      "55000/55000 [==============================] - 5s 94us/sample - loss: 0.4618 - accuracy: 0.8318 - val_loss: 0.4635 - val_accuracy: 0.8416\n",
      "Epoch 5/10\n",
      "55000/55000 [==============================] - 5s 96us/sample - loss: 0.4380 - accuracy: 0.8404 - val_loss: 0.4547 - val_accuracy: 0.8438\n",
      "Epoch 6/10\n",
      "55000/55000 [==============================] - 5s 97us/sample - loss: 0.4205 - accuracy: 0.8458 - val_loss: 0.4553 - val_accuracy: 0.8436\n",
      "Epoch 7/10\n",
      "55000/55000 [==============================] - 5s 94us/sample - loss: 0.4036 - accuracy: 0.8509 - val_loss: 0.4608 - val_accuracy: 0.8404\n",
      "Epoch 8/10\n",
      "55000/55000 [==============================] - 5s 96us/sample - loss: 0.3912 - accuracy: 0.8551 - val_loss: 0.4332 - val_accuracy: 0.8550\n",
      "Epoch 9/10\n",
      "55000/55000 [==============================] - 6s 109us/sample - loss: 0.3796 - accuracy: 0.8600 - val_loss: 0.4393 - val_accuracy: 0.8514\n",
      "Epoch 10/10\n",
      "55000/55000 [==============================] - 7s 121us/sample - loss: 0.3695 - accuracy: 0.8635 - val_loss: 0.4290 - val_accuracy: 0.8550\n"
     ]
    }
   ],
   "source": [
    "history = model.fit(x_train, y_train, epochs=10, validation_data=(x_valid, y_valid))"
   ]
  },
  {
   "cell_type": "code",
   "execution_count": 8,
   "metadata": {},
   "outputs": [
    {
     "data": {
      "text/plain": [
       "{'loss': [2.517814048463648,\n",
       "  0.5526619590412487,\n",
       "  0.49664466993592005,\n",
       "  0.4618383243300698,\n",
       "  0.4379708119999279,\n",
       "  0.4204879817139019,\n",
       "  0.40356382767070426,\n",
       "  0.3911504902016033,\n",
       "  0.3796342136816545,\n",
       "  0.3694932744806463],\n",
       " 'accuracy': [0.73285455,\n",
       "  0.79965454,\n",
       "  0.8189091,\n",
       "  0.83181816,\n",
       "  0.84041816,\n",
       "  0.8457636,\n",
       "  0.8509273,\n",
       "  0.8550909,\n",
       "  0.8600364,\n",
       "  0.8634727],\n",
       " 'val_loss': [0.6940798177719116,\n",
       "  0.5541831158638001,\n",
       "  0.5073174829721451,\n",
       "  0.4635099402189255,\n",
       "  0.45467772176265714,\n",
       "  0.4553478875875473,\n",
       "  0.46075882625579834,\n",
       "  0.433152947807312,\n",
       "  0.4392853492498398,\n",
       "  0.4290295795440674],\n",
       " 'val_accuracy': [0.743,\n",
       "  0.8042,\n",
       "  0.8214,\n",
       "  0.8416,\n",
       "  0.8438,\n",
       "  0.8436,\n",
       "  0.8404,\n",
       "  0.855,\n",
       "  0.8514,\n",
       "  0.855]}"
      ]
     },
     "execution_count": 8,
     "metadata": {},
     "output_type": "execute_result"
    }
   ],
   "source": [
    "history.history"
   ]
  },
  {
   "cell_type": "code",
   "execution_count": 14,
   "metadata": {},
   "outputs": [],
   "source": [
    "def plt_learning_curve(history):\n",
    "    pd.DataFrame(history).plot()\n",
    "    plt.grid(True)\n",
    "    plt.ylim(0, 1)\n",
    "    plt.show()"
   ]
  },
  {
   "cell_type": "code",
   "execution_count": 15,
   "metadata": {},
   "outputs": [
    {
     "data": {
      "image/png": "[encoded data removed]",
      "text/plain": [
       "<Figure size 432x288 with 1 Axes>"
      ]
     },
     "metadata": {
      "needs_background": "light"
     },
     "output_type": "display_data"
    }
   ],
   "source": [
    "plt_learning_curve(history.history)"
   ]
  },
  {
   "cell_type": "code",
   "execution_count": 16,
   "metadata": {},
   "outputs": [],
   "source": [
    "model2 = keras.models.Sequential([\n",
    "    keras.layers.Flatten(input_shape=[28, 28]),\n",
    "    keras.layers.Dense(300, activation=\"relu\"),\n",
    "    keras.layers.Dense(100, activation=\"relu\"),\n",
    "    keras.layers.Dense(10, activation=\"softmax\")\n",
    "])"
   ]
  },
  {
   "cell_type": "code",
   "execution_count": 17,
   "metadata": {},
   "outputs": [],
   "source": [
    "model2.compile(optimizer=keras.optimizers.SGD(0.001), \n",
    "              loss='sparse_categorical_crossentropy', \n",
    "              metrics=['accuracy'])"
   ]
  },
  {
   "cell_type": "code",
   "execution_count": 18,
   "metadata": {},
   "outputs": [
    {
     "name": "stdout",
     "output_type": "stream",
     "text": [
      "Train on 55000 samples, validate on 5000 samples\n",
      "Epoch 1/10\n",
      "55000/55000 [==============================] - 6s 108us/sample - loss: 3.3162 - accuracy: 0.6709 - val_loss: 0.6635 - val_accuracy: 0.7608\n",
      "Epoch 2/10\n",
      "55000/55000 [==============================] - 6s 108us/sample - loss: 0.6455 - accuracy: 0.7579 - val_loss: 0.5869 - val_accuracy: 0.7810\n",
      "Epoch 3/10\n",
      "55000/55000 [==============================] - 6s 104us/sample - loss: 0.5817 - accuracy: 0.7784 - val_loss: 0.6717 - val_accuracy: 0.7514\n",
      "Epoch 4/10\n",
      "55000/55000 [==============================] - 5s 98us/sample - loss: 0.5358 - accuracy: 0.7941 - val_loss: 0.5410 - val_accuracy: 0.8022\n",
      "Epoch 5/10\n",
      "55000/55000 [==============================] - 5s 98us/sample - loss: 0.5075 - accuracy: 0.8032 - val_loss: 0.5301 - val_accuracy: 0.8072\n",
      "Epoch 6/10\n",
      "55000/55000 [==============================] - 5s 99us/sample - loss: 0.4879 - accuracy: 0.8099 - val_loss: 0.5376 - val_accuracy: 0.8072\n",
      "Epoch 7/10\n",
      "55000/55000 [==============================] - 5s 99us/sample - loss: 0.4706 - accuracy: 0.8168 - val_loss: 0.5247 - val_accuracy: 0.8120\n",
      "Epoch 8/10\n",
      "55000/55000 [==============================] - 5s 98us/sample - loss: 0.4580 - accuracy: 0.8207 - val_loss: 0.5053 - val_accuracy: 0.8270\n",
      "Epoch 9/10\n",
      "55000/55000 [==============================] - 5s 99us/sample - loss: 0.4430 - accuracy: 0.8307 - val_loss: 0.5163 - val_accuracy: 0.8280\n",
      "Epoch 10/10\n",
      "55000/55000 [==============================] - 5s 100us/sample - loss: 0.4214 - accuracy: 0.8428 - val_loss: 0.4642 - val_accuracy: 0.8438\n"
     ]
    }
   ],
   "source": [
    "history2 = model2.fit(x_train, y_train, epochs=10, validation_data=(x_valid, y_valid))"
   ]
  },
  {
   "cell_type": "code",
   "execution_count": 19,
   "metadata": {},
   "outputs": [
    {
     "data": {
      "image/png": "[encoded data removed]",
      "text/plain": [
       "<Figure size 432x288 with 1 Axes>"
      ]
     },
     "metadata": {
      "needs_background": "light"
     },
     "output_type": "display_data"
    }
   ],
   "source": [
    "plt_learning_curve(history2.history)"
   ]
  },
  {
   "cell_type": "code",
   "execution_count": null,
   "metadata": {},
   "outputs": [],
   "source": []
  }
 ],
 "metadata": {
  "kernelspec": {
   "display_name": "Python 3",
   "language": "python",
   "name": "python3"
  },
  "language_info": {
   "codemirror_mode": {
    "name": "ipython",
    "version": 3
   },
   "file_extension": ".py",
   "mimetype": "text/x-python",
   "name": "python",
   "nbconvert_exporter": "python",
   "pygments_lexer": "ipython3",
   "version": "3.7.7"
  }
 },
 "nbformat": 4,
 "nbformat_minor": 4
}
