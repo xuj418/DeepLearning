{
 "cells": [
  {
   "cell_type": "code",
   "execution_count": 1,
   "metadata": {},
   "outputs": [],
   "source": [
    "import tensorflow as tf\n",
    "from tensorflow import keras\n",
    "import numpy as np\n",
    "import sklearn\n",
    "import matplotlib.pyplot as plt\n",
    "from sklearn.preprocessing import StandardScaler\n",
    "import os\n",
    "import pandas as pd\n",
    "from sklearn.preprocessing import StandardScaler"
   ]
  },
  {
   "cell_type": "code",
   "execution_count": 2,
   "metadata": {},
   "outputs": [],
   "source": [
    "fashion_mnist = keras.datasets.fashion_mnist\n",
    "(x_train, y_train), (x_test, y_test) = fashion_mnist.load_data()\n",
    "x_valid, x_train = x_train[:5000], x_train[5000:]\n",
    "y_valid, y_train = y_train[:5000], y_train[5000:]"
   ]
  },
  {
   "cell_type": "code",
   "execution_count": 10,
   "metadata": {},
   "outputs": [
    {
     "name": "stdout",
     "output_type": "stream",
     "text": [
      "255 0\n"
     ]
    }
   ],
   "source": [
    "print(np.max(x_train), np.min(x_train))"
   ]
  },
  {
   "cell_type": "code",
   "execution_count": 3,
   "metadata": {},
   "outputs": [],
   "source": [
    "stand_scale = StandardScaler()"
   ]
  },
  {
   "cell_type": "code",
   "execution_count": 5,
   "metadata": {},
   "outputs": [],
   "source": [
    "# x_train:fit_transform; x_valid,x_test:transform\n",
    "\n",
    "x_train_trans = stand_scale.fit_transform(x_train.reshape(-1, 1)).reshape(-1, 28, 28)\n",
    "x_valid_trans = stand_scale.transform(x_valid.reshape(-1, 1)).reshape(-1, 28, 28)\n",
    "x_test_trans = stand_scale.transform(x_test.reshape(-1, 1)).reshape(-1, 28, 28)"
   ]
  },
  {
   "cell_type": "code",
   "execution_count": 11,
   "metadata": {},
   "outputs": [
    {
     "name": "stdout",
     "output_type": "stream",
     "text": [
      "2.023143278665243 -0.8105136544337038\n"
     ]
    }
   ],
   "source": [
    "print(np.max(x_train_trans), np.min(x_train_trans))"
   ]
  },
  {
   "cell_type": "code",
   "execution_count": 6,
   "metadata": {},
   "outputs": [],
   "source": [
    "model = keras.models.Sequential([\n",
    "    keras.layers.Flatten(input_shape=[28, 28]),\n",
    "    keras.layers.Dense(300, activation=\"relu\"),\n",
    "    keras.layers.Dense(100, activation=\"relu\"),\n",
    "    keras.layers.Dense(10, activation=\"softmax\")\n",
    "])"
   ]
  },
  {
   "cell_type": "code",
   "execution_count": 7,
   "metadata": {},
   "outputs": [],
   "source": [
    "model.compile(optimizer=keras.optimizers.SGD(0.001), \n",
    "              loss='sparse_categorical_crossentropy', \n",
    "              metrics=['accuracy'])"
   ]
  },
  {
   "cell_type": "code",
   "execution_count": 8,
   "metadata": {},
   "outputs": [
    {
     "name": "stdout",
     "output_type": "stream",
     "text": [
      "Train on 55000 samples, validate on 5000 samples\n",
      "Epoch 1/10\n",
      "55000/55000 [==============================] - 6s 113us/sample - loss: 0.9026 - accuracy: 0.7094 - val_loss: 0.6066 - val_accuracy: 0.7964\n",
      "Epoch 2/10\n",
      "55000/55000 [==============================] - 5s 95us/sample - loss: 0.5675 - accuracy: 0.8060 - val_loss: 0.5136 - val_accuracy: 0.8238\n",
      "Epoch 3/10\n",
      "55000/55000 [==============================] - 5s 94us/sample - loss: 0.5039 - accuracy: 0.8249 - val_loss: 0.4731 - val_accuracy: 0.8382\n",
      "Epoch 4/10\n",
      "55000/55000 [==============================] - 5s 96us/sample - loss: 0.4695 - accuracy: 0.8360 - val_loss: 0.4476 - val_accuracy: 0.8476\n",
      "Epoch 5/10\n",
      "55000/55000 [==============================] - 5s 97us/sample - loss: 0.4466 - accuracy: 0.8427 - val_loss: 0.4343 - val_accuracy: 0.8506\n",
      "Epoch 6/10\n",
      "55000/55000 [==============================] - 5s 94us/sample - loss: 0.4296 - accuracy: 0.8497 - val_loss: 0.4222 - val_accuracy: 0.8546\n",
      "Epoch 7/10\n",
      "55000/55000 [==============================] - 5s 97us/sample - loss: 0.4162 - accuracy: 0.8539 - val_loss: 0.4084 - val_accuracy: 0.8616\n",
      "Epoch 8/10\n",
      "55000/55000 [==============================] - 5s 93us/sample - loss: 0.4051 - accuracy: 0.8581 - val_loss: 0.4016 - val_accuracy: 0.8642\n",
      "Epoch 9/10\n",
      "55000/55000 [==============================] - 5s 99us/sample - loss: 0.3961 - accuracy: 0.8603 - val_loss: 0.3943 - val_accuracy: 0.8648\n",
      "Epoch 10/10\n",
      "55000/55000 [==============================] - 5s 98us/sample - loss: 0.3877 - accuracy: 0.8637 - val_loss: 0.3883 - val_accuracy: 0.8658\n"
     ]
    }
   ],
   "source": [
    "history = model.fit(x_train_trans, y_train, epochs=10, validation_data=(x_valid_trans, y_valid))"
   ]
  },
  {
   "cell_type": "code",
   "execution_count": 9,
   "metadata": {},
   "outputs": [
    {
     "name": "stdout",
     "output_type": "stream",
     "text": [
      "10000/10000 [==============================] - 1s 55us/sample - loss: 0.4211 - accuracy: 0.8473\n"
     ]
    },
    {
     "data": {
      "text/plain": [
       "[0.4210648817539215, 0.8473]"
      ]
     },
     "execution_count": 9,
     "metadata": {},
     "output_type": "execute_result"
    }
   ],
   "source": [
    "model.evaluate(x_test_trans, y_test)"
   ]
  },
  {
   "cell_type": "code",
   "execution_count": null,
   "metadata": {},
   "outputs": [],
   "source": []
  }
 ],
 "metadata": {
  "kernelspec": {
   "display_name": "Python 3",
   "language": "python",
   "name": "python3"
  },
  "language_info": {
   "codemirror_mode": {
    "name": "ipython",
    "version": 3
   },
   "file_extension": ".py",
   "mimetype": "text/x-python",
   "name": "python",
   "nbconvert_exporter": "python",
   "pygments_lexer": "ipython3",
   "version": "3.7.7"
  }
 },
 "nbformat": 4,
 "nbformat_minor": 4
}
