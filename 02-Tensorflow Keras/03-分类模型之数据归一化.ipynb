{
 "cells": [
  {
   "cell_type": "code",
   "execution_count": 1,
   "metadata": {},
   "outputs": [],
   "source": [
    "import tensorflow as tf\n",
    "from tensorflow import keras\n",
    "import numpy as np\n",
    "import sklearn\n",
    "import matplotlib.pyplot as plt\n",
    "from sklearn.preprocessing import StandardScaler\n",
    "import os\n",
    "import pandas as pd\n",
    "from sklearn.preprocessing import StandardScaler"
   ]
  },
  {
   "cell_type": "code",
   "execution_count": 2,
   "metadata": {},
   "outputs": [],
   "source": [
    "fashion_mnist = keras.datasets.fashion_mnist\n",
    "(x_train, y_train), (x_test, y_test) = fashion_mnist.load_data()\n",
    "x_valid, x_train = x_train[:5000], x_train[5000:]\n",
    "y_valid, y_train = y_train[:5000], y_train[5000:]"
   ]
  },
  {
   "cell_type": "code",
   "execution_count": 3,
   "metadata": {},
   "outputs": [
    {
     "name": "stdout",
     "output_type": "stream",
     "text": [
      "255 0\n"
     ]
    }
   ],
   "source": [
    "print(np.max(x_train), np.min(x_train))"
   ]
  },
  {
   "cell_type": "code",
   "execution_count": 4,
   "metadata": {},
   "outputs": [],
   "source": [
    "stand_scale = StandardScaler()"
   ]
  },
  {
   "cell_type": "code",
   "execution_count": 5,
   "metadata": {},
   "outputs": [],
   "source": [
    "# x_train:fit_transform; x_valid,x_test:transform\n",
    "\n",
    "x_train_trans = stand_scale.fit_transform(x_train.reshape(-1, 1)).reshape(-1, 28, 28)\n",
    "x_valid_trans = stand_scale.transform(x_valid.reshape(-1, 1)).reshape(-1, 28, 28)\n",
    "x_test_trans = stand_scale.transform(x_test.reshape(-1, 1)).reshape(-1, 28, 28)"
   ]
  },
  {
   "cell_type": "code",
   "execution_count": 6,
   "metadata": {},
   "outputs": [
    {
     "name": "stdout",
     "output_type": "stream",
     "text": [
      "2.023143278665243 -0.8105136544337038\n"
     ]
    }
   ],
   "source": [
    "print(np.max(x_train_trans), np.min(x_train_trans))"
   ]
  },
  {
   "cell_type": "code",
   "execution_count": 7,
   "metadata": {},
   "outputs": [],
   "source": [
    "model = keras.models.Sequential([\n",
    "    keras.layers.Flatten(input_shape=[28, 28]),\n",
    "    keras.layers.Dense(300, activation=\"relu\"),\n",
    "    keras.layers.Dense(100, activation=\"relu\"),\n",
    "    keras.layers.Dense(10, activation=\"softmax\")\n",
    "])"
   ]
  },
  {
   "cell_type": "code",
   "execution_count": 8,
   "metadata": {},
   "outputs": [],
   "source": [
    "model.compile(optimizer=keras.optimizers.SGD(0.001), \n",
    "              loss='sparse_categorical_crossentropy', \n",
    "              metrics=['accuracy'])"
   ]
  },
  {
   "cell_type": "code",
   "execution_count": 9,
   "metadata": {},
   "outputs": [
    {
     "name": "stdout",
     "output_type": "stream",
     "text": [
      "Train on 55000 samples, validate on 5000 samples\n",
      "Epoch 1/10\n",
      "55000/55000 [==============================] - 6s 111us/sample - loss: 0.9147 - accuracy: 0.7039 - val_loss: 0.6167 - val_accuracy: 0.7944\n",
      "Epoch 2/10\n",
      "55000/55000 [==============================] - 6s 108us/sample - loss: 0.5777 - accuracy: 0.8022 - val_loss: 0.5221 - val_accuracy: 0.8242\n",
      "Epoch 3/10\n",
      "55000/55000 [==============================] - 6s 105us/sample - loss: 0.5099 - accuracy: 0.8215 - val_loss: 0.4805 - val_accuracy: 0.8362\n",
      "Epoch 4/10\n",
      "55000/55000 [==============================] - 6s 113us/sample - loss: 0.4741 - accuracy: 0.8346 - val_loss: 0.4547 - val_accuracy: 0.8440\n",
      "Epoch 5/10\n",
      "55000/55000 [==============================] - 6s 109us/sample - loss: 0.4503 - accuracy: 0.8429 - val_loss: 0.4403 - val_accuracy: 0.8494\n",
      "Epoch 6/10\n",
      "55000/55000 [==============================] - 6s 111us/sample - loss: 0.4332 - accuracy: 0.8486 - val_loss: 0.4256 - val_accuracy: 0.8546\n",
      "Epoch 7/10\n",
      "55000/55000 [==============================] - 8s 147us/sample - loss: 0.4196 - accuracy: 0.8523 - val_loss: 0.4155 - val_accuracy: 0.8590\n",
      "Epoch 8/10\n",
      "55000/55000 [==============================] - 10s 179us/sample - loss: 0.4086 - accuracy: 0.8557 - val_loss: 0.4057 - val_accuracy: 0.8634\n",
      "Epoch 9/10\n",
      "55000/55000 [==============================] - 10s 175us/sample - loss: 0.3992 - accuracy: 0.8595 - val_loss: 0.3986 - val_accuracy: 0.8608\n",
      "Epoch 10/10\n",
      "55000/55000 [==============================] - 9s 168us/sample - loss: 0.3909 - accuracy: 0.8620 - val_loss: 0.3937 - val_accuracy: 0.8652\n"
     ]
    }
   ],
   "source": [
    "history = model.fit(x_train_trans, y_train, epochs=10, validation_data=(x_valid_trans, y_valid))"
   ]
  },
  {
   "cell_type": "code",
   "execution_count": 16,
   "metadata": {},
   "outputs": [
    {
     "data": {
      "image/png": "[encoded data removed]",
      "text/plain": [
       "<Figure size 720x720 with 1 Axes>"
      ]
     },
     "metadata": {
      "needs_background": "light"
     },
     "output_type": "display_data"
    }
   ],
   "source": [
    "def plt_learning_curve(history):\n",
    "    pd.DataFrame(history).plot(figsize=(10,10))\n",
    "    plt.grid(True)\n",
    "    plt.ylim(0, 1)\n",
    "    plt.show()\n",
    "    \n",
    "plt_learning_curve(history.history)"
   ]
  },
  {
   "cell_type": "code",
   "execution_count": 11,
   "metadata": {},
   "outputs": [
    {
     "name": "stdout",
     "output_type": "stream",
     "text": [
      "10000/10000 [==============================] - 1s 96us/sample - loss: 0.4265 - accuracy: 0.8477\n"
     ]
    },
    {
     "data": {
      "text/plain": [
       "[0.426499648809433, 0.8477]"
      ]
     },
     "execution_count": 11,
     "metadata": {},
     "output_type": "execute_result"
    }
   ],
   "source": [
    "model.evaluate(x_test_trans, y_test)"
   ]
  },
  {
   "cell_type": "code",
   "execution_count": null,
   "metadata": {},
   "outputs": [],
   "source": []
  }
 ],
 "metadata": {
  "kernelspec": {
   "display_name": "Python 3",
   "language": "python",
   "name": "python3"
  },
  "language_info": {
   "codemirror_mode": {
    "name": "ipython",
    "version": 3
   },
   "file_extension": ".py",
   "mimetype": "text/x-python",
   "name": "python",
   "nbconvert_exporter": "python",
   "pygments_lexer": "ipython3",
   "version": "3.7.7"
  }
 },
 "nbformat": 4,
 "nbformat_minor": 4
}
