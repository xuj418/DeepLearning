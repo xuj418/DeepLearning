{
 "cells": [
  {
   "cell_type": "code",
   "execution_count": 1,
   "metadata": {},
   "outputs": [],
   "source": [
    "import tensorflow as tf\n",
    "from tensorflow import keras\n",
    "import numpy as np\n",
    "import sklearn\n",
    "import matplotlib.pyplot as plt\n",
    "from sklearn.preprocessing import StandardScaler\n",
    "import os\n",
    "import pandas as pd\n",
    "from sklearn.preprocessing import StandardScaler"
   ]
  },
  {
   "cell_type": "code",
   "execution_count": 2,
   "metadata": {},
   "outputs": [],
   "source": [
    "fashion_mnist = keras.datasets.fashion_mnist\n",
    "\n",
    "(x_train, y_train), (x_test, y_test) = fashion_mnist.load_data()\n",
    "x_valid, x_train = x_train[:5000], x_train[5000:]\n",
    "y_valid, y_train = y_train[:5000], y_train[5000:]"
   ]
  },
  {
   "cell_type": "code",
   "execution_count": 3,
   "metadata": {},
   "outputs": [],
   "source": [
    "stand_scale = StandardScaler()\n",
    "\n",
    "x_train_trans = stand_scale.fit_transform(x_train.reshape(-1, 1)).reshape(-1, 28, 28)\n",
    "x_valid_trans = stand_scale.transform(x_valid.reshape(-1, 1)).reshape(-1, 28, 28)\n",
    "x_test_trans = stand_scale.transform(x_test.reshape(-1, 1)).reshape(-1, 28, 28)"
   ]
  },
  {
   "cell_type": "code",
   "execution_count": 10,
   "metadata": {},
   "outputs": [],
   "source": [
    "# dropout\n",
    "model = keras.models.Sequential()\n",
    "model.add(keras.layers.Flatten(input_shape=[28, 28]))\n",
    "for _ in range(20):\n",
    "    model.add(keras.layers.Dense(100, activation=\"selu\"))\n",
    "\n",
    "# rate:drop probability\n",
    "# AlphaDropout:1.均值与方差不变，2.归一化不变\n",
    "model.add(keras.layers.AlphaDropout(rate=0.5))\n",
    "\n",
    "\"\"\"\n",
    "model.add(keras.layers.Dropout(rate=0.5))\n",
    "\"\"\"\n",
    "model.add(keras.layers.Dense(10, activation=\"softmax\"))"
   ]
  },
  {
   "cell_type": "code",
   "execution_count": 11,
   "metadata": {},
   "outputs": [],
   "source": [
    "model.compile(optimizer=keras.optimizers.SGD(0.001), \n",
    "              loss='sparse_categorical_crossentropy', \n",
    "              metrics = [\"accuracy\"])\n",
    "callbacks = [keras.callbacks.EarlyStopping(patience=5, min_delta=1e-3)]"
   ]
  },
  {
   "cell_type": "code",
   "execution_count": 12,
   "metadata": {},
   "outputs": [
    {
     "name": "stdout",
     "output_type": "stream",
     "text": [
      "Model: \"sequential_1\"\n",
      "_________________________________________________________________\n",
      "Layer (type)                 Output Shape              Param #   \n",
      "=================================================================\n",
      "flatten_1 (Flatten)          (None, 784)               0         \n",
      "_________________________________________________________________\n",
      "dense_21 (Dense)             (None, 100)               78500     \n",
      "_________________________________________________________________\n",
      "dense_22 (Dense)             (None, 100)               10100     \n",
      "_________________________________________________________________\n",
      "dense_23 (Dense)             (None, 100)               10100     \n",
      "_________________________________________________________________\n",
      "dense_24 (Dense)             (None, 100)               10100     \n",
      "_________________________________________________________________\n",
      "dense_25 (Dense)             (None, 100)               10100     \n",
      "_________________________________________________________________\n",
      "dense_26 (Dense)             (None, 100)               10100     \n",
      "_________________________________________________________________\n",
      "dense_27 (Dense)             (None, 100)               10100     \n",
      "_________________________________________________________________\n",
      "dense_28 (Dense)             (None, 100)               10100     \n",
      "_________________________________________________________________\n",
      "dense_29 (Dense)             (None, 100)               10100     \n",
      "_________________________________________________________________\n",
      "dense_30 (Dense)             (None, 100)               10100     \n",
      "_________________________________________________________________\n",
      "dense_31 (Dense)             (None, 100)               10100     \n",
      "_________________________________________________________________\n",
      "dense_32 (Dense)             (None, 100)               10100     \n",
      "_________________________________________________________________\n",
      "dense_33 (Dense)             (None, 100)               10100     \n",
      "_________________________________________________________________\n",
      "dense_34 (Dense)             (None, 100)               10100     \n",
      "_________________________________________________________________\n",
      "dense_35 (Dense)             (None, 100)               10100     \n",
      "_________________________________________________________________\n",
      "dense_36 (Dense)             (None, 100)               10100     \n",
      "_________________________________________________________________\n",
      "dense_37 (Dense)             (None, 100)               10100     \n",
      "_________________________________________________________________\n",
      "dense_38 (Dense)             (None, 100)               10100     \n",
      "_________________________________________________________________\n",
      "dense_39 (Dense)             (None, 100)               10100     \n",
      "_________________________________________________________________\n",
      "dense_40 (Dense)             (None, 100)               10100     \n",
      "_________________________________________________________________\n",
      "alpha_dropout_1 (AlphaDropou (None, 100)               0         \n",
      "_________________________________________________________________\n",
      "dense_41 (Dense)             (None, 10)                1010      \n",
      "=================================================================\n",
      "Total params: 271,410\n",
      "Trainable params: 271,410\n",
      "Non-trainable params: 0\n",
      "_________________________________________________________________\n"
     ]
    }
   ],
   "source": [
    "model.summary()"
   ]
  },
  {
   "cell_type": "code",
   "execution_count": 13,
   "metadata": {},
   "outputs": [
    {
     "name": "stdout",
     "output_type": "stream",
     "text": [
      "Train on 55000 samples, validate on 5000 samples\n",
      "Epoch 1/10\n",
      "55000/55000 [==============================] - 9s 155us/sample - loss: 1.1163 - accuracy: 0.6181 - val_loss: 0.7485 - val_accuracy: 0.8058\n",
      "Epoch 2/10\n",
      "55000/55000 [==============================] - 8s 144us/sample - loss: 0.6862 - accuracy: 0.7746 - val_loss: 0.6907 - val_accuracy: 0.8308\n",
      "Epoch 3/10\n",
      "55000/55000 [==============================] - 9s 168us/sample - loss: 0.5802 - accuracy: 0.8098 - val_loss: 0.6515 - val_accuracy: 0.8418\n",
      "Epoch 4/10\n",
      "55000/55000 [==============================] - 8s 143us/sample - loss: 0.5220 - accuracy: 0.8309 - val_loss: 0.6244 - val_accuracy: 0.8470\n",
      "Epoch 5/10\n",
      "55000/55000 [==============================] - 7s 136us/sample - loss: 0.4814 - accuracy: 0.8429 - val_loss: 0.6495 - val_accuracy: 0.8546\n",
      "Epoch 6/10\n",
      "55000/55000 [==============================] - 7s 136us/sample - loss: 0.4527 - accuracy: 0.8507 - val_loss: 0.5889 - val_accuracy: 0.8532\n",
      "Epoch 7/10\n",
      "55000/55000 [==============================] - 7s 136us/sample - loss: 0.4298 - accuracy: 0.8575 - val_loss: 0.5786 - val_accuracy: 0.8638\n",
      "Epoch 8/10\n",
      "55000/55000 [==============================] - 7s 136us/sample - loss: 0.4096 - accuracy: 0.8629 - val_loss: 0.6014 - val_accuracy: 0.8666\n",
      "Epoch 9/10\n",
      "55000/55000 [==============================] - 7s 136us/sample - loss: 0.3919 - accuracy: 0.8687 - val_loss: 0.5728 - val_accuracy: 0.8698\n",
      "Epoch 10/10\n",
      "55000/55000 [==============================] - 7s 136us/sample - loss: 0.3812 - accuracy: 0.8714 - val_loss: 0.5589 - val_accuracy: 0.8622\n"
     ]
    }
   ],
   "source": [
    "history = model.fit(x_train_trans, y_train, epochs=10, \n",
    "          validation_data=(x_valid_trans, y_valid), callbacks=callbacks)"
   ]
  },
  {
   "cell_type": "code",
   "execution_count": 14,
   "metadata": {},
   "outputs": [
    {
     "data": {
      "image/png": "[encoded data removed]",
      "text/plain": [
       "<Figure size 720x576 with 1 Axes>"
      ]
     },
     "metadata": {
      "needs_background": "light"
     },
     "output_type": "display_data"
    }
   ],
   "source": [
    "def plt_learning_curve(history):\n",
    "    pd.DataFrame(history).plot(figsize=(10,8))\n",
    "    plt.grid(True)\n",
    "    plt.ylim(0, 1)\n",
    "    plt.show()\n",
    "    \n",
    "plt_learning_curve(history.history)"
   ]
  },
  {
   "cell_type": "code",
   "execution_count": 15,
   "metadata": {},
   "outputs": [
    {
     "name": "stdout",
     "output_type": "stream",
     "text": [
      "10000/10000 [==============================] - 1s 72us/sample - loss: 0.6332 - accuracy: 0.8496\n"
     ]
    },
    {
     "data": {
      "text/plain": [
       "[0.6332102592103184, 0.8496]"
      ]
     },
     "execution_count": 15,
     "metadata": {},
     "output_type": "execute_result"
    }
   ],
   "source": [
    "model.evaluate(x_test_trans, y_test)"
   ]
  },
  {
   "cell_type": "code",
   "execution_count": null,
   "metadata": {},
   "outputs": [],
   "source": []
  }
 ],
 "metadata": {
  "kernelspec": {
   "display_name": "Python 3",
   "language": "python",
   "name": "python3"
  },
  "language_info": {
   "codemirror_mode": {
    "name": "ipython",
    "version": 3
   },
   "file_extension": ".py",
   "mimetype": "text/x-python",
   "name": "python",
   "nbconvert_exporter": "python",
   "pygments_lexer": "ipython3",
   "version": "3.7.7"
  }
 },
 "nbformat": 4,
 "nbformat_minor": 4
}
