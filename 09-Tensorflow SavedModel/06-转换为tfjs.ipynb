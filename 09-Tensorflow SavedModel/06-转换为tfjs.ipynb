{
 "cells": [
  {
   "cell_type": "code",
   "execution_count": 1,
   "metadata": {},
   "outputs": [],
   "source": [
    "import tensorflow as tf\n",
    "from tensorflow import keras\n",
    "import numpy as np\n",
    "import sklearn \n",
    "import matplotlib.pyplot as plt\n",
    "from sklearn.preprocessing import StandardScaler\n",
    "import os\n",
    "import pandas as pd\n",
    "from sklearn.preprocessing import StandardScaler\n",
    "from sklearn.datasets import fetch_california_housing\n",
    "from sklearn.model_selection import train_test_split\n",
    "import h5py"
   ]
  },
  {
   "cell_type": "code",
   "execution_count": 2,
   "metadata": {},
   "outputs": [],
   "source": [
    "loaded_keras_models = keras.models.load_model(\"./graph_def_and_weights/fashin_mnist.h5\")"
   ]
  },
  {
   "cell_type": "code",
   "execution_count": 3,
   "metadata": {},
   "outputs": [],
   "source": [
    "import tensorflowjs as tfjs"
   ]
  },
  {
   "cell_type": "code",
   "execution_count": 4,
   "metadata": {
    "scrolled": true
   },
   "outputs": [
    {
     "name": "stderr",
     "output_type": "stream",
     "text": [
      "D:\\anaconda3\\lib\\site-packages\\tensorflowjs\\converters\\keras_h5_conversion.py:123: H5pyDeprecationWarning: The default file mode will change to 'r' (read-only) in h5py 3.0. To suppress this warning, pass the mode you need to h5py.File(), or set the global default h5.get_config().default_file_mode, or set the environment variable H5PY_DEFAULT_READONLY=1. Available modes are: 'r', 'r+', 'w', 'w-'/'x', 'a'. See the docs for details.\n",
      "  return h5py.File(h5file)\n"
     ]
    }
   ],
   "source": [
    "tfjs.converters.save_keras_model(loaded_keras_models, \"./tfjs/keras_model_tfjs\")"
   ]
  },
  {
   "cell_type": "markdown",
   "metadata": {},
   "source": [
    "### 命令"
   ]
  },
  {
   "cell_type": "code",
   "execution_count": 5,
   "metadata": {},
   "outputs": [
    {
     "name": "stdout",
     "output_type": "stream",
     "text": [
      "usage: TensorFlow.js model converters. [-h]\n",
      "                                       [--input_format {tf_hub,tfjs_layers_model,tf_saved_model,keras_saved_model,tf_frozen_model,keras}]\n",
      "                                       [--output_format {tfjs_graph_model,keras_saved_model,keras,tfjs_layers_model}]\n",
      "                                       [--signature_name SIGNATURE_NAME]\n",
      "                                       [--saved_model_tags SAVED_MODEL_TAGS]\n",
      "                                       [--quantize_float16 [QUANTIZE_FLOAT16]]\n",
      "                                       [--quantize_uint8 [QUANTIZE_UINT8]]\n",
      "                                       [--quantize_uint16 [QUANTIZE_UINT16]]\n",
      "                                       [--quantization_bytes {1,2}]\n",
      "                                       [--split_weights_by_layer] [--version]\n",
      "                                       [--skip_op_check]\n",
      "                                       [--strip_debug_ops STRIP_DEBUG_OPS]\n",
      "                                       [--weight_shard_size_bytes WEIGHT_SHARD_SIZE_BYTES]\n",
      "                                       [--output_node_names OUTPUT_NODE_NAMES]\n",
      "                                       [--control_flow_v2 CONTROL_FLOW_V2]\n",
      "                                       [--experiments EXPERIMENTS]\n",
      "                                       [input_path] [output_path]\n",
      "\n",
      "positional arguments:\n",
      "  input_path            Path to the input file or directory. For input format\n",
      "                        \"keras\", an HDF5 (.h5) file is expected. For input\n",
      "                        format \"tensorflow\", a SavedModel directory, frozen\n",
      "                        model file, or TF-Hub module is expected.\n",
      "  output_path           Path for all output artifacts.\n",
      "\n",
      "optional arguments:\n",
      "  -h, --help            show this help message and exit\n",
      "  --input_format {tf_hub,tfjs_layers_model,tf_saved_model,keras_saved_model,tf_frozen_model,keras}\n",
      "                        Input format. For \"keras\", the input path can be one\n",
      "                        of the two following formats: - A topology+weights\n",
      "                        combined HDF5 (e.g., generated with\n",
      "                        `tf.keras.model.save_model()` method). - A weights-\n",
      "                        only HDF5 (e.g., generated with Keras Model's\n",
      "                        `save_weights()` method). For \"keras_saved_model\", the\n",
      "                        input_path must point to a subfolder under the saved\n",
      "                        model folder that is passed as the argument to\n",
      "                        tf.contrib.save_model.save_keras_model(). The\n",
      "                        subfolder is generated automatically by tensorflow\n",
      "                        when saving keras model in the SavedModel format. It\n",
      "                        is usually named as a Unix epoch time (e.g.,\n",
      "                        1542212752). For \"tf\" formats, a SavedModel, frozen\n",
      "                        model, or TF-Hub module is expected.\n",
      "  --output_format {tfjs_graph_model,keras_saved_model,keras,tfjs_layers_model}\n",
      "                        Output format. Default: tfjs_graph_model.\n",
      "  --signature_name SIGNATURE_NAME\n",
      "                        Signature of the SavedModel Graph or TF-Hub module to\n",
      "                        load. Applicable only if input format is \"tf_hub\" or\n",
      "                        \"tf_saved_model\".\n",
      "  --saved_model_tags SAVED_MODEL_TAGS\n",
      "                        Tags of the MetaGraphDef to load, in comma separated\n",
      "                        string format. Defaults to \"serve\". Applicable only if\n",
      "                        input format is \"tf_saved_model\".\n",
      "  --quantize_float16 [QUANTIZE_FLOAT16]\n",
      "                        Comma separated list of node names to apply float16\n",
      "                        quantization. You can also use wildcard symbol (*) to\n",
      "                        apply quantization to multiple nodes (e.g.,\n",
      "                        conv/*/weights). When the flag is provided without any\n",
      "                        nodes the default behavior will match all nodes.\n",
      "  --quantize_uint8 [QUANTIZE_UINT8]\n",
      "                        Comma separated list of node names to apply 1-byte\n",
      "                        affine quantization. You can also use wildcard symbol\n",
      "                        (*) to apply quantization to multiple nodes (e.g.,\n",
      "                        conv/*/weights). When the flag is provided without any\n",
      "                        nodes the default behavior will match all nodes.\n",
      "  --quantize_uint16 [QUANTIZE_UINT16]\n",
      "                        Comma separated list of node names to apply 2-byte\n",
      "                        affine quantization. You can also use wildcard symbol\n",
      "                        (*) to apply quantization to multiple nodes (e.g.,\n",
      "                        conv/*/weights). When the flag is provided without any\n",
      "                        nodes the default behavior will match all nodes.\n",
      "  --quantization_bytes {1,2}\n",
      "                        (Deprecated) How many bytes to optionally\n",
      "                        quantize/compress the weights to. 1- and 2-byte\n",
      "                        quantizaton is supported. The default (unquantized)\n",
      "                        size is 4 bytes.\n",
      "  --split_weights_by_layer\n",
      "                        Applicable to keras input_format only: Whether the\n",
      "                        weights from different layers are to be stored in\n",
      "                        separate weight groups, corresponding to separate\n",
      "                        binary weight files. Default: False.\n",
      "  --version, -v         Show versions of tensorflowjs and its dependencies\n",
      "  --skip_op_check       Skip op validation for TensorFlow model conversion.\n",
      "  --strip_debug_ops STRIP_DEBUG_OPS\n",
      "                        Strip debug ops (Print, Assert, CheckNumerics) from\n",
      "                        graph.\n",
      "  --weight_shard_size_bytes WEIGHT_SHARD_SIZE_BYTES\n",
      "                        Shard size (in bytes) of the weight files. Currently\n",
      "                        applicable only when output_format is\n",
      "                        tfjs_layers_model or tfjs_graph_model.\n",
      "  --output_node_names OUTPUT_NODE_NAMES\n",
      "                        The names of the output nodes, separated by commas.\n",
      "                        E.g., \"logits,activations\". Applicable only if input\n",
      "                        format is \"tf_frozen_model\".\n",
      "  --control_flow_v2 CONTROL_FLOW_V2\n",
      "                        Enable control flow v2 ops, this would improve\n",
      "                        inference performance on models with branches or\n",
      "                        loops.\n",
      "  --experiments EXPERIMENTS\n",
      "                        Enable experimental features, you should only enable\n",
      "                        this flag when using Python3 and TensorFlow nightly\n",
      "                        build.\n"
     ]
    }
   ],
   "source": [
    "!tensorflowjs_converter --help"
   ]
  },
  {
   "cell_type": "code",
   "execution_count": 6,
   "metadata": {},
   "outputs": [],
   "source": [
    "!tensorflowjs_converter --input_format keras \\\n",
    "    --output_format tfjs_layers_model \\\n",
    "    ./graph_def_and_weights/fashin_mnist.h5 \\\n",
    "    ./tfjs/keras_model_tfjs_doc"
   ]
  },
  {
   "cell_type": "code",
   "execution_count": null,
   "metadata": {},
   "outputs": [],
   "source": []
  }
 ],
 "metadata": {
  "kernelspec": {
   "display_name": "Python 3",
   "language": "python",
   "name": "python3"
  },
  "language_info": {
   "codemirror_mode": {
    "name": "ipython",
    "version": 3
   },
   "file_extension": ".py",
   "mimetype": "text/x-python",
   "name": "python",
   "nbconvert_exporter": "python",
   "pygments_lexer": "ipython3",
   "version": "3.8.3"
  }
 },
 "nbformat": 4,
 "nbformat_minor": 4
}
