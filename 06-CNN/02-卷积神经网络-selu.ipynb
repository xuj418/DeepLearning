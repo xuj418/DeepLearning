{
 "cells": [
  {
   "cell_type": "markdown",
   "metadata": {},
   "source": [
    "#### ReLU函数计算速度快，加快了网络的训练。不过，如果梯度过大，导致很多负数，由于负数部分值为0，这些神经元将无法激活\n",
    "#### 当激活值的均值非0时，就会对下一层造成一个bias，如果激活值之间不会相互抵消（即均值非0），会导致下一层的激活单元有bias shift。如此叠加，单元越多时，bias shift就会越大。\n",
    "#### SELU激活函数将输出的平均值接近0，从而加快模型收敛，类似于Batch Normalization的效果，计算复杂度更低"
   ]
  },
  {
   "cell_type": "code",
   "execution_count": 1,
   "metadata": {},
   "outputs": [],
   "source": [
    "import tensorflow as tf\n",
    "from tensorflow import keras\n",
    "import numpy as np\n",
    "import sklearn \n",
    "import matplotlib.pyplot as plt\n",
    "from sklearn.preprocessing import StandardScaler\n",
    "import os\n",
    "import pandas as pd\n",
    "from sklearn.preprocessing import StandardScaler\n",
    "from sklearn.datasets import fetch_california_housing\n",
    "from sklearn.model_selection import train_test_split"
   ]
  },
  {
   "cell_type": "code",
   "execution_count": 2,
   "metadata": {},
   "outputs": [],
   "source": [
    "fashion_mnist = keras.datasets.fashion_mnist"
   ]
  },
  {
   "cell_type": "code",
   "execution_count": 3,
   "metadata": {},
   "outputs": [],
   "source": [
    "(x_train, y_train), (x_test, y_test) = fashion_mnist.load_data()"
   ]
  },
  {
   "cell_type": "code",
   "execution_count": 4,
   "metadata": {},
   "outputs": [],
   "source": [
    "from sklearn.model_selection import train_test_split\n",
    "x_train, x_valid, y_train, y_valid = train_test_split(x_train, y_train, test_size=0.2)"
   ]
  },
  {
   "cell_type": "code",
   "execution_count": 5,
   "metadata": {},
   "outputs": [
    {
     "name": "stdout",
     "output_type": "stream",
     "text": [
      "(48000, 28, 28) (48000,)\n",
      "(12000, 28, 28) (12000,)\n",
      "(10000, 28, 28) (10000,)\n"
     ]
    }
   ],
   "source": [
    "print(x_train.shape, y_train.shape)\n",
    "print(x_valid.shape, y_valid.shape)\n",
    "print(x_test.shape, y_test.shape)"
   ]
  },
  {
   "cell_type": "code",
   "execution_count": 6,
   "metadata": {},
   "outputs": [],
   "source": [
    "from sklearn.preprocessing import StandardScaler\n",
    "stand = StandardScaler()\n",
    "x_train_scaler = stand.fit_transform(x_train.reshape(-1, 1)).reshape(-1, 28, 28, 1)\n",
    "x_valid_scaler = stand.transform(x_valid.reshape(-1, 1)).reshape(-1, 28, 28, 1)\n",
    "x_test_scaler = stand.transform(x_test.reshape(-1, 1)).reshape(-1, 28, 28, 1)"
   ]
  },
  {
   "cell_type": "code",
   "execution_count": 7,
   "metadata": {},
   "outputs": [
    {
     "name": "stdout",
     "output_type": "stream",
     "text": [
      "(48000, 28, 28, 1) (48000,)\n",
      "(10000, 28, 28, 1) (10000,)\n"
     ]
    }
   ],
   "source": [
    "print(x_train_scaler.shape, y_train.shape)\n",
    "print(x_test_scaler.shape, y_test.shape)"
   ]
  },
  {
   "cell_type": "code",
   "execution_count": 8,
   "metadata": {},
   "outputs": [],
   "source": [
    "model = keras.models.Sequential()\n",
    "\n",
    "# 一次\n",
    "model.add(\n",
    "    tf.keras.layers.Conv2D(\n",
    "        filters=32, kernel_size=3, activation='selu', padding=\"same\", input_shape=[28, 28, 1]))\n",
    "model.add(\n",
    "    tf.keras.layers.Conv2D(\n",
    "        filters=32, kernel_size=3, activation='selu', padding=\"same\"))\n",
    "model.add(tf.keras.layers.MaxPool2D(pool_size=2))\n",
    "\n",
    "# 二次\n",
    "model.add(\n",
    "    tf.keras.layers.Conv2D(\n",
    "        filters=64, kernel_size=3, activation='selu', padding=\"same\"))\n",
    "model.add(\n",
    "    tf.keras.layers.Conv2D(\n",
    "        filters=64, kernel_size=3, activation='selu', padding=\"same\"))\n",
    "model.add(tf.keras.layers.MaxPool2D(pool_size=2))\n",
    "\n",
    "# 三次\n",
    "model.add(\n",
    "    tf.keras.layers.Conv2D(\n",
    "        filters=128, kernel_size=3, activation='selu', padding=\"same\"))\n",
    "model.add(\n",
    "    tf.keras.layers.Conv2D(\n",
    "        filters=128, kernel_size=3, activation='selu', padding=\"same\"))\n",
    "model.add(tf.keras.layers.MaxPool2D(pool_size=2))\n",
    "\n",
    "model.add(tf.keras.layers.Flatten())\n",
    "model.add(tf.keras.layers.Dense(128, activation=\"selu\"))\n",
    "model.add(tf.keras.layers.Dense(10, activation=\"softmax\"))"
   ]
  },
  {
   "cell_type": "code",
   "execution_count": 9,
   "metadata": {},
   "outputs": [
    {
     "name": "stdout",
     "output_type": "stream",
     "text": [
      "Model: \"sequential\"\n",
      "_________________________________________________________________\n",
      "Layer (type)                 Output Shape              Param #   \n",
      "=================================================================\n",
      "conv2d (Conv2D)              (None, 28, 28, 32)        320       \n",
      "_________________________________________________________________\n",
      "conv2d_1 (Conv2D)            (None, 28, 28, 32)        9248      \n",
      "_________________________________________________________________\n",
      "max_pooling2d (MaxPooling2D) (None, 14, 14, 32)        0         \n",
      "_________________________________________________________________\n",
      "conv2d_2 (Conv2D)            (None, 14, 14, 64)        18496     \n",
      "_________________________________________________________________\n",
      "conv2d_3 (Conv2D)            (None, 14, 14, 64)        36928     \n",
      "_________________________________________________________________\n",
      "max_pooling2d_1 (MaxPooling2 (None, 7, 7, 64)          0         \n",
      "_________________________________________________________________\n",
      "conv2d_4 (Conv2D)            (None, 7, 7, 128)         73856     \n",
      "_________________________________________________________________\n",
      "conv2d_5 (Conv2D)            (None, 7, 7, 128)         147584    \n",
      "_________________________________________________________________\n",
      "max_pooling2d_2 (MaxPooling2 (None, 3, 3, 128)         0         \n",
      "_________________________________________________________________\n",
      "flatten (Flatten)            (None, 1152)              0         \n",
      "_________________________________________________________________\n",
      "dense (Dense)                (None, 128)               147584    \n",
      "_________________________________________________________________\n",
      "dense_1 (Dense)              (None, 10)                1290      \n",
      "=================================================================\n",
      "Total params: 435,306\n",
      "Trainable params: 435,306\n",
      "Non-trainable params: 0\n",
      "_________________________________________________________________\n"
     ]
    }
   ],
   "source": [
    "model.summary()"
   ]
  },
  {
   "cell_type": "code",
   "execution_count": 10,
   "metadata": {},
   "outputs": [
    {
     "name": "stdout",
     "output_type": "stream",
     "text": [
      "Epoch 1/5\n",
      "1500/1500 [==============================] - 221s 148ms/step - loss: 0.4487 - accuracy: 0.8383 - val_loss: 0.3354 - val_accuracy: 0.8800\n",
      "Epoch 2/5\n",
      "1500/1500 [==============================] - 233s 155ms/step - loss: 0.2996 - accuracy: 0.8923 - val_loss: 0.2772 - val_accuracy: 0.9004 - loss: 0.3031 - ETA: 16s - loss: 0.30 - ETA: 13s - loss: 0.3018 -   - ETA: 7s - loss: 0.3 - ETA: 5s - loss: 0.300 - ETA: 1s - loss: 0.2998 - \n",
      "Epoch 3/5\n",
      "1500/1500 [==============================] - 229s 153ms/step - loss: 0.2493 - accuracy: 0.9094 - val_loss: 0.2707 - val_accuracy: 0.9024s - loss: 0.2489 - accuracy: 0.9 - ETA: 18s - loss: 0.2501 - accuracy - ETA: 17s - loss: 0.2502 - accuracy: - ETA: 16s - loss: 0.2503 - accurac - - ETA: 9s - loss: 0.2 - ETA: 4s - loss: 0\n",
      "Epoch 4/5\n",
      "1500/1500 [==============================] - 197s 132ms/step - loss: 0.2124 - accuracy: 0.9230 - val_loss: 0.2596 - val_accuracy: 0.9082\n",
      "Epoch 5/5\n",
      "1500/1500 [==============================] - 154s 103ms/step - loss: 0.1839 - accuracy: 0.9342 - val_loss: 0.2531 - val_accuracy: 0.9111\n"
     ]
    }
   ],
   "source": [
    "callbacks = [keras.callbacks.EarlyStopping(patience=5, min_delta=1e-2)]\n",
    "model.compile(loss=\"sparse_categorical_crossentropy\", optimizer= keras.optimizers.SGD(0.01), metrics = [\"accuracy\"])\n",
    "history = model.fit(x_train_scaler, y_train, \n",
    "                    validation_data=(x_valid_scaler, y_valid), \n",
    "                    epochs=5, \n",
    "                    callbacks=callbacks)"
   ]
  },
  {
   "cell_type": "code",
   "execution_count": 11,
   "metadata": {},
   "outputs": [
    {
     "data": {
      "image/png": "[encoded data removed]",
      "text/plain": [
       "<Figure size 720x576 with 1 Axes>"
      ]
     },
     "metadata": {
      "needs_background": "light"
     },
     "output_type": "display_data"
    }
   ],
   "source": [
    "def plt_learning_curve(history):\n",
    "    pd.DataFrame(history).plot(figsize=(10,8))\n",
    "    plt.grid(True)\n",
    "    plt.ylim(0, 1)\n",
    "    plt.show()\n",
    "    \n",
    "plt_learning_curve(history.history)"
   ]
  },
  {
   "cell_type": "code",
   "execution_count": 12,
   "metadata": {},
   "outputs": [
    {
     "name": "stdout",
     "output_type": "stream",
     "text": [
      "313/313 [==============================] - 8s 25ms/step - loss: 0.2765 - accuracy: 0.9003\n"
     ]
    },
    {
     "data": {
      "text/plain": [
       "[0.27653881907463074, 0.9003000259399414]"
      ]
     },
     "execution_count": 12,
     "metadata": {},
     "output_type": "execute_result"
    }
   ],
   "source": [
    "model.evaluate(x_test_scaler, y_test)"
   ]
  },
  {
   "cell_type": "markdown",
   "metadata": {},
   "source": [
    "### SELU 与 RELU图形"
   ]
  },
  {
   "cell_type": "code",
   "execution_count": 13,
   "metadata": {},
   "outputs": [],
   "source": [
    "x = np.arange(-10.0, 10.0)"
   ]
  },
  {
   "cell_type": "code",
   "execution_count": 14,
   "metadata": {},
   "outputs": [],
   "source": [
    "y_relu = [item if item > 0 else 0 for item in x]"
   ]
  },
  {
   "cell_type": "code",
   "execution_count": 15,
   "metadata": {},
   "outputs": [],
   "source": [
    "alpha = 0.5\n",
    "y_selu = [item if item > 0 else alpha * (np.exp(item) - 1) for item in x]"
   ]
  },
  {
   "cell_type": "code",
   "execution_count": 16,
   "metadata": {},
   "outputs": [
    {
     "data": {
      "text/plain": [
       "<matplotlib.legend.Legend at 0x20fdc052040>"
      ]
     },
     "execution_count": 16,
     "metadata": {},
     "output_type": "execute_result"
    },
    {
     "data": {
      "image/png": "[encoded data removed]",
      "text/plain": [
       "<Figure size 432x288 with 1 Axes>"
      ]
     },
     "metadata": {
      "needs_background": "light"
     },
     "output_type": "display_data"
    }
   ],
   "source": [
    "plt.plot(x, y_relu, label=\"relu\")\n",
    "plt.plot(x, y_selu, label=\"selu\")\n",
    "plt.legend()"
   ]
  },
  {
   "cell_type": "code",
   "execution_count": null,
   "metadata": {},
   "outputs": [],
   "source": []
  }
 ],
 "metadata": {
  "kernelspec": {
   "display_name": "Python 3",
   "language": "python",
   "name": "python3"
  },
  "language_info": {
   "codemirror_mode": {
    "name": "ipython",
    "version": 3
   },
   "file_extension": ".py",
   "mimetype": "text/x-python",
   "name": "python",
   "nbconvert_exporter": "python",
   "pygments_lexer": "ipython3",
   "version": "3.8.3"
  }
 },
 "nbformat": 4,
 "nbformat_minor": 4
}
