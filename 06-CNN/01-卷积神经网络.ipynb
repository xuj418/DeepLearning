{
 "cells": [
  {
   "cell_type": "code",
   "execution_count": 1,
   "metadata": {},
   "outputs": [],
   "source": [
    "import tensorflow as tf\n",
    "from tensorflow import keras\n",
    "import numpy as np\n",
    "import sklearn \n",
    "import matplotlib.pyplot as plt\n",
    "from sklearn.preprocessing import StandardScaler\n",
    "import os\n",
    "import pandas as pd\n",
    "from sklearn.preprocessing import StandardScaler\n",
    "from sklearn.datasets import fetch_california_housing\n",
    "from sklearn.model_selection import train_test_split"
   ]
  },
  {
   "cell_type": "code",
   "execution_count": 2,
   "metadata": {},
   "outputs": [],
   "source": [
    "fashion_mnist = keras.datasets.fashion_mnist"
   ]
  },
  {
   "cell_type": "code",
   "execution_count": 3,
   "metadata": {},
   "outputs": [],
   "source": [
    "(x_train, y_train), (x_test, y_test) = fashion_mnist.load_data()"
   ]
  },
  {
   "cell_type": "code",
   "execution_count": 4,
   "metadata": {},
   "outputs": [],
   "source": [
    "from sklearn.model_selection import train_test_split\n",
    "x_train, x_valid, y_train, y_valid = train_test_split(x_train, y_train, test_size=0.2)"
   ]
  },
  {
   "cell_type": "code",
   "execution_count": 5,
   "metadata": {},
   "outputs": [
    {
     "name": "stdout",
     "output_type": "stream",
     "text": [
      "(48000, 28, 28) (48000,)\n",
      "(12000, 28, 28) (12000,)\n",
      "(10000, 28, 28) (10000,)\n"
     ]
    }
   ],
   "source": [
    "print(x_train.shape, y_train.shape)\n",
    "print(x_valid.shape, y_valid.shape)\n",
    "print(x_test.shape, y_test.shape)"
   ]
  },
  {
   "cell_type": "code",
   "execution_count": 6,
   "metadata": {},
   "outputs": [],
   "source": [
    "from sklearn.preprocessing import StandardScaler\n",
    "stand = StandardScaler()\n",
    "x_train_scaler = stand.fit_transform(x_train.reshape(-1, 1)).reshape(-1, 28, 28, 1)\n",
    "x_valid_scaler = stand.transform(x_valid.reshape(-1, 1)).reshape(-1, 28, 28, 1)\n",
    "x_test_scaler = stand.transform(x_test.reshape(-1, 1)).reshape(-1, 28, 28, 1)\n",
    "# 28*28是黑白色\n",
    "# 1表示图片只有一个色层，彩色图片都是3个色层——RGB"
   ]
  },
  {
   "cell_type": "code",
   "execution_count": 14,
   "metadata": {},
   "outputs": [
    {
     "name": "stdout",
     "output_type": "stream",
     "text": [
      "(48000, 28, 28, 1) (48000,)\n",
      "(10000, 28, 28, 1) (10000,)\n"
     ]
    }
   ],
   "source": [
    "print(x_train_scaler.shape, y_train.shape)\n",
    "print(x_test_scaler.shape, y_test.shape)"
   ]
  },
  {
   "cell_type": "code",
   "execution_count": 8,
   "metadata": {},
   "outputs": [],
   "source": [
    "# filters：卷积过滤器的数量,对应输出的维数\n",
    "# kernel_size：整数,过滤器的大小,如果为一个整数则宽和高相同\n",
    "# padding：valid:表示不够卷积核大小的块,则丢弃;same表示不够卷积核大小的块就补0,所以输出和输入形状相同\n",
    "# Conv2D -> Con2D -> MaxPool2D\n",
    "model = keras.models.Sequential()\n",
    "\n",
    "# 一次\n",
    "model.add(\n",
    "    tf.keras.layers.Conv2D(\n",
    "        filters=32, kernel_size=3, activation='relu', padding=\"same\", input_shape=[28, 28, 1]))\n",
    "model.add(\n",
    "    tf.keras.layers.Conv2D(\n",
    "        filters=32, kernel_size=3, activation='relu', padding=\"same\"))\n",
    "model.add(tf.keras.layers.MaxPool2D(pool_size=2))\n",
    "\n",
    "# 二次\n",
    "model.add(\n",
    "    tf.keras.layers.Conv2D(\n",
    "        filters=64, kernel_size=3, activation='relu', padding=\"same\"))\n",
    "model.add(\n",
    "    tf.keras.layers.Conv2D(\n",
    "        filters=64, kernel_size=3, activation='relu', padding=\"same\"))\n",
    "model.add(tf.keras.layers.MaxPool2D(pool_size=2))\n",
    "\n",
    "# 三次\n",
    "model.add(\n",
    "    tf.keras.layers.Conv2D(\n",
    "        filters=128, kernel_size=3, activation='relu', padding=\"same\"))\n",
    "model.add(\n",
    "    tf.keras.layers.Conv2D(\n",
    "        filters=128, kernel_size=3, activation='relu', padding=\"same\"))\n",
    "model.add(tf.keras.layers.MaxPool2D(pool_size=2))\n",
    "\n",
    "model.add(tf.keras.layers.Flatten())\n",
    "model.add(tf.keras.layers.Dense(128, activation=\"relu\"))\n",
    "model.add(tf.keras.layers.Dense(10, activation=\"softmax\"))\n",
    "#1.卷积层初步提取特征\n",
    "#2.池化层提取主要特征\n",
    "#    池化层工作原理：a.为了减少训练参数的数量，降低卷积层输出的特征向量的维度\n",
    "#                   b. 减小过拟合现象，只保留最有用的图片信息，减少噪声的传递\n",
    "\n",
    "#3.全连接层将各部分特征汇总\n",
    "#4.产生分类器，进行预测识别"
   ]
  },
  {
   "cell_type": "code",
   "execution_count": 9,
   "metadata": {},
   "outputs": [
    {
     "name": "stdout",
     "output_type": "stream",
     "text": [
      "Model: \"sequential\"\n",
      "_________________________________________________________________\n",
      "Layer (type)                 Output Shape              Param #   \n",
      "=================================================================\n",
      "conv2d (Conv2D)              (None, 28, 28, 32)        320       \n",
      "_________________________________________________________________\n",
      "conv2d_1 (Conv2D)            (None, 28, 28, 32)        9248      \n",
      "_________________________________________________________________\n",
      "max_pooling2d (MaxPooling2D) (None, 14, 14, 32)        0         \n",
      "_________________________________________________________________\n",
      "conv2d_2 (Conv2D)            (None, 14, 14, 64)        18496     \n",
      "_________________________________________________________________\n",
      "conv2d_3 (Conv2D)            (None, 14, 14, 64)        36928     \n",
      "_________________________________________________________________\n",
      "max_pooling2d_1 (MaxPooling2 (None, 7, 7, 64)          0         \n",
      "_________________________________________________________________\n",
      "conv2d_4 (Conv2D)            (None, 7, 7, 128)         73856     \n",
      "_________________________________________________________________\n",
      "conv2d_5 (Conv2D)            (None, 7, 7, 128)         147584    \n",
      "_________________________________________________________________\n",
      "max_pooling2d_2 (MaxPooling2 (None, 3, 3, 128)         0         \n",
      "_________________________________________________________________\n",
      "flatten (Flatten)            (None, 1152)              0         \n",
      "_________________________________________________________________\n",
      "dense (Dense)                (None, 128)               147584    \n",
      "_________________________________________________________________\n",
      "dense_1 (Dense)              (None, 10)                1290      \n",
      "=================================================================\n",
      "Total params: 435,306\n",
      "Trainable params: 435,306\n",
      "Non-trainable params: 0\n",
      "_________________________________________________________________\n"
     ]
    }
   ],
   "source": [
    "model.summary()\n",
    "\n",
    "# 参数量=（filter size * 前一层特征图的通道数 ）* 当前层filter数量 + 偏置\n",
    "# 9 * 32 + 32 = 320\n",
    "# 9 * 32 * 32 + 32 = 9248\n",
    "# 9 * 32 * 64 + 64 = 18496\n",
    "# 9 * 64 * 64 + 64 = 36928"
   ]
  },
  {
   "cell_type": "code",
   "execution_count": 10,
   "metadata": {},
   "outputs": [
    {
     "name": "stdout",
     "output_type": "stream",
     "text": [
      "Epoch 1/5\n",
      "1500/1500 [==============================] - 154s 103ms/step - loss: 0.7985 - accuracy: 0.7052 - val_loss: 0.4687 - val_accuracy: 0.8284\n",
      "Epoch 2/5\n",
      "1500/1500 [==============================] - 154s 102ms/step - loss: 0.4217 - accuracy: 0.8441 - val_loss: 0.3789 - val_accuracy: 0.864145 - accuracy: 0 - E\n",
      "Epoch 3/5\n",
      "1500/1500 [==============================] - 154s 103ms/step - loss: 0.3574 - accuracy: 0.8678 - val_loss: 0.3448 - val_accuracy: 0.8698\n",
      "Epoch 4/5\n",
      "1500/1500 [==============================] - 156s 104ms/step - loss: 0.3213 - accuracy: 0.8805 - val_loss: 0.3255 - val_accuracy: 0.87800.3228 - accuracy: 0.8 - E - ETA: 28s - loss: 0.3213 - accuracy: 0.8 - ETA: 28s - loss: 0. - ETA: 26s - loss: 0.3203 - ac - ETA: 24s - loss: 0.3207 - accur - ETA: 23s - loss: 0.3206  - ETA: - ETA: 18s - loss: 0.3213 - accuracy: 0 - ETA: 17s - loss: 0.3217 -  - ETA: 15s - loss: 0. - ETA: 13s - - ETA: 3s - los\n",
      "Epoch 5/5\n",
      "1500/1500 [==============================] - 147s 98ms/step - loss: 0.2952 - accuracy: 0.8901 - val_loss: 0.3211 - val_accuracy: 0.8798- ETA: 5s - loss: 0\n"
     ]
    }
   ],
   "source": [
    "callbacks = [keras.callbacks.EarlyStopping(patience=5, min_delta=1e-2)]\n",
    "model.compile(loss=\"sparse_categorical_crossentropy\", optimizer= keras.optimizers.SGD(0.01), metrics = [\"accuracy\"])\n",
    "history = model.fit(x_train_scaler, y_train, \n",
    "                    validation_data=(x_valid_scaler, y_valid), \n",
    "                    epochs=5, \n",
    "                    callbacks=callbacks)"
   ]
  },
  {
   "cell_type": "code",
   "execution_count": 11,
   "metadata": {},
   "outputs": [
    {
     "data": {
      "image/png": "[encoded data removed]",
      "text/plain": [
       "<Figure size 720x576 with 1 Axes>"
      ]
     },
     "metadata": {
      "needs_background": "light"
     },
     "output_type": "display_data"
    }
   ],
   "source": [
    "def plt_learning_curve(history):\n",
    "    pd.DataFrame(history).plot(figsize=(10,8))\n",
    "    plt.grid(True)\n",
    "    plt.ylim(0, 1)\n",
    "    plt.show()\n",
    "    \n",
    "plt_learning_curve(history.history)"
   ]
  },
  {
   "cell_type": "code",
   "execution_count": 15,
   "metadata": {},
   "outputs": [
    {
     "name": "stdout",
     "output_type": "stream",
     "text": [
      "313/313 [==============================] - 6s 19ms/step - loss: 0.3452 - accuracy: 0.8711\n"
     ]
    },
    {
     "data": {
      "text/plain": [
       "[0.3451537489891052, 0.8711000084877014]"
      ]
     },
     "execution_count": 15,
     "metadata": {},
     "output_type": "execute_result"
    }
   ],
   "source": [
    "model.evaluate(x_test_scaler, y_test)"
   ]
  },
  {
   "cell_type": "code",
   "execution_count": null,
   "metadata": {},
   "outputs": [],
   "source": []
  }
 ],
 "metadata": {
  "kernelspec": {
   "display_name": "Python 3",
   "language": "python",
   "name": "python3"
  },
  "language_info": {
   "codemirror_mode": {
    "name": "ipython",
    "version": 3
   },
   "file_extension": ".py",
   "mimetype": "text/x-python",
   "name": "python",
   "nbconvert_exporter": "python",
   "pygments_lexer": "ipython3",
   "version": "3.8.3"
  }
 },
 "nbformat": 4,
 "nbformat_minor": 4
}
