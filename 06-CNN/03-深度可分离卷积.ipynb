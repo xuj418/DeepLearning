{
 "cells": [
  {
   "cell_type": "markdown",
   "metadata": {},
   "source": [
    "#### 一些轻量级的网络，如mobilenet中，会有深度可分离卷积depthwise separable convolution"
   ]
  },
  {
   "cell_type": "markdown",
   "metadata": {},
   "source": [
    "#### 由depthwise(DW)和pointwise(PW)两个部分结合起来，用来提取特征feature map ,相比常规的卷积操作，其参数数量和运算成本比较低"
   ]
  },
  {
   "cell_type": "code",
   "execution_count": 1,
   "metadata": {},
   "outputs": [],
   "source": [
    "import tensorflow as tf\n",
    "from tensorflow import keras\n",
    "import numpy as np\n",
    "import sklearn \n",
    "import matplotlib.pyplot as plt\n",
    "from sklearn.preprocessing import StandardScaler\n",
    "import os\n",
    "import pandas as pd\n",
    "from sklearn.preprocessing import StandardScaler\n",
    "from sklearn.datasets import fetch_california_housing\n",
    "from sklearn.model_selection import train_test_split"
   ]
  },
  {
   "cell_type": "code",
   "execution_count": 2,
   "metadata": {},
   "outputs": [],
   "source": [
    "fashion_mnist = keras.datasets.fashion_mnist"
   ]
  },
  {
   "cell_type": "code",
   "execution_count": 3,
   "metadata": {},
   "outputs": [],
   "source": [
    "(x_train, y_train), (x_test, y_test) = fashion_mnist.load_data()"
   ]
  },
  {
   "cell_type": "code",
   "execution_count": 4,
   "metadata": {},
   "outputs": [],
   "source": [
    "from sklearn.model_selection import train_test_split\n",
    "x_train, x_valid, y_train, y_valid = train_test_split(x_train, y_train, test_size=0.2)"
   ]
  },
  {
   "cell_type": "code",
   "execution_count": 5,
   "metadata": {},
   "outputs": [
    {
     "name": "stdout",
     "output_type": "stream",
     "text": [
      "(48000, 28, 28) (48000,)\n",
      "(12000, 28, 28) (12000,)\n",
      "(10000, 28, 28) (10000,)\n"
     ]
    }
   ],
   "source": [
    "print(x_train.shape, y_train.shape)\n",
    "print(x_valid.shape, y_valid.shape)\n",
    "print(x_test.shape, y_test.shape)"
   ]
  },
  {
   "cell_type": "code",
   "execution_count": 6,
   "metadata": {},
   "outputs": [],
   "source": [
    "from sklearn.preprocessing import StandardScaler\n",
    "stand = StandardScaler()\n",
    "x_train_scaler = stand.fit_transform(x_train.reshape(-1, 1)).reshape(-1, 28, 28, 1)\n",
    "x_valid_scaler = stand.transform(x_valid.reshape(-1, 1)).reshape(-1, 28, 28, 1)\n",
    "x_test_scaler = stand.transform(x_test.reshape(-1, 1)).reshape(-1, 28, 28, 1)"
   ]
  },
  {
   "cell_type": "code",
   "execution_count": 7,
   "metadata": {},
   "outputs": [
    {
     "name": "stdout",
     "output_type": "stream",
     "text": [
      "(48000, 28, 28, 1) (48000,)\n",
      "(10000, 28, 28, 1) (10000,)\n"
     ]
    }
   ],
   "source": [
    "print(x_train_scaler.shape, y_train.shape)\n",
    "print(x_test_scaler.shape, y_test.shape)"
   ]
  },
  {
   "cell_type": "code",
   "execution_count": 8,
   "metadata": {},
   "outputs": [],
   "source": [
    "# Conv2D -> SeparableConv2D -> MaxPool2D\n",
    "model = keras.models.Sequential()\n",
    "\n",
    "# 一次\n",
    "model.add(\n",
    "    tf.keras.layers.Conv2D(\n",
    "        filters=32, kernel_size=3, activation='selu', padding=\"same\", input_shape=[28, 28, 1]))\n",
    "model.add(\n",
    "    tf.keras.layers.SeparableConv2D(\n",
    "        filters=32, kernel_size=3, activation='selu', padding=\"same\"))\n",
    "model.add(tf.keras.layers.MaxPool2D(pool_size=2))\n",
    "\n",
    "# 二次\n",
    "model.add(\n",
    "    tf.keras.layers.SeparableConv2D(\n",
    "        filters=64, kernel_size=3, activation='selu', padding=\"same\"))\n",
    "model.add(\n",
    "    tf.keras.layers.SeparableConv2D(\n",
    "        filters=64, kernel_size=3, activation='selu', padding=\"same\"))\n",
    "model.add(tf.keras.layers.MaxPool2D(pool_size=2))\n",
    "\n",
    "# 三次\n",
    "model.add(\n",
    "    tf.keras.layers.SeparableConv2D(\n",
    "        filters=128, kernel_size=3, activation='selu', padding=\"same\"))\n",
    "model.add(\n",
    "    tf.keras.layers.SeparableConv2D(\n",
    "        filters=128, kernel_size=3, activation='selu', padding=\"same\"))\n",
    "model.add(tf.keras.layers.MaxPool2D(pool_size=2))\n",
    "\n",
    "model.add(tf.keras.layers.Flatten())\n",
    "model.add(tf.keras.layers.Dense(128, activation=\"selu\"))\n",
    "model.add(tf.keras.layers.Dense(10, activation=\"softmax\"))"
   ]
  },
  {
   "cell_type": "code",
   "execution_count": 9,
   "metadata": {},
   "outputs": [],
   "source": [
    "# Depthwise Convolution的一个卷积核负责一个通道，一个通道只被一个卷积核卷积\n",
    "#   卷积核的数量与上一层的通道数相同\n",
    "#   卷积部分的参数个数:（filter size * 当前层filter数量(上一层的通道数相同)\n",
    "\n",
    "# Pointwise Convolution的运算与常规卷积运算非常相似，它的卷积核的尺寸为 1×1×M，M为上一层的通道数\n",
    "#   卷积部分的参数个数:1 * 1 * 上一层的通道数  * 当前层filter数量"
   ]
  },
  {
   "cell_type": "code",
   "execution_count": 10,
   "metadata": {},
   "outputs": [
    {
     "name": "stdout",
     "output_type": "stream",
     "text": [
      "Model: \"sequential\"\n",
      "_________________________________________________________________\n",
      "Layer (type)                 Output Shape              Param #   \n",
      "=================================================================\n",
      "conv2d (Conv2D)              (None, 28, 28, 32)        320       \n",
      "_________________________________________________________________\n",
      "separable_conv2d (SeparableC (None, 28, 28, 32)        1344      \n",
      "_________________________________________________________________\n",
      "max_pooling2d (MaxPooling2D) (None, 14, 14, 32)        0         \n",
      "_________________________________________________________________\n",
      "separable_conv2d_1 (Separabl (None, 14, 14, 64)        2400      \n",
      "_________________________________________________________________\n",
      "separable_conv2d_2 (Separabl (None, 14, 14, 64)        4736      \n",
      "_________________________________________________________________\n",
      "max_pooling2d_1 (MaxPooling2 (None, 7, 7, 64)          0         \n",
      "_________________________________________________________________\n",
      "separable_conv2d_3 (Separabl (None, 7, 7, 128)         8896      \n",
      "_________________________________________________________________\n",
      "separable_conv2d_4 (Separabl (None, 7, 7, 128)         17664     \n",
      "_________________________________________________________________\n",
      "max_pooling2d_2 (MaxPooling2 (None, 3, 3, 128)         0         \n",
      "_________________________________________________________________\n",
      "flatten (Flatten)            (None, 1152)              0         \n",
      "_________________________________________________________________\n",
      "dense (Dense)                (None, 128)               147584    \n",
      "_________________________________________________________________\n",
      "dense_1 (Dense)              (None, 10)                1290      \n",
      "=================================================================\n",
      "Total params: 184,234\n",
      "Trainable params: 184,234\n",
      "Non-trainable params: 0\n",
      "_________________________________________________________________\n"
     ]
    }
   ],
   "source": [
    "model.summary()\n",
    "\n",
    "# DW(9 * 32) + PW(32 * 32) + 偏置(32) = 1344\n",
    "# DW(9 * 32) + PW(32 * 64) + 偏置(64) = 2400\n",
    "# DW(9 * 64) + PW(64 * 64) + 偏置(64) = 4736"
   ]
  },
  {
   "cell_type": "code",
   "execution_count": 11,
   "metadata": {},
   "outputs": [
    {
     "name": "stdout",
     "output_type": "stream",
     "text": [
      "Epoch 1/5\n",
      "1500/1500 [==============================] - 160s 107ms/step - loss: 2.3026 - accuracy: 0.1040 - val_loss: 2.3007 - val_accuracy: 0.1076\n",
      "Epoch 2/5\n",
      "1500/1500 [==============================] - 154s 103ms/step - loss: 2.0283 - accuracy: 0.2728 - val_loss: 0.9756 - val_accuracy: 0.6590\n",
      "Epoch 3/5\n",
      "1500/1500 [==============================] - 154s 103ms/step - loss: 0.8212 - accuracy: 0.6956 - val_loss: 0.7505 - val_accuracy: 0.7236\n",
      "Epoch 4/5\n",
      "1500/1500 [==============================] - 152s 101ms/step - loss: 0.7005 - accuracy: 0.7390 - val_loss: 0.6502 - val_accuracy: 0.7473\n",
      "Epoch 5/5\n",
      "1500/1500 [==============================] - 157s 105ms/step - loss: 0.6358 - accuracy: 0.7645 - val_loss: 0.5968 - val_accuracy: 0.7751\n"
     ]
    }
   ],
   "source": [
    "callbacks = [keras.callbacks.EarlyStopping(patience=5, min_delta=1e-2)]\n",
    "model.compile(loss=\"sparse_categorical_crossentropy\", optimizer= keras.optimizers.SGD(0.01), metrics = [\"accuracy\"])\n",
    "history = model.fit(x_train_scaler, y_train, \n",
    "                    validation_data=(x_valid_scaler, y_valid), \n",
    "                    epochs=5, \n",
    "                    callbacks=callbacks)"
   ]
  },
  {
   "cell_type": "code",
   "execution_count": 12,
   "metadata": {},
   "outputs": [
    {
     "data": {
      "image/png": "[encoded data removed]",
      "text/plain": [
       "<Figure size 720x576 with 1 Axes>"
      ]
     },
     "metadata": {
      "needs_background": "light"
     },
     "output_type": "display_data"
    }
   ],
   "source": [
    "def plt_learning_curve(history):\n",
    "    pd.DataFrame(history).plot(figsize=(10,8))\n",
    "    plt.grid(True)\n",
    "    plt.ylim(0, 3)\n",
    "    plt.show()\n",
    "    \n",
    "plt_learning_curve(history.history)"
   ]
  },
  {
   "cell_type": "code",
   "execution_count": 13,
   "metadata": {},
   "outputs": [
    {
     "name": "stdout",
     "output_type": "stream",
     "text": [
      "313/313 [==============================] - 12s 37ms/step - loss: 0.6209 - accuracy: 0.7634\n"
     ]
    },
    {
     "data": {
      "text/plain": [
       "[0.6208548545837402, 0.7634000182151794]"
      ]
     },
     "execution_count": 13,
     "metadata": {},
     "output_type": "execute_result"
    }
   ],
   "source": [
    "model.evaluate(x_test_scaler, y_test)"
   ]
  },
  {
   "cell_type": "code",
   "execution_count": null,
   "metadata": {},
   "outputs": [],
   "source": []
  }
 ],
 "metadata": {
  "kernelspec": {
   "display_name": "Python 3",
   "language": "python",
   "name": "python3"
  },
  "language_info": {
   "codemirror_mode": {
    "name": "ipython",
    "version": 3
   },
   "file_extension": ".py",
   "mimetype": "text/x-python",
   "name": "python",
   "nbconvert_exporter": "python",
   "pygments_lexer": "ipython3",
   "version": "3.8.3"
  }
 },
 "nbformat": 4,
 "nbformat_minor": 4
}
