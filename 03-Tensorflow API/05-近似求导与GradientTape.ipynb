{
 "cells": [
  {
   "cell_type": "code",
   "execution_count": 1,
   "metadata": {},
   "outputs": [],
   "source": [
    "import tensorflow as tf\n",
    "from tensorflow import keras\n",
    "import numpy as np\n",
    "import sklearn\n",
    "import matplotlib.pyplot as plt\n",
    "from sklearn.preprocessing import StandardScaler\n",
    "import os\n",
    "import pandas as pd\n",
    "from sklearn.preprocessing import StandardScaler\n",
    "from sklearn.datasets import fetch_california_housing\n",
    "from sklearn.model_selection import train_test_split"
   ]
  },
  {
   "cell_type": "code",
   "execution_count": 2,
   "metadata": {},
   "outputs": [],
   "source": [
    "def approximate_differentiate(f, x, eps=1e-3):\n",
    "    return (f(x + eps) - f(x - eps)) / (2 * eps)"
   ]
  },
  {
   "cell_type": "code",
   "execution_count": 3,
   "metadata": {},
   "outputs": [
    {
     "name": "stdout",
     "output_type": "stream",
     "text": [
      "19.000000000000128\n"
     ]
    }
   ],
   "source": [
    "# 一次函数\n",
    "def f(x):\n",
    "    return 3 * x ** 2 + x + 1\n",
    "\n",
    "print(approximate_differentiate(f, 3))"
   ]
  },
  {
   "cell_type": "code",
   "execution_count": 4,
   "metadata": {},
   "outputs": [],
   "source": [
    "# 二次函数\n",
    "def g(x1, x2):\n",
    "    return (x1 + 5) * (x2 ** 2)\n",
    "\n",
    "x1 = tf.Variable(3.0)\n",
    "x2 = tf.Variable(2.0)\n",
    "\n",
    "def approximate_gradient(g, x1, x2, eps=1e-3):\n",
    "    dz_x1 = approximate_differentiate((lambda x : g(x, x2)), x1, eps)\n",
    "    dz_x2 = approximate_differentiate((lambda x : g(x1, x)), x2, eps)\n",
    "    return dz_x1, dz_x2"
   ]
  },
  {
   "cell_type": "code",
   "execution_count": 5,
   "metadata": {},
   "outputs": [
    {
     "name": "stdout",
     "output_type": "stream",
     "text": [
      "(<tf.Tensor: shape=(), dtype=float32, numpy=8.998871>, <tf.Tensor: shape=(), dtype=float32, numpy=41.997906>)\n"
     ]
    }
   ],
   "source": [
    "x1, x2 = tf.Variable(2.0), tf.Variable(3.0)\n",
    "print(approximate_gradient(g, x1, x2))"
   ]
  },
  {
   "cell_type": "code",
   "execution_count": 6,
   "metadata": {},
   "outputs": [
    {
     "name": "stdout",
     "output_type": "stream",
     "text": [
      "tf.Tensor(9.0, shape=(), dtype=float32)\n",
      "tf.Tensor(42.0, shape=(), dtype=float32)\n",
      "[<tf.Tensor: shape=(), dtype=float32, numpy=9.0>, <tf.Tensor: shape=(), dtype=float32, numpy=42.0>]\n"
     ]
    }
   ],
   "source": [
    "# tf.GradientTape的求导\n",
    "with tf.GradientTape(persistent=True) as tape:\n",
    "    z = g(x1, x2)\n",
    "    \n",
    "dz_x1 = tape.gradient(z, x1)\n",
    "print(dz_x1)\n",
    "\n",
    "dz_x2 = tape.gradient(z, x2)\n",
    "print(dz_x2)\n",
    "\n",
    "dz_x1x2 = tape.gradient(z, [x1, x2])\n",
    "print(dz_x1x2)"
   ]
  },
  {
   "cell_type": "code",
   "execution_count": 7,
   "metadata": {},
   "outputs": [
    {
     "name": "stdout",
     "output_type": "stream",
     "text": [
      "[<tf.Tensor: shape=(), dtype=float32, numpy=4.0>, <tf.Tensor: shape=(), dtype=float32, numpy=32.0>]\n"
     ]
    }
   ],
   "source": [
    "# 常量\n",
    "# 多个值一起求导\n",
    "x1 = tf.constant(3.0)\n",
    "x2 = tf.constant(2.0)\n",
    "\n",
    "with tf.GradientTape(persistent=True) as tape:\n",
    "    tape.watch(x1)\n",
    "    tape.watch(x2)\n",
    "    z = g(x1, x2)\n",
    "    \n",
    "dz_x1x2 = tape.gradient(z, [x1, x2])\n",
    "print(dz_x1x2)"
   ]
  },
  {
   "cell_type": "code",
   "execution_count": 8,
   "metadata": {},
   "outputs": [
    {
     "name": "stdout",
     "output_type": "stream",
     "text": [
      "tf.Tensor(7.0, shape=(), dtype=float32)\n"
     ]
    }
   ],
   "source": [
    "# 多个函数对同一值求导\n",
    "x1 = tf.constant(3.0)\n",
    "\n",
    "with tf.GradientTape(persistent=True) as tape:\n",
    "    tape.watch(x1)\n",
    "    z1 = 4 * x1\n",
    "    z2 = 3 * x1\n",
    "    \n",
    "dz_z1z2 = tape.gradient([z1, z2], x1)\n",
    "print(dz_z1z2)"
   ]
  },
  {
   "cell_type": "code",
   "execution_count": 9,
   "metadata": {},
   "outputs": [
    {
     "name": "stdout",
     "output_type": "stream",
     "text": [
      "[[None, <tf.Tensor: shape=(), dtype=float32, numpy=6.0>], [<tf.Tensor: shape=(), dtype=float32, numpy=6.0>, <tf.Tensor: shape=(), dtype=float32, numpy=14.0>]]\n",
      "[<tf.Tensor: shape=(), dtype=float32, numpy=9.0>, <tf.Tensor: shape=(), dtype=float32, numpy=42.0>]\n"
     ]
    }
   ],
   "source": [
    "# 二元函数二次求导\n",
    "# f=(x1 + 5) * (x2 ** 2)=x1 * x2 **2 + 5 * x2 ** 2, \n",
    "# fx1 = x2 ** 2 => fx1x1 = 0 , fx1x2 = 2 * x2\n",
    "# fx2 = 2 * x1 * x2 + 10 * x2 => fx2x1 = 2 * x2, fx2x2 = 2 * x1 + 10\n",
    "# x1 = 2, x2 = 3 =>fx1x1=0, fx1x2=6, fx2x1=6, fx2x2=14\n",
    "\n",
    "x1 = tf.Variable(2.0)\n",
    "x2 = tf.Variable(3.0)\n",
    "\n",
    "with tf.GradientTape(persistent=True) as outTape:\n",
    "    with tf.GradientTape(persistent=True) as innerTape:\n",
    "        z = g(x1, x2)\n",
    "    innerGrads = innerTape.gradient(z, [x1, x2])\n",
    "outGrads = [outTape.gradient(innerGrad, [x1, x2]) for innerGrad in innerGrads]\n",
    "\n",
    "print(outGrads)\n",
    "print(innerGrads)"
   ]
  },
  {
   "cell_type": "code",
   "execution_count": 10,
   "metadata": {},
   "outputs": [
    {
     "name": "stdout",
     "output_type": "stream",
     "text": [
      "<tf.Variable 'Variable:0' shape=() dtype=float32, numpy=-0.16632418>\n"
     ]
    }
   ],
   "source": [
    "#梯度下降法\n",
    "#1.求导数，2.前进一点\n",
    "learning_rate = 0.01\n",
    "x = tf.Variable(0.0)\n",
    "xlist = []\n",
    "\n",
    "for _ in range(100):\n",
    "    with tf.GradientTape() as tape:\n",
    "        z = f(x)\n",
    "    gradient = tape.gradient(z, x)\n",
    "    xlist.append(gradient)\n",
    "    x.assign_sub(learning_rate * gradient)  # assign_sub = x - x * learning_rate * gradient\n",
    "    \n",
    "print(x)"
   ]
  },
  {
   "cell_type": "code",
   "execution_count": 11,
   "metadata": {},
   "outputs": [
    {
     "data": {
      "text/plain": [
       "[<matplotlib.lines.Line2D at 0x1f016700c10>]"
      ]
     },
     "execution_count": 11,
     "metadata": {},
     "output_type": "execute_result"
    },
    {
     "data": {
      "image/png": "[encoded data removed]",
      "text/plain": [
       "<Figure size 432x288 with 1 Axes>"
      ]
     },
     "metadata": {
      "needs_background": "light"
     },
     "output_type": "display_data"
    }
   ],
   "source": [
    "x = np.arange(0,100)\n",
    "y1 = np.array(xlist)\n",
    "plt.plot(x, y1)"
   ]
  },
  {
   "cell_type": "code",
   "execution_count": 12,
   "metadata": {},
   "outputs": [
    {
     "name": "stdout",
     "output_type": "stream",
     "text": [
      "<tf.Variable 'Variable:0' shape=() dtype=float32, numpy=-0.16632418>\n"
     ]
    }
   ],
   "source": [
    "# 结合optimizer\n",
    "learning_rate = 0.01\n",
    "x = tf.Variable(0.0)\n",
    "optimizer = tf.keras.optimizers.SGD(learning_rate=learning_rate)\n",
    "\n",
    "for _ in range(100):\n",
    "    with tf.GradientTape() as tape:\n",
    "        z = f(x)\n",
    "    gradient = tape.gradient(z, x)\n",
    "    optimizer.apply_gradients([(gradient, x)])  #List of (gradient, variable)\n",
    "    \n",
    "print(x)"
   ]
  },
  {
   "cell_type": "code",
   "execution_count": null,
   "metadata": {},
   "outputs": [],
   "source": []
  }
 ],
 "metadata": {
  "kernelspec": {
   "display_name": "Python 3",
   "language": "python",
   "name": "python3"
  },
  "language_info": {
   "codemirror_mode": {
    "name": "ipython",
    "version": 3
   },
   "file_extension": ".py",
   "mimetype": "text/x-python",
   "name": "python",
   "nbconvert_exporter": "python",
   "pygments_lexer": "ipython3",
   "version": "3.8.3"
  }
 },
 "nbformat": 4,
 "nbformat_minor": 4
}
