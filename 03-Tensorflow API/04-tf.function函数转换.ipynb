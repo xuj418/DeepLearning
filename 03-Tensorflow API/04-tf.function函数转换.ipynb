{
 "cells": [
  {
   "cell_type": "code",
   "execution_count": 1,
   "metadata": {},
   "outputs": [],
   "source": [
    "import tensorflow as tf\n",
    "from tensorflow import keras\n",
    "import numpy as np\n",
    "import sklearn\n",
    "import matplotlib.pyplot as plt\n",
    "from sklearn.preprocessing import StandardScaler\n",
    "import os\n",
    "import pandas as pd\n",
    "from sklearn.preprocessing import StandardScaler\n",
    "from sklearn.datasets import fetch_california_housing\n",
    "from sklearn.model_selection import train_test_split"
   ]
  },
  {
   "cell_type": "code",
   "execution_count": 2,
   "metadata": {},
   "outputs": [],
   "source": [
    "# z >= 0 ? scale * z : scale * alpha * tf.nn.elu(z)\n",
    "# elu: x>0 , y=x; x<0, y=a*(e^x - 1)\n",
    "def scaled_elu(x, scale=1.0, alpha=1.0):\n",
    "    is_positive = tf.greater_equal(x, 0.0)\n",
    "    return scale * tf.where(is_positive, x, alpha * tf.nn.elu(x))"
   ]
  },
  {
   "cell_type": "code",
   "execution_count": 3,
   "metadata": {},
   "outputs": [
    {
     "name": "stdout",
     "output_type": "stream",
     "text": [
      "tf.Tensor([-0.95021296 -0.99326205], shape=(2,), dtype=float32)\n",
      "tf.Tensor([3. 5.], shape=(2,), dtype=float32)\n"
     ]
    }
   ],
   "source": [
    "print(scaled_elu([-3., -5.]))\n",
    "print(scaled_elu([3., 5.]))"
   ]
  },
  {
   "cell_type": "code",
   "execution_count": 4,
   "metadata": {},
   "outputs": [],
   "source": [
    "scaled_elu_tf = tf.function(scaled_elu)"
   ]
  },
  {
   "cell_type": "code",
   "execution_count": 5,
   "metadata": {},
   "outputs": [
    {
     "name": "stdout",
     "output_type": "stream",
     "text": [
      "tf.Tensor([-0.95021296 -0.99326205], shape=(2,), dtype=float32)\n",
      "tf.Tensor([3. 5.], shape=(2,), dtype=float32)\n"
     ]
    }
   ],
   "source": [
    "print(scaled_elu_tf([-3., -5.]))\n",
    "print(scaled_elu_tf([3., 5.]))"
   ]
  },
  {
   "cell_type": "code",
   "execution_count": 6,
   "metadata": {},
   "outputs": [
    {
     "name": "stdout",
     "output_type": "stream",
     "text": [
      "37.3 ms ± 938 µs per loop (mean ± std. dev. of 7 runs, 10 loops each)\n",
      "27.9 ms ± 1.31 ms per loop (mean ± std. dev. of 7 runs, 10 loops each)\n"
     ]
    }
   ],
   "source": [
    "# scaled_elu > scaled_elu_tf\n",
    "%timeit scaled_elu(np.random.random((1000,1000)))\n",
    "%timeit scaled_elu_tf(np.random.random((1000,1000)))"
   ]
  },
  {
   "cell_type": "code",
   "execution_count": 7,
   "metadata": {},
   "outputs": [],
   "source": [
    "# 1 + 1/2 + 1/2^2 + 1/2^3 + ... + 1/2^n\n",
    "def add_2(n):\n",
    "    sum = 0\n",
    "    for _ in range(n):\n",
    "        sum += 1/(tf.pow(2, _))\n",
    "    return sum"
   ]
  },
  {
   "cell_type": "code",
   "execution_count": 8,
   "metadata": {},
   "outputs": [
    {
     "name": "stdout",
     "output_type": "stream",
     "text": [
      "tf.Tensor(1.9999980926513672, shape=(), dtype=float64)\n"
     ]
    }
   ],
   "source": [
    "print(add_2(20))"
   ]
  },
  {
   "cell_type": "code",
   "execution_count": 9,
   "metadata": {},
   "outputs": [],
   "source": [
    "# 指定类型\n",
    "@tf.function(input_signature=[tf.TensorSpec(shape=None, dtype=tf.int32)])\n",
    "def pow(x):\n",
    "    return tf.pow(x, 3)"
   ]
  },
  {
   "cell_type": "code",
   "execution_count": 10,
   "metadata": {},
   "outputs": [
    {
     "name": "stdout",
     "output_type": "stream",
     "text": [
      "Python inputs incompatible with input_signature:\n",
      "  inputs: (\n",
      "    [1.0, 2.0, 3.0])\n",
      "  input_signature: (\n",
      "    TensorSpec(shape=<unknown>, dtype=tf.int32, name=None))\n"
     ]
    }
   ],
   "source": [
    "try:\n",
    "    pow([1.0, 2.0, 3.0])\n",
    "except ValueError as ve:\n",
    "    print(ve)"
   ]
  },
  {
   "cell_type": "code",
   "execution_count": 11,
   "metadata": {},
   "outputs": [
    {
     "name": "stdout",
     "output_type": "stream",
     "text": [
      "tf.Tensor([ 1  8 27], shape=(3,), dtype=int32)\n"
     ]
    }
   ],
   "source": [
    "print(pow([1, 2, 3]))"
   ]
  },
  {
   "cell_type": "code",
   "execution_count": null,
   "metadata": {},
   "outputs": [],
   "source": []
  }
 ],
 "metadata": {
  "kernelspec": {
   "display_name": "Python 3",
   "language": "python",
   "name": "python3"
  },
  "language_info": {
   "codemirror_mode": {
    "name": "ipython",
    "version": 3
   },
   "file_extension": ".py",
   "mimetype": "text/x-python",
   "name": "python",
   "nbconvert_exporter": "python",
   "pygments_lexer": "ipython3",
   "version": "3.8.3"
  }
 },
 "nbformat": 4,
 "nbformat_minor": 4
}
