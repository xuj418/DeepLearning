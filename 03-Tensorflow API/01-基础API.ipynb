{
 "cells": [
  {
   "cell_type": "code",
   "execution_count": 1,
   "metadata": {},
   "outputs": [],
   "source": [
    "import tensorflow as tf\n",
    "from tensorflow import keras\n",
    "import numpy as np\n",
    "import sklearn\n",
    "import matplotlib.pyplot as plt\n",
    "from sklearn.preprocessing import StandardScaler\n",
    "import os\n",
    "import pandas as pd\n",
    "from sklearn.preprocessing import StandardScaler\n",
    "from sklearn.datasets import fetch_california_housing\n",
    "from sklearn.model_selection import train_test_split"
   ]
  },
  {
   "cell_type": "code",
   "execution_count": 2,
   "metadata": {},
   "outputs": [
    {
     "name": "stdout",
     "output_type": "stream",
     "text": [
      "tf.Tensor(\n",
      "[[1 2 3]\n",
      " [4 5 6]], shape=(2, 3), dtype=int32)\n"
     ]
    }
   ],
   "source": [
    "t = tf.constant([[1,2,3], [4,5,6]])\n",
    "print(t)"
   ]
  },
  {
   "cell_type": "code",
   "execution_count": 3,
   "metadata": {},
   "outputs": [
    {
     "name": "stdout",
     "output_type": "stream",
     "text": [
      "tf.Tensor([2 5], shape=(2,), dtype=int32)\n"
     ]
    }
   ],
   "source": [
    "# index\n",
    "print(t[:, 1])"
   ]
  },
  {
   "cell_type": "code",
   "execution_count": 4,
   "metadata": {},
   "outputs": [
    {
     "name": "stdout",
     "output_type": "stream",
     "text": [
      "tf.Tensor(\n",
      "[[11 12 13]\n",
      " [14 15 16]], shape=(2, 3), dtype=int32)\n",
      "tf.Tensor(\n",
      "[[ 2  4  6]\n",
      " [ 8 10 12]], shape=(2, 3), dtype=int32)\n",
      "[[ 1  4  9]\n",
      " [16 25 36]]\n",
      "tf.Tensor(\n",
      "[[14 32]\n",
      " [32 77]], shape=(2, 2), dtype=int32)\n"
     ]
    }
   ],
   "source": [
    "# operation\n",
    "print(t + 10)\n",
    "print(t * 2)\n",
    "print(np.square(t))\n",
    "print(t @ np.transpose(t))"
   ]
  },
  {
   "cell_type": "code",
   "execution_count": 5,
   "metadata": {},
   "outputs": [
    {
     "name": "stdout",
     "output_type": "stream",
     "text": [
      "[[1 2 3]\n",
      " [4 5 6]]\n",
      "[[1 2 3]\n",
      " [4 5 6]]\n"
     ]
    }
   ],
   "source": [
    "#numpy conversion\n",
    "print(np.array(t))\n",
    "print(t.numpy())"
   ]
  },
  {
   "cell_type": "code",
   "execution_count": 6,
   "metadata": {},
   "outputs": [
    {
     "name": "stdout",
     "output_type": "stream",
     "text": [
      "tf.Tensor(2.33, shape=(), dtype=float32)\n",
      "2.33\n",
      "()\n"
     ]
    }
   ],
   "source": [
    "#scalar\n",
    "tt = tf.constant(2.33)\n",
    "print(tt)\n",
    "print(tt.numpy())\n",
    "print(tt.shape)"
   ]
  },
  {
   "cell_type": "code",
   "execution_count": 7,
   "metadata": {},
   "outputs": [
    {
     "name": "stdout",
     "output_type": "stream",
     "text": [
      "tf.Tensor([6 4 6], shape=(3,), dtype=int32)\n",
      "<tf.RaggedTensor [[99, 111, 102, 102, 101, 101], [99, 97, 102, 101], [21654, 21857]]>\n"
     ]
    }
   ],
   "source": [
    "# Strig\n",
    "str = tf.constant([\"coffee\", \"cafe\", \"咖啡\"])\n",
    "print(tf.strings.length(str))\n",
    "print(tf.strings.unicode_decode(str, input_encoding=\"UTF8\"))"
   ]
  },
  {
   "cell_type": "code",
   "execution_count": 8,
   "metadata": {},
   "outputs": [
    {
     "name": "stdout",
     "output_type": "stream",
     "text": [
      "<tf.RaggedTensor [[1, 2, 3], [4, 5, 6, 7], [], [1]]>\n"
     ]
    }
   ],
   "source": [
    "# Ragged Tensor 凹凸不平\n",
    "rag = tf.ragged.constant([[1,2,3], [4,5,6,7], [], [1]])\n",
    "print(rag)"
   ]
  },
  {
   "cell_type": "code",
   "execution_count": 9,
   "metadata": {},
   "outputs": [],
   "source": [
    "# ops on ragged tensor\n",
    "rag2 = tf.ragged.constant([[3, 4], [1,2,3], [5], [6,7]])"
   ]
  },
  {
   "cell_type": "code",
   "execution_count": 10,
   "metadata": {},
   "outputs": [
    {
     "data": {
      "text/plain": [
       "<tf.RaggedTensor [[1, 2, 3], [4, 5, 6, 7], [], [1], [3, 4], [1, 2, 3], [5], [6, 7]]>"
      ]
     },
     "execution_count": 10,
     "metadata": {},
     "output_type": "execute_result"
    }
   ],
   "source": [
    "tf.concat([rag, rag2], axis=0)"
   ]
  },
  {
   "cell_type": "code",
   "execution_count": 11,
   "metadata": {},
   "outputs": [
    {
     "data": {
      "text/plain": [
       "<tf.RaggedTensor [[1, 2, 3, 3, 4], [4, 5, 6, 7, 1, 2, 3], [5], [1, 6, 7]]>"
      ]
     },
     "execution_count": 11,
     "metadata": {},
     "output_type": "execute_result"
    }
   ],
   "source": [
    "tf.concat([rag, rag2], axis=1)"
   ]
  },
  {
   "cell_type": "code",
   "execution_count": 12,
   "metadata": {
    "scrolled": true
   },
   "outputs": [
    {
     "name": "stdout",
     "output_type": "stream",
     "text": [
      "tf.Tensor(\n",
      "[[1 2 3 0]\n",
      " [4 5 6 7]\n",
      " [0 0 0 0]\n",
      " [1 0 0 0]], shape=(4, 4), dtype=int32)\n"
     ]
    }
   ],
   "source": [
    "# ragged tensor => tensor\n",
    "# 只在后面加0\n",
    "print(rag.to_tensor())"
   ]
  },
  {
   "cell_type": "code",
   "execution_count": 13,
   "metadata": {},
   "outputs": [
    {
     "name": "stdout",
     "output_type": "stream",
     "text": [
      "SparseTensor(indices=tf.Tensor(\n",
      "[[1 1]\n",
      " [2 0]\n",
      " [3 4]], shape=(3, 2), dtype=int64), values=tf.Tensor([1. 2. 3.], shape=(3,), dtype=float32), dense_shape=tf.Tensor([5 5], shape=(2,), dtype=int64))\n",
      "tf.Tensor(\n",
      "[[0. 0. 0. 0. 0.]\n",
      " [0. 1. 0. 0. 0.]\n",
      " [2. 0. 0. 0. 0.]\n",
      " [0. 0. 0. 0. 3.]\n",
      " [0. 0. 0. 0. 0.]], shape=(5, 5), dtype=float32)\n"
     ]
    }
   ],
   "source": [
    "#spaese_tensor稀疏矩阵\n",
    "#前后都可以为零\n",
    "sparse_tensor = tf.SparseTensor(indices=[[1,1], [2,0], [3,4]], \n",
    "                                values=[1., 2., 3.], \n",
    "                                dense_shape=[5, 5])\n",
    "\n",
    "print(sparse_tensor)\n",
    "print(tf.sparse.to_dense(sparse_tensor))"
   ]
  },
  {
   "cell_type": "code",
   "execution_count": 14,
   "metadata": {},
   "outputs": [
    {
     "name": "stdout",
     "output_type": "stream",
     "text": [
      "SparseTensor(indices=tf.Tensor(\n",
      "[[1 1]\n",
      " [2 0]\n",
      " [3 4]], shape=(3, 2), dtype=int64), values=tf.Tensor([2. 4. 6.], shape=(3,), dtype=float32), dense_shape=tf.Tensor([5 5], shape=(2,), dtype=int64))\n"
     ]
    }
   ],
   "source": [
    "#op on sparse tensor\n",
    "st2 = sparse_tensor * 2\n",
    "print(st2)    "
   ]
  },
  {
   "cell_type": "code",
   "execution_count": 15,
   "metadata": {},
   "outputs": [
    {
     "name": "stdout",
     "output_type": "stream",
     "text": [
      "unsupported operand type(s) for +: 'SparseTensor' and 'int'\n"
     ]
    }
   ],
   "source": [
    "try:\n",
    "    print(sparse_tensor + 1)\n",
    "except TypeError as ex:\n",
    "    print(ex)"
   ]
  },
  {
   "cell_type": "code",
   "execution_count": 16,
   "metadata": {},
   "outputs": [
    {
     "name": "stdout",
     "output_type": "stream",
     "text": [
      "tf.Tensor(\n",
      "[[0. 0. 0. 0. 0.]\n",
      " [2. 1. 0. 0. 0.]\n",
      " [0. 0. 0. 0. 0.]\n",
      " [0. 0. 0. 0. 3.]\n",
      " [0. 0. 0. 0. 0.]], shape=(5, 5), dtype=float32)\n"
     ]
    }
   ],
   "source": [
    "#is out of order\n",
    "sparse_tensor2 = tf.SparseTensor(indices=[[1,1], [1,0], [3,4]], \n",
    "                                values=[1., 2., 3.], \n",
    "                                dense_shape=[5, 5])\n",
    "sparse_tensor3 = tf.sparse.reorder(sparse_tensor2)\n",
    "print(tf.sparse.to_dense(sparse_tensor3))"
   ]
  },
  {
   "cell_type": "code",
   "execution_count": 17,
   "metadata": {},
   "outputs": [
    {
     "name": "stdout",
     "output_type": "stream",
     "text": [
      "<tf.Variable 'Variable:0' shape=(2, 3) dtype=int32, numpy=\n",
      "array([[1, 2, 3],\n",
      "       [4, 5, 6]])>\n",
      "[[1 2 3]\n",
      " [4 5 6]]\n"
     ]
    }
   ],
   "source": [
    "#Variable\n",
    "var = tf.Variable([[1, 2, 3], [4, 5, 6]])\n",
    "print(var)\n",
    "print(var.numpy())"
   ]
  },
  {
   "cell_type": "code",
   "execution_count": 18,
   "metadata": {},
   "outputs": [
    {
     "name": "stdout",
     "output_type": "stream",
     "text": [
      "<tf.Variable 'UnreadVariable' shape=(2, 3) dtype=int32, numpy=\n",
      "array([[ 2,  4,  6],\n",
      "       [ 8, 10, 12]])>\n",
      "<tf.Variable 'UnreadVariable' shape=(2, 3) dtype=int32, numpy=\n",
      "array([[ 2,  4,  6],\n",
      "       [ 8, 66, 12]])>\n",
      "<tf.Variable 'UnreadVariable' shape=(2, 3) dtype=int32, numpy=\n",
      "array([[ 2,  4,  6],\n",
      "       [77, 88, 99]])>\n"
     ]
    }
   ],
   "source": [
    "# assign variable\n",
    "var2 = var.assign(var * 2)\n",
    "print(var2)\n",
    "var3 = var[1, 1].assign(66)\n",
    "print(var3)\n",
    "var4 = var[1].assign([77,88,99])\n",
    "print(var4)"
   ]
  },
  {
   "cell_type": "code",
   "execution_count": null,
   "metadata": {},
   "outputs": [],
   "source": []
  }
 ],
 "metadata": {
  "kernelspec": {
   "display_name": "Python 3",
   "language": "python",
   "name": "python3"
  },
  "language_info": {
   "codemirror_mode": {
    "name": "ipython",
    "version": 3
   },
   "file_extension": ".py",
   "mimetype": "text/x-python",
   "name": "python",
   "nbconvert_exporter": "python",
   "pygments_lexer": "ipython3",
   "version": "3.8.3"
  }
 },
 "nbformat": 4,
 "nbformat_minor": 4
}
