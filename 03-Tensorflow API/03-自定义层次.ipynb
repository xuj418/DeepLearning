{
 "cells": [
  {
   "cell_type": "code",
   "execution_count": 1,
   "metadata": {},
   "outputs": [],
   "source": [
    "import tensorflow as tf\n",
    "from tensorflow import keras\n",
    "import numpy as np\n",
    "import sklearn\n",
    "import matplotlib.pyplot as plt\n",
    "from sklearn.preprocessing import StandardScaler\n",
    "import os\n",
    "import pandas as pd\n",
    "from sklearn.preprocessing import StandardScaler\n",
    "from sklearn.datasets import fetch_california_housing\n",
    "from sklearn.model_selection import train_test_split"
   ]
  },
  {
   "cell_type": "code",
   "execution_count": 2,
   "metadata": {},
   "outputs": [],
   "source": [
    "housing = fetch_california_housing()"
   ]
  },
  {
   "cell_type": "code",
   "execution_count": 3,
   "metadata": {},
   "outputs": [],
   "source": [
    "X, y = housing.data, housing.target\n",
    "X_train_all, X_test, y_train_all, y_test = train_test_split(X, y, random_state=7)\n",
    "X_train, X_valid, y_train, y_valid = train_test_split(X_train_all, y_train_all, random_state=11)"
   ]
  },
  {
   "cell_type": "code",
   "execution_count": 4,
   "metadata": {},
   "outputs": [],
   "source": [
    "stand_scale = StandardScaler()\n",
    "\n",
    "x_train_scale = stand_scale.fit_transform(X_train)\n",
    "x_valid_scale = stand_scale.transform(X_valid)\n",
    "x_test_scale = stand_scale.transform(X_test)"
   ]
  },
  {
   "cell_type": "code",
   "execution_count": 5,
   "metadata": {},
   "outputs": [
    {
     "name": "stdout",
     "output_type": "stream",
     "text": [
      "(11610, 8) (11610,)\n",
      "(3870, 8) (5160,)\n",
      "(5160, 8) (3870,)\n"
     ]
    }
   ],
   "source": [
    "print(x_train_scale.shape, y_train.shape)\n",
    "print(x_valid_scale.shape, y_test.shape)\n",
    "print(x_test_scale.shape, y_valid.shape)"
   ]
  },
  {
   "cell_type": "code",
   "execution_count": 6,
   "metadata": {},
   "outputs": [
    {
     "name": "stdout",
     "output_type": "stream",
     "text": [
      "tf.Tensor(\n",
      "[0.000000e+00 0.000000e+00 9.357623e-14 3.000000e+01 3.000000e+03\n",
      " 3.000000e+05], shape=(6,), dtype=float32)\n"
     ]
    }
   ],
   "source": [
    "# softplus: f(x) = log(1 + e^x)\n",
    "customizes_softplus = keras.layers.Lambda(lambda x : tf.nn.softplus(x))\n",
    "print(customizes_softplus([-3e5, -3e3, -3e1, 3e1, 3e3, 3e5]))"
   ]
  },
  {
   "cell_type": "code",
   "execution_count": 7,
   "metadata": {},
   "outputs": [
    {
     "data": {
      "text/plain": [
       "[<matplotlib.lines.Line2D at 0x1f557b6b400>]"
      ]
     },
     "execution_count": 7,
     "metadata": {},
     "output_type": "execute_result"
    },
    {
     "data": {
      "image/png": "[encoded data removed]",
      "text/plain": [
       "<Figure size 432x288 with 1 Axes>"
      ]
     },
     "metadata": {
      "needs_background": "light"
     },
     "output_type": "display_data"
    }
   ],
   "source": [
    "# plot softplus\n",
    "x = np.linspace(-10.,10.,100)\n",
    "y = np.log(1 + np.exp(x))\n",
    "plt.plot(x, y)"
   ]
  },
  {
   "cell_type": "code",
   "execution_count": 8,
   "metadata": {},
   "outputs": [],
   "source": [
    "# 自定义层次\n",
    "class CustomizedDense(keras.layers.Layer):\n",
    "    \n",
    "    def __init__(self, units=32, activation=None):\n",
    "        super(CustomizedDense, self).__init__()\n",
    "        self.units = units\n",
    "        self.activation = keras.layers.Activation(activation)\n",
    "\n",
    "    def build(self, input_shape):\n",
    "        # 构建所需要的参数\n",
    "        self.w = self.add_weight(shape=(input_shape[-1], self.units),\n",
    "                                 initializer='uniform',\n",
    "                                 trainable=True)\n",
    "        self.b = self.add_weight(shape=(self.units,),\n",
    "                                 initializer='zeros',\n",
    "                                 trainable=True)\n",
    "\n",
    "    def call(self, inputs):\n",
    "        # 完成正向计算\n",
    "        # input * w + b\n",
    "        return tf.matmul(inputs, self.w) + self.b"
   ]
  },
  {
   "cell_type": "code",
   "execution_count": 9,
   "metadata": {},
   "outputs": [],
   "source": [
    "model = keras.models.Sequential([\n",
    "    CustomizedDense(30, activation=\"relu\"),\n",
    "    keras.layers.Dense(1, activation=\"softplus\"),\n",
    "    #customizes_softplus\n",
    "])\n",
    "\n",
    "callbacks = [keras.callbacks.EarlyStopping(min_delta=1e-3, patience=5)]"
   ]
  },
  {
   "cell_type": "code",
   "execution_count": 10,
   "metadata": {},
   "outputs": [],
   "source": [
    "model.compile(optimizer=keras.optimizers.SGD(0.001), loss=\"mse\")"
   ]
  },
  {
   "cell_type": "code",
   "execution_count": 11,
   "metadata": {},
   "outputs": [
    {
     "name": "stdout",
     "output_type": "stream",
     "text": [
      "Epoch 1/100\n",
      "  1/363 [..............................] - ETA: 0s - loss: 3.8074WARNING:tensorflow:Callbacks method `on_train_batch_begin` is slow compared to the batch time (batch time: 0.0000s vs `on_train_batch_begin` time: 0.0010s). Check your callbacks.\n",
      "363/363 [==============================] - 0s 981us/step - loss: 1.8413 - val_loss: 0.8946\n",
      "Epoch 2/100\n",
      "363/363 [==============================] - 0s 670us/step - loss: 0.6585 - val_loss: 0.6463\n",
      "Epoch 3/100\n",
      "363/363 [==============================] - 0s 717us/step - loss: 0.5917 - val_loss: 0.6252\n",
      "Epoch 4/100\n",
      "363/363 [==============================] - 0s 662us/step - loss: 0.5737 - val_loss: 0.6083\n",
      "Epoch 5/100\n",
      "363/363 [==============================] - 0s 808us/step - loss: 0.5584 - val_loss: 0.5934\n",
      "Epoch 6/100\n",
      "363/363 [==============================] - 0s 679us/step - loss: 0.5452 - val_loss: 0.5816\n",
      "Epoch 7/100\n",
      "363/363 [==============================] - 0s 679us/step - loss: 0.5345 - val_loss: 0.5698\n",
      "Epoch 8/100\n",
      "363/363 [==============================] - 0s 671us/step - loss: 0.5254 - val_loss: 0.5618\n",
      "Epoch 9/100\n",
      "363/363 [==============================] - 0s 679us/step - loss: 0.5177 - val_loss: 0.5541\n",
      "Epoch 10/100\n",
      "363/363 [==============================] - 0s 670us/step - loss: 0.5111 - val_loss: 0.5470\n",
      "Epoch 11/100\n",
      "363/363 [==============================] - 0s 657us/step - loss: 0.5048 - val_loss: 0.5395\n",
      "Epoch 12/100\n",
      "363/363 [==============================] - 0s 648us/step - loss: 0.5007 - val_loss: 0.5366\n",
      "Epoch 13/100\n",
      "363/363 [==============================] - 0s 797us/step - loss: 0.4959 - val_loss: 0.5313\n",
      "Epoch 14/100\n",
      "363/363 [==============================] - 0s 767us/step - loss: 0.4929 - val_loss: 0.5271\n",
      "Epoch 15/100\n",
      "363/363 [==============================] - 0s 739us/step - loss: 0.4895 - val_loss: 0.5244\n",
      "Epoch 16/100\n",
      "363/363 [==============================] - 0s 692us/step - loss: 0.4857 - val_loss: 0.5198\n",
      "Epoch 17/100\n",
      "363/363 [==============================] - 0s 673us/step - loss: 0.4846 - val_loss: 0.5195\n",
      "Epoch 18/100\n",
      "363/363 [==============================] - 0s 676us/step - loss: 0.4800 - val_loss: 0.5128\n",
      "Epoch 19/100\n",
      "363/363 [==============================] - 0s 676us/step - loss: 0.4806 - val_loss: 0.5147\n",
      "Epoch 20/100\n",
      "363/363 [==============================] - 0s 681us/step - loss: 0.4759 - val_loss: 0.5082\n",
      "Epoch 21/100\n",
      "363/363 [==============================] - 0s 659us/step - loss: 0.4761 - val_loss: 0.5111\n",
      "Epoch 22/100\n",
      "363/363 [==============================] - 0s 758us/step - loss: 0.4745 - val_loss: 0.5095\n",
      "Epoch 23/100\n",
      "363/363 [==============================] - 0s 783us/step - loss: 0.4727 - val_loss: 0.5057\n",
      "Epoch 24/100\n",
      "363/363 [==============================] - 0s 673us/step - loss: 0.4715 - val_loss: 0.5069\n",
      "Epoch 25/100\n",
      "363/363 [==============================] - 0s 659us/step - loss: 0.4701 - val_loss: 0.5041\n",
      "Epoch 26/100\n",
      "363/363 [==============================] - 0s 778us/step - loss: 0.4675 - val_loss: 0.4977\n",
      "Epoch 27/100\n",
      "363/363 [==============================] - 0s 786us/step - loss: 0.4690 - val_loss: 0.4982\n",
      "Epoch 28/100\n",
      "363/363 [==============================] - 0s 717us/step - loss: 0.4668 - val_loss: 0.4986\n",
      "Epoch 29/100\n",
      "363/363 [==============================] - 0s 794us/step - loss: 0.4652 - val_loss: 0.4970\n",
      "Epoch 30/100\n",
      "363/363 [==============================] - 0s 695us/step - loss: 0.4636 - val_loss: 0.4936\n",
      "Epoch 31/100\n",
      "363/363 [==============================] - 0s 789us/step - loss: 0.4638 - val_loss: 0.4935\n",
      "Epoch 32/100\n",
      "363/363 [==============================] - 0s 681us/step - loss: 0.4615 - val_loss: 0.4914\n",
      "Epoch 33/100\n",
      "363/363 [==============================] - 0s 684us/step - loss: 0.4617 - val_loss: 0.4953\n",
      "Epoch 34/100\n",
      "363/363 [==============================] - 0s 690us/step - loss: 0.4603 - val_loss: 0.4901\n",
      "Epoch 35/100\n",
      "363/363 [==============================] - 0s 780us/step - loss: 0.4610 - val_loss: 0.4919\n",
      "Epoch 36/100\n",
      "363/363 [==============================] - 0s 772us/step - loss: 0.4592 - val_loss: 0.4895\n",
      "Epoch 37/100\n",
      "363/363 [==============================] - 0s 723us/step - loss: 0.4590 - val_loss: 0.4899\n",
      "Epoch 38/100\n",
      "363/363 [==============================] - 0s 676us/step - loss: 0.4584 - val_loss: 0.4888\n",
      "Epoch 39/100\n",
      "363/363 [==============================] - 0s 767us/step - loss: 0.4561 - val_loss: 0.4849\n",
      "Epoch 40/100\n",
      "363/363 [==============================] - 0s 665us/step - loss: 0.4565 - val_loss: 0.4846\n",
      "Epoch 41/100\n",
      "363/363 [==============================] - 0s 668us/step - loss: 0.4565 - val_loss: 0.4846\n",
      "Epoch 42/100\n",
      "363/363 [==============================] - 0s 679us/step - loss: 0.4537 - val_loss: 0.4821\n",
      "Epoch 43/100\n",
      "363/363 [==============================] - 0s 745us/step - loss: 0.4551 - val_loss: 0.4852\n",
      "Epoch 44/100\n",
      "363/363 [==============================] - 0s 673us/step - loss: 0.4526 - val_loss: 0.4804\n",
      "Epoch 45/100\n",
      "363/363 [==============================] - 0s 673us/step - loss: 0.4543 - val_loss: 0.4871\n",
      "Epoch 46/100\n",
      "363/363 [==============================] - 0s 681us/step - loss: 0.4534 - val_loss: 0.4812\n",
      "Epoch 47/100\n",
      "363/363 [==============================] - 0s 723us/step - loss: 0.4521 - val_loss: 0.4847\n",
      "Epoch 48/100\n",
      "363/363 [==============================] - 0s 687us/step - loss: 0.4521 - val_loss: 0.4819\n",
      "Epoch 49/100\n",
      "363/363 [==============================] - 0s 712us/step - loss: 0.4514 - val_loss: 0.4815\n"
     ]
    }
   ],
   "source": [
    "history = model.fit(x_train_scale, y_train, \n",
    "                    validation_data=(x_valid_scale, y_valid), \n",
    "                    epochs=100, callbacks=callbacks\n",
    "                   )"
   ]
  },
  {
   "cell_type": "code",
   "execution_count": 12,
   "metadata": {},
   "outputs": [
    {
     "name": "stdout",
     "output_type": "stream",
     "text": [
      "Model: \"sequential\"\n",
      "_________________________________________________________________\n",
      "Layer (type)                 Output Shape              Param #   \n",
      "=================================================================\n",
      "customized_dense (Customized (None, 30)                270       \n",
      "_________________________________________________________________\n",
      "dense (Dense)                (None, 1)                 31        \n",
      "=================================================================\n",
      "Total params: 301\n",
      "Trainable params: 301\n",
      "Non-trainable params: 0\n",
      "_________________________________________________________________\n"
     ]
    }
   ],
   "source": [
    "model.summary()"
   ]
  },
  {
   "cell_type": "code",
   "execution_count": 13,
   "metadata": {},
   "outputs": [],
   "source": [
    "def delpoy_history(history):\n",
    "    pd.DataFrame(history).plot(figsize=(6,4))\n",
    "    plt.grid(True)\n",
    "    plt.ylim((0,1))\n",
    "    plt.show()"
   ]
  },
  {
   "cell_type": "code",
   "execution_count": 14,
   "metadata": {},
   "outputs": [
    {
     "data": {
      "image/png": "[encoded data removed]",
      "text/plain": [
       "<Figure size 432x288 with 1 Axes>"
      ]
     },
     "metadata": {
      "needs_background": "light"
     },
     "output_type": "display_data"
    }
   ],
   "source": [
    "delpoy_history(history.history)"
   ]
  }
 ],
 "metadata": {
  "kernelspec": {
   "display_name": "Python 3",
   "language": "python",
   "name": "python3"
  },
  "language_info": {
   "codemirror_mode": {
    "name": "ipython",
    "version": 3
   },
   "file_extension": ".py",
   "mimetype": "text/x-python",
   "name": "python",
   "nbconvert_exporter": "python",
   "pygments_lexer": "ipython3",
   "version": "3.8.3"
  }
 },
 "nbformat": 4,
 "nbformat_minor": 4
}
