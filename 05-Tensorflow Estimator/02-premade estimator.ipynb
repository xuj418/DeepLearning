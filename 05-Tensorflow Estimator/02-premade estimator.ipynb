{
 "cells": [
  {
   "cell_type": "code",
   "execution_count": 1,
   "metadata": {},
   "outputs": [],
   "source": [
    "import tensorflow as tf\n",
    "from tensorflow import keras\n",
    "import numpy as np\n",
    "import sklearn \n",
    "import matplotlib.pyplot as plt\n",
    "from sklearn.preprocessing import StandardScaler\n",
    "import os\n",
    "import pandas as pd\n",
    "from sklearn.preprocessing import StandardScaler\n",
    "from sklearn.datasets import fetch_california_housing\n",
    "from sklearn.model_selection import train_test_split"
   ]
  },
  {
   "cell_type": "code",
   "execution_count": 2,
   "metadata": {},
   "outputs": [],
   "source": [
    "titanic = \"./data/titanic.csv\"\n",
    "titanic_data = pd.read_csv(titanic)"
   ]
  },
  {
   "cell_type": "code",
   "execution_count": 3,
   "metadata": {},
   "outputs": [],
   "source": [
    "# 数据预处理，填空值\n",
    "titanic_data = titanic_data.fillna(method=\"bfill\")\n",
    "titanic_data = titanic_data.dropna()"
   ]
  },
  {
   "cell_type": "code",
   "execution_count": 4,
   "metadata": {},
   "outputs": [],
   "source": [
    "# 生成label，data\n",
    "y = titanic_data.pop(\"Survived\")\n",
    "X = titanic_data"
   ]
  },
  {
   "cell_type": "code",
   "execution_count": 5,
   "metadata": {},
   "outputs": [
    {
     "name": "stdout",
     "output_type": "stream",
     "text": [
      "(623, 11)\n",
      "(267, 11)\n",
      "(623,)\n",
      "(267,)\n"
     ]
    }
   ],
   "source": [
    "from sklearn.model_selection import train_test_split\n",
    "\n",
    "X_train, X_test, y_train, y_test = train_test_split(X, y, test_size=0.3, random_state=666)\n",
    "\n",
    "print(X_train.shape)\n",
    "print(X_test.shape)\n",
    "print(y_train.shape)\n",
    "print(y_test.shape)"
   ]
  },
  {
   "cell_type": "code",
   "execution_count": 6,
   "metadata": {},
   "outputs": [],
   "source": [
    "# 生成dataset\n",
    "def make_dataset(X, y, shuffle=True, epoches=100, batch_size=32):\n",
    "    # from_tensor_slices\n",
    "    dataset = tf.data.Dataset.from_tensor_slices((dict(X), y))\n",
    "    if shuffle:\n",
    "        dataset = dataset.shuffle(100)\n",
    "    dataset = dataset.repeat(epoches).batch(batch_size)\n",
    "    return dataset"
   ]
  },
  {
   "cell_type": "code",
   "execution_count": 7,
   "metadata": {},
   "outputs": [
    {
     "name": "stdout",
     "output_type": "stream",
     "text": [
      "Pclass [3 1 2]\n",
      "Sex ['male' 'female']\n",
      "SibSp [1 0 3 4 2 5 8]\n",
      "Parch [0 1 2 5 3 4 6]\n",
      "Embarked ['S' 'C' 'Q']\n"
     ]
    }
   ],
   "source": [
    "# 生成标签类，分为分类与数值\n",
    "feature_columns = []\n",
    "category_columns = [\"Pclass\", \"Sex\", \"SibSp\", \"Parch\", \"Embarked\"]\n",
    "numeric_columns = [\"Age\", \"Fare\"]\n",
    "\n",
    "# 类别：生成one-hot编码\n",
    "for category in category_columns:\n",
    "    vocab = titanic_data[category].unique()\n",
    "    print(category, vocab)\n",
    "    feature_columns.append(\n",
    "            tf.feature_column.indicator_column(\n",
    "                tf.feature_column.categorical_column_with_vocabulary_list(category, vocab)))\n",
    "    \n",
    "for numeric in numeric_columns:\n",
    "    feature_columns.append(tf.feature_column.numeric_column(numeric))"
   ]
  },
  {
   "cell_type": "code",
   "execution_count": 8,
   "metadata": {},
   "outputs": [
    {
     "name": "stdout",
     "output_type": "stream",
     "text": [
      "INFO:tensorflow:Using default config.\n",
      "INFO:tensorflow:Using config: {'_model_dir': 'linearModel', '_tf_random_seed': None, '_save_summary_steps': 100, '_save_checkpoints_steps': None, '_save_checkpoints_secs': 600, '_session_config': allow_soft_placement: true\n",
      "graph_options {\n",
      "  rewrite_options {\n",
      "    meta_optimizer_iterations: ONE\n",
      "  }\n",
      "}\n",
      ", '_keep_checkpoint_max': 5, '_keep_checkpoint_every_n_hours': 10000, '_log_step_count_steps': 100, '_train_distribute': None, '_device_fn': None, '_protocol': None, '_eval_distribute': None, '_experimental_distribute': None, '_experimental_max_worker_delay_secs': None, '_session_creation_timeout_secs': 7200, '_service': None, '_cluster_spec': ClusterSpec({}), '_task_type': 'worker', '_task_id': 0, '_global_id_in_cluster': 0, '_master': '', '_evaluation_master': '', '_is_chief': True, '_num_ps_replicas': 0, '_num_worker_replicas': 1}\n"
     ]
    }
   ],
   "source": [
    "# method1:LinearClassifier\n",
    "linear_dir = \"linearModel\"\n",
    "if not os.path.exists(linear_dir):\n",
    "    os.makedirs(linear_dir)\n",
    "    \n",
    "# 1.生成estimator\n",
    "linear_estimator = tf.estimator.LinearClassifier(feature_columns=feature_columns, model_dir=linear_dir, n_classes = 2)"
   ]
  },
  {
   "cell_type": "code",
   "execution_count": 9,
   "metadata": {},
   "outputs": [
    {
     "name": "stdout",
     "output_type": "stream",
     "text": [
      "WARNING:tensorflow:From D:\\anaconda3\\lib\\site-packages\\tensorflow\\python\\training\\training_util.py:235: Variable.initialized_value (from tensorflow.python.ops.variables) is deprecated and will be removed in a future version.\n",
      "Instructions for updating:\n",
      "Use Variable.read_value. Variables in 2.X are initialized automatically both in eager and graph (inside tf.defun) contexts.\n",
      "INFO:tensorflow:Calling model_fn.\n",
      "WARNING:tensorflow:Layer linear/linear_model is casting an input tensor from dtype float64 to the layer's dtype of float32, which is new behavior in TensorFlow 2.  The layer has dtype float32 because its dtype defaults to floatx.\n",
      "\n",
      "If you intended to run this layer in float32, you can safely ignore this warning. If in doubt, this warning is likely only an issue if you are porting a TensorFlow 1.X model to TensorFlow 2.\n",
      "\n",
      "To change all layers to have dtype float64 by default, call `tf.keras.backend.set_floatx('float64')`. To change just this layer, pass dtype='float64' to the layer constructor. If you are the author of this layer, you can disable autocasting by passing autocast=False to the base Layer constructor.\n",
      "\n",
      "WARNING:tensorflow:From D:\\anaconda3\\lib\\site-packages\\tensorflow_estimator\\python\\estimator\\canned\\linear.py:1471: Layer.add_variable (from tensorflow.python.keras.engine.base_layer_v1) is deprecated and will be removed in a future version.\n",
      "Instructions for updating:\n",
      "Please use `layer.add_weight` method instead.\n",
      "WARNING:tensorflow:From D:\\anaconda3\\lib\\site-packages\\tensorflow\\python\\keras\\optimizer_v2\\ftrl.py:111: calling Constant.__init__ (from tensorflow.python.ops.init_ops) with dtype is deprecated and will be removed in a future version.\n",
      "Instructions for updating:\n",
      "Call initializer instance with the dtype argument instead of passing it to the constructor\n",
      "INFO:tensorflow:Done calling model_fn.\n",
      "INFO:tensorflow:Create CheckpointSaverHook.\n",
      "INFO:tensorflow:Graph was finalized.\n",
      "INFO:tensorflow:Restoring parameters from linearModel\\model.ckpt-6721\n",
      "WARNING:tensorflow:From D:\\anaconda3\\lib\\site-packages\\tensorflow\\python\\training\\saver.py:1077: get_checkpoint_mtimes (from tensorflow.python.training.checkpoint_management) is deprecated and will be removed in a future version.\n",
      "Instructions for updating:\n",
      "Use standard file utilities to get mtimes.\n",
      "INFO:tensorflow:Running local_init_op.\n",
      "INFO:tensorflow:Done running local_init_op.\n",
      "INFO:tensorflow:Calling checkpoint listeners before saving checkpoint 6721...\n",
      "INFO:tensorflow:Saving checkpoints for 6721 into linearModel\\model.ckpt.\n",
      "INFO:tensorflow:Calling checkpoint listeners after saving checkpoint 6721...\n",
      "INFO:tensorflow:loss = 0.3832532, step = 6721\n",
      "INFO:tensorflow:global_step/sec: 751.502\n",
      "INFO:tensorflow:loss = 0.40651062, step = 6821 (0.133 sec)\n",
      "INFO:tensorflow:global_step/sec: 1198.37\n",
      "INFO:tensorflow:loss = 0.45779768, step = 6921 (0.086 sec)\n",
      "INFO:tensorflow:global_step/sec: 1184.7\n",
      "INFO:tensorflow:loss = 0.45098332, step = 7021 (0.082 sec)\n",
      "INFO:tensorflow:global_step/sec: 864.768\n",
      "INFO:tensorflow:loss = 0.3324793, step = 7121 (0.116 sec)\n",
      "INFO:tensorflow:global_step/sec: 747.082\n",
      "INFO:tensorflow:loss = 0.6242831, step = 7221 (0.134 sec)\n",
      "INFO:tensorflow:global_step/sec: 1018.88\n",
      "INFO:tensorflow:loss = 0.5237357, step = 7321 (0.104 sec)\n",
      "INFO:tensorflow:global_step/sec: 972.504\n",
      "INFO:tensorflow:loss = 0.23291568, step = 7421 (0.097 sec)\n",
      "INFO:tensorflow:global_step/sec: 1194.32\n",
      "INFO:tensorflow:loss = 0.2942385, step = 7521 (0.084 sec)\n",
      "INFO:tensorflow:global_step/sec: 1500.69\n",
      "INFO:tensorflow:loss = 0.3823619, step = 7621 (0.067 sec)\n",
      "INFO:tensorflow:global_step/sec: 1214.23\n",
      "INFO:tensorflow:loss = 0.39290017, step = 7721 (0.082 sec)\n",
      "INFO:tensorflow:global_step/sec: 1213.82\n",
      "INFO:tensorflow:loss = 0.38148788, step = 7821 (0.084 sec)\n",
      "INFO:tensorflow:global_step/sec: 1456.63\n",
      "INFO:tensorflow:loss = 0.44714177, step = 7921 (0.067 sec)\n",
      "INFO:tensorflow:global_step/sec: 1217.11\n",
      "INFO:tensorflow:loss = 0.5355268, step = 8021 (0.082 sec)\n",
      "INFO:tensorflow:global_step/sec: 1156.98\n",
      "INFO:tensorflow:loss = 0.39619994, step = 8121 (0.091 sec)\n",
      "INFO:tensorflow:global_step/sec: 1175.61\n",
      "INFO:tensorflow:loss = 0.4130774, step = 8221 (0.085 sec)\n",
      "INFO:tensorflow:global_step/sec: 1095.32\n",
      "INFO:tensorflow:loss = 0.30599487, step = 8321 (0.090 sec)\n",
      "INFO:tensorflow:global_step/sec: 1134.07\n",
      "INFO:tensorflow:loss = 0.37837762, step = 8421 (0.084 sec)\n",
      "INFO:tensorflow:global_step/sec: 1500.31\n",
      "INFO:tensorflow:loss = 0.2653476, step = 8521 (0.067 sec)\n",
      "INFO:tensorflow:global_step/sec: 1200.62\n",
      "INFO:tensorflow:loss = 0.47418606, step = 8621 (0.083 sec)\n",
      "INFO:tensorflow:Calling checkpoint listeners before saving checkpoint 8668...\n",
      "INFO:tensorflow:Saving checkpoints for 8668 into linearModel\\model.ckpt.\n",
      "WARNING:tensorflow:From D:\\anaconda3\\lib\\site-packages\\tensorflow\\python\\training\\saver.py:969: remove_checkpoint (from tensorflow.python.training.checkpoint_management) is deprecated and will be removed in a future version.\n",
      "Instructions for updating:\n",
      "Use standard file APIs to delete files with this prefix.\n",
      "INFO:tensorflow:Calling checkpoint listeners after saving checkpoint 8668...\n",
      "INFO:tensorflow:Loss for final step: 0.4956949.\n"
     ]
    },
    {
     "data": {
      "text/plain": [
       "<tensorflow_estimator.python.estimator.canned.linear.LinearClassifierV2 at 0x1ee41e4bc70>"
      ]
     },
     "execution_count": 9,
     "metadata": {},
     "output_type": "execute_result"
    }
   ],
   "source": [
    "# 2.训练\n",
    "linear_estimator.train(input_fn=lambda : make_dataset(X_train, y_train, batch_size=32))"
   ]
  },
  {
   "cell_type": "code",
   "execution_count": 10,
   "metadata": {},
   "outputs": [
    {
     "name": "stdout",
     "output_type": "stream",
     "text": [
      "INFO:tensorflow:Calling model_fn.\n",
      "WARNING:tensorflow:Layer linear/linear_model is casting an input tensor from dtype float64 to the layer's dtype of float32, which is new behavior in TensorFlow 2.  The layer has dtype float32 because its dtype defaults to floatx.\n",
      "\n",
      "If you intended to run this layer in float32, you can safely ignore this warning. If in doubt, this warning is likely only an issue if you are porting a TensorFlow 1.X model to TensorFlow 2.\n",
      "\n",
      "To change all layers to have dtype float64 by default, call `tf.keras.backend.set_floatx('float64')`. To change just this layer, pass dtype='float64' to the layer constructor. If you are the author of this layer, you can disable autocasting by passing autocast=False to the base Layer constructor.\n",
      "\n",
      "INFO:tensorflow:Done calling model_fn.\n",
      "INFO:tensorflow:Starting evaluation at 2020-09-21T18:04:11Z\n",
      "INFO:tensorflow:Graph was finalized.\n",
      "INFO:tensorflow:Restoring parameters from linearModel\\model.ckpt-8668\n",
      "INFO:tensorflow:Running local_init_op.\n",
      "INFO:tensorflow:Done running local_init_op.\n",
      "INFO:tensorflow:Inference Time : 0.98560s\n",
      "INFO:tensorflow:Finished evaluation at 2020-09-21-18:04:12\n",
      "INFO:tensorflow:Saving dict for global step 8668: accuracy = 0.76779026, accuracy_baseline = 0.5917603, auc = 0.8287656, auc_precision_recall = 0.79127914, average_loss = 0.5006572, global_step = 8668, label/mean = 0.4082397, loss = 0.5005823, precision = 0.7373737, prediction/mean = 0.3984509, recall = 0.66972476\n",
      "INFO:tensorflow:Saving 'checkpoint_path' summary for global step 8668: linearModel\\model.ckpt-8668\n"
     ]
    },
    {
     "data": {
      "text/plain": [
       "{'accuracy': 0.76779026,\n",
       " 'accuracy_baseline': 0.5917603,\n",
       " 'auc': 0.8287656,\n",
       " 'auc_precision_recall': 0.79127914,\n",
       " 'average_loss': 0.5006572,\n",
       " 'label/mean': 0.4082397,\n",
       " 'loss': 0.5005823,\n",
       " 'precision': 0.7373737,\n",
       " 'prediction/mean': 0.3984509,\n",
       " 'recall': 0.66972476,\n",
       " 'global_step': 8668}"
      ]
     },
     "execution_count": 10,
     "metadata": {},
     "output_type": "execute_result"
    }
   ],
   "source": [
    "# 3.测试\n",
    "linear_estimator.evaluate(input_fn=lambda : make_dataset(X_test, y_test, batch_size=32))"
   ]
  },
  {
   "cell_type": "code",
   "execution_count": 11,
   "metadata": {},
   "outputs": [
    {
     "name": "stdout",
     "output_type": "stream",
     "text": [
      "INFO:tensorflow:Using default config.\n",
      "INFO:tensorflow:Using config: {'_model_dir': './dnnModel', '_tf_random_seed': None, '_save_summary_steps': 100, '_save_checkpoints_steps': None, '_save_checkpoints_secs': 600, '_session_config': allow_soft_placement: true\n",
      "graph_options {\n",
      "  rewrite_options {\n",
      "    meta_optimizer_iterations: ONE\n",
      "  }\n",
      "}\n",
      ", '_keep_checkpoint_max': 5, '_keep_checkpoint_every_n_hours': 10000, '_log_step_count_steps': 100, '_train_distribute': None, '_device_fn': None, '_protocol': None, '_eval_distribute': None, '_experimental_distribute': None, '_experimental_max_worker_delay_secs': None, '_session_creation_timeout_secs': 7200, '_service': None, '_cluster_spec': ClusterSpec({}), '_task_type': 'worker', '_task_id': 0, '_global_id_in_cluster': 0, '_master': '', '_evaluation_master': '', '_is_chief': True, '_num_ps_replicas': 0, '_num_worker_replicas': 1}\n"
     ]
    }
   ],
   "source": [
    "# method2:DNNClassifier\n",
    "dnn_model = \"./dnnModel\"\n",
    "if not os.path.exists(dnn_model):\n",
    "    os.makedirs(dnn_model)\n",
    "    \n",
    "dnn_estimator = tf.estimator.DNNClassifier(hidden_units=[128,128],\n",
    "    feature_columns = feature_columns,\n",
    "    model_dir=dnn_model,\n",
    "    n_classes=2,\n",
    "    optimizer='Adam',\n",
    "    activation_fn=tf.nn.relu)"
   ]
  },
  {
   "cell_type": "code",
   "execution_count": 12,
   "metadata": {},
   "outputs": [
    {
     "name": "stdout",
     "output_type": "stream",
     "text": [
      "INFO:tensorflow:Calling model_fn.\n",
      "WARNING:tensorflow:Layer dnn is casting an input tensor from dtype float64 to the layer's dtype of float32, which is new behavior in TensorFlow 2.  The layer has dtype float32 because its dtype defaults to floatx.\n",
      "\n",
      "If you intended to run this layer in float32, you can safely ignore this warning. If in doubt, this warning is likely only an issue if you are porting a TensorFlow 1.X model to TensorFlow 2.\n",
      "\n",
      "To change all layers to have dtype float64 by default, call `tf.keras.backend.set_floatx('float64')`. To change just this layer, pass dtype='float64' to the layer constructor. If you are the author of this layer, you can disable autocasting by passing autocast=False to the base Layer constructor.\n",
      "\n",
      "INFO:tensorflow:Done calling model_fn.\n",
      "INFO:tensorflow:Create CheckpointSaverHook.\n",
      "INFO:tensorflow:Graph was finalized.\n",
      "INFO:tensorflow:Restoring parameters from ./dnnModel\\model.ckpt-4450\n",
      "INFO:tensorflow:Running local_init_op.\n",
      "INFO:tensorflow:Done running local_init_op.\n",
      "INFO:tensorflow:Calling checkpoint listeners before saving checkpoint 4450...\n",
      "INFO:tensorflow:Saving checkpoints for 4450 into ./dnnModel\\model.ckpt.\n",
      "INFO:tensorflow:Calling checkpoint listeners after saving checkpoint 4450...\n",
      "INFO:tensorflow:loss = 0.21558446, step = 4450\n",
      "INFO:tensorflow:global_step/sec: 658.5\n",
      "INFO:tensorflow:loss = 0.2341446, step = 4550 (0.152 sec)\n",
      "INFO:tensorflow:global_step/sec: 825.99\n",
      "INFO:tensorflow:loss = 0.22952016, step = 4650 (0.125 sec)\n",
      "INFO:tensorflow:global_step/sec: 1047.74\n",
      "INFO:tensorflow:loss = 0.35320902, step = 4750 (0.107 sec)\n",
      "INFO:tensorflow:global_step/sec: 763.787\n",
      "INFO:tensorflow:loss = 0.21424723, step = 4850 (0.135 sec)\n",
      "INFO:tensorflow:global_step/sec: 657.905\n",
      "INFO:tensorflow:loss = 0.25267768, step = 4950 (0.146 sec)\n",
      "INFO:tensorflow:global_step/sec: 864.609\n",
      "INFO:tensorflow:loss = 0.33237287, step = 5050 (0.127 sec)\n",
      "INFO:tensorflow:global_step/sec: 843.097\n",
      "INFO:tensorflow:loss = 0.1194727, step = 5150 (0.094 sec)\n",
      "INFO:tensorflow:global_step/sec: 1010.04\n",
      "INFO:tensorflow:loss = 0.1710142, step = 5250 (0.115 sec)\n",
      "INFO:tensorflow:global_step/sec: 999.36\n",
      "INFO:tensorflow:loss = 0.27735066, step = 5350 (0.100 sec)\n",
      "INFO:tensorflow:global_step/sec: 865.089\n",
      "INFO:tensorflow:loss = 0.14682016, step = 5450 (0.100 sec)\n",
      "INFO:tensorflow:global_step/sec: 857.326\n",
      "INFO:tensorflow:loss = 0.2513659, step = 5550 (0.117 sec)\n",
      "INFO:tensorflow:global_step/sec: 918.414\n",
      "INFO:tensorflow:loss = 0.1579828, step = 5650 (0.109 sec)\n",
      "INFO:tensorflow:global_step/sec: 927.976\n",
      "INFO:tensorflow:loss = 0.18243815, step = 5750 (0.108 sec)\n",
      "INFO:tensorflow:global_step/sec: 989.839\n",
      "INFO:tensorflow:loss = 0.24640529, step = 5850 (0.117 sec)\n",
      "INFO:tensorflow:global_step/sec: 865.235\n",
      "INFO:tensorflow:loss = 0.26680237, step = 5950 (0.116 sec)\n",
      "INFO:tensorflow:global_step/sec: 857.445\n",
      "INFO:tensorflow:loss = 0.4464026, step = 6050 (0.101 sec)\n",
      "INFO:tensorflow:global_step/sec: 857.382\n",
      "INFO:tensorflow:loss = 0.355814, step = 6150 (0.117 sec)\n",
      "INFO:tensorflow:global_step/sec: 990.269\n",
      "INFO:tensorflow:loss = 0.26487708, step = 6250 (0.117 sec)\n",
      "INFO:tensorflow:global_step/sec: 857.039\n",
      "INFO:tensorflow:loss = 0.119466454, step = 6350 (0.101 sec)\n",
      "INFO:tensorflow:Calling checkpoint listeners before saving checkpoint 6397...\n",
      "INFO:tensorflow:Saving checkpoints for 6397 into ./dnnModel\\model.ckpt.\n",
      "INFO:tensorflow:Calling checkpoint listeners after saving checkpoint 6397...\n",
      "INFO:tensorflow:Loss for final step: 0.23715386.\n"
     ]
    },
    {
     "data": {
      "text/plain": [
       "<tensorflow_estimator.python.estimator.canned.dnn.DNNClassifierV2 at 0x1ee68bcd070>"
      ]
     },
     "execution_count": 12,
     "metadata": {},
     "output_type": "execute_result"
    }
   ],
   "source": [
    "dnn_estimator.train(input_fn=lambda : make_dataset(X_train, y_train, batch_size=32))"
   ]
  },
  {
   "cell_type": "code",
   "execution_count": 13,
   "metadata": {},
   "outputs": [
    {
     "name": "stdout",
     "output_type": "stream",
     "text": [
      "INFO:tensorflow:Calling model_fn.\n",
      "WARNING:tensorflow:Layer dnn is casting an input tensor from dtype float64 to the layer's dtype of float32, which is new behavior in TensorFlow 2.  The layer has dtype float32 because its dtype defaults to floatx.\n",
      "\n",
      "If you intended to run this layer in float32, you can safely ignore this warning. If in doubt, this warning is likely only an issue if you are porting a TensorFlow 1.X model to TensorFlow 2.\n",
      "\n",
      "To change all layers to have dtype float64 by default, call `tf.keras.backend.set_floatx('float64')`. To change just this layer, pass dtype='float64' to the layer constructor. If you are the author of this layer, you can disable autocasting by passing autocast=False to the base Layer constructor.\n",
      "\n",
      "INFO:tensorflow:Done calling model_fn.\n",
      "INFO:tensorflow:Starting evaluation at 2020-09-21T18:04:22Z\n",
      "INFO:tensorflow:Graph was finalized.\n",
      "INFO:tensorflow:Restoring parameters from ./dnnModel\\model.ckpt-6397\n",
      "INFO:tensorflow:Running local_init_op.\n",
      "INFO:tensorflow:Done running local_init_op.\n",
      "INFO:tensorflow:Inference Time : 0.39932s\n",
      "INFO:tensorflow:Finished evaluation at 2020-09-21-18:04:22\n",
      "INFO:tensorflow:Saving dict for global step 6397: accuracy = 0.7827715, accuracy_baseline = 0.5917603, auc = 0.8616015, auc_precision_recall = 0.8194231, average_loss = 0.69451654, global_step = 6397, label/mean = 0.4082397, loss = 0.66541535, precision = 0.8072289, prediction/mean = 0.36645186, recall = 0.6146789\n",
      "INFO:tensorflow:Saving 'checkpoint_path' summary for global step 6397: ./dnnModel\\model.ckpt-6397\n"
     ]
    },
    {
     "data": {
      "text/plain": [
       "{'accuracy': 0.7827715,\n",
       " 'accuracy_baseline': 0.5917603,\n",
       " 'auc': 0.8616015,\n",
       " 'auc_precision_recall': 0.8194231,\n",
       " 'average_loss': 0.69451654,\n",
       " 'label/mean': 0.4082397,\n",
       " 'loss': 0.66541535,\n",
       " 'precision': 0.8072289,\n",
       " 'prediction/mean': 0.36645186,\n",
       " 'recall': 0.6146789,\n",
       " 'global_step': 6397}"
      ]
     },
     "execution_count": 13,
     "metadata": {},
     "output_type": "execute_result"
    }
   ],
   "source": [
    "dnn_estimator.evaluate(input_fn=lambda : make_dataset(X_test, y_test, epoches=1, batch_size=32))"
   ]
  },
  {
   "cell_type": "code",
   "execution_count": null,
   "metadata": {},
   "outputs": [],
   "source": []
  }
 ],
 "metadata": {
  "kernelspec": {
   "display_name": "Python 3",
   "language": "python",
   "name": "python3"
  },
  "language_info": {
   "codemirror_mode": {
    "name": "ipython",
    "version": 3
   },
   "file_extension": ".py",
   "mimetype": "text/x-python",
   "name": "python",
   "nbconvert_exporter": "python",
   "pygments_lexer": "ipython3",
   "version": "3.8.3"
  }
 },
 "nbformat": 4,
 "nbformat_minor": 4
}
